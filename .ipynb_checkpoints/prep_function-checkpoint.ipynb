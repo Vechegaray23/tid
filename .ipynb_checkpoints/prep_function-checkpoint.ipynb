{
 "cells": [
  {
   "cell_type": "code",
   "execution_count": 1,
   "id": "c7e7b6f8-554b-4d60-bd3e-29937cfa0a0f",
   "metadata": {},
   "outputs": [
    {
     "name": "stdout",
     "output_type": "stream",
     "text": [
      "✔︎ Pipeline finished – rows: 77,144\n"
     ]
    }
   ],
   "source": [
    "#!/usr/bin/env python\n",
    "# -*- coding: utf-8 -*-\n",
    "\"\"\"Accretion‑rate preprocessing pipeline (modular).\n",
    "\n",
    "Produces the same CSV outputs as the original notebook but exposes three\n",
    "hyper‑parameters via the public function `run_pipeline`:\n",
    "    • STD_FACTOR      – strength of the Gaussian noise (×σ)\n",
    "    • DAYS_PER_ORBIT  – conversion factor from code‑units to days\n",
    "    • OBS_FREQ_DAYS   – cadence for the final down‑sampled series\n",
    "\n",
    "Outputs created/overwritten:\n",
    "    data/data_csv/all_data_clean.csv\n",
    "    data/data_csv/all_data_noisy.csv\n",
    "\"\"\"\n",
    "from __future__ import annotations\n",
    "\n",
    "import re\n",
    "import argparse\n",
    "from pathlib import Path\n",
    "from typing import Final, Iterable\n",
    "\n",
    "import numpy as np\n",
    "import pandas as pd\n",
    "\n",
    "###############################################################################\n",
    "# ── 1. File lists & column labels ────────────────────────────────────────────\n",
    "###############################################################################\n",
    "RAW_FILES: Final[list[str]] = [\n",
    "    \"data/original/mdot_series_q010_e000.txt\",\n",
    "    \"data/original/mdot_series_q025_e000.txt\",\n",
    "    \"data/original/mdot_series_q050_e000.txt\",\n",
    "    \"data/original/mdot_series_q100_e000.txt\",\n",
    "    \"data/original/mdot_series_q100_e050.txt\",\n",
    "    \"data/original/mdot_series_q100_e040.txt\",\n",
    "    \"data/original/mdot_series_q100_e030.txt\",\n",
    "    \"data/original/mdot_series_q100_e020.txt\",\n",
    "    \"data/original/mdot_series_q100_e010.txt\",\n",
    "    \"data/original/mdot_series_q100_e060.txt\",\n",
    "    \"data/original/mdot_series_q100_e070.txt\",\n",
    "]\n",
    "\n",
    "PATTERN: Final[str] = \"*_seg??.txt\"\n",
    "COLUMN_TIME: Final[str] = \"time\"\n",
    "COL_PRIMARY: Final[str] = \"acre_rate_primary\"\n",
    "COL_SECOND: Final[str] = \"acre_rate_secondary\"\n",
    "COL_MW: Final[str] = \"acre_rate_mass_weighted\"\n",
    "\n",
    "###############################################################################\n",
    "# ── 2. Low‑level helpers ─────────────────────────────────────────────────────\n",
    "###############################################################################\n",
    "\n",
    "def parse_filename(fname: str) -> tuple[float | None, float | None, int | None]:\n",
    "    \"\"\"Return (q, e, seg) triple encoded in *fname* or (None, None, None).\"\"\"\n",
    "    m = re.search(r\"q(\\d+)_e(\\d+)_seg(\\d+)\", fname)\n",
    "    if not m:\n",
    "        return None, None, None\n",
    "    q = int(m.group(1)) / 100.0\n",
    "    e = int(m.group(2)) / 100.0\n",
    "    s = int(m.group(3))\n",
    "    return q, e, s\n",
    "\n",
    "def segment_raw_file(path: str | Path, n_segments: int, out_dir: Path, fmt: str) -> None:\n",
    "    \"\"\"Split *path* into *n_segments* pieces saved inside *out_dir*.\"\"\"\n",
    "    raw = Path(path)\n",
    "    if not raw.exists():\n",
    "        print(f\"⚠️  {raw} missing – skipped\")\n",
    "        return\n",
    "\n",
    "    df = pd.read_csv(raw, delim_whitespace=True, header=None)\n",
    "    rows = len(df) // n_segments\n",
    "    for i in range(n_segments):\n",
    "        start, end = i * rows, (i + 1) * rows if i < n_segments - 1 else len(df)\n",
    "        seg_df = df.iloc[start:end]\n",
    "        seg_name = f\"{raw.stem}_seg{i+1:02d}{raw.suffix}\"\n",
    "        seg_df.to_csv(out_dir / seg_name, sep=\" \", header=False, index=False, float_format=fmt)\n",
    "\n",
    "def process_all_raw(raw_files: Iterable[str], n_segments: int, out_dir: Path, fmt: str) -> None:\n",
    "    out_dir.mkdir(parents=True, exist_ok=True)\n",
    "    for f in raw_files:\n",
    "        segment_raw_file(f, n_segments, out_dir, fmt)\n",
    "\n",
    "def load_segments(seg_dir: Path) -> pd.DataFrame:\n",
    "    frames: list[pd.DataFrame] = []\n",
    "    for f in sorted(seg_dir.glob(PATTERN)):\n",
    "        q, e, s = parse_filename(f.name)\n",
    "        if q is None:\n",
    "            continue\n",
    "        df = pd.read_csv(f, delim_whitespace=True, header=None, names=[COLUMN_TIME, COL_PRIMARY, COL_SECOND])\n",
    "        df[[\"q\", \"e\", \"seg\"]] = q, e, s\n",
    "        w1, w2 = 1 / (1 + q), q / (1 + q)\n",
    "        df[COL_MW] = w1 * df[COL_PRIMARY].abs() + w2 * df[COL_SECOND].abs()\n",
    "        df[\"id\"] = f\"{int(q*100):03d}_{int(e*100):03d}_{s:02d}\"\n",
    "        frames.append(df)\n",
    "    if not frames:\n",
    "        raise RuntimeError(\"No segment files found – check paths\")\n",
    "    all_df = pd.concat(frames, ignore_index=True)\n",
    "    return all_df[~all_df[\"seg\"].isin({1, 2})]\n",
    "\n",
    "def add_noise(df: pd.DataFrame, std_factor: float, seed: int | None) -> pd.DataFrame:\n",
    "    rng = np.random.default_rng(seed)\n",
    "    sigma = df[COL_MW].std(ddof=1)\n",
    "    if np.isclose(sigma, 0):\n",
    "        raise ValueError(\"σ=0 – cannot add noise\")\n",
    "    noisy = df.copy()\n",
    "    noisy[f\"{COL_MW}_clean\"] = noisy[COL_MW]\n",
    "    noisy[COL_MW] += rng.normal(0, std_factor * sigma, size=len(noisy))\n",
    "    return noisy\n",
    "\n",
    "def downsample(df: pd.DataFrame, days_per_orbit: float, obs_freq: float, keep: str) -> pd.DataFrame:\n",
    "    out = df.copy()\n",
    "    out[\"time_days\"] = out[COLUMN_TIME] * days_per_orbit\n",
    "    out[\"bucket\"] = (out[\"time_days\"] // obs_freq).astype(int)\n",
    "    out = (\n",
    "        out.sort_values(\"time_days\")\n",
    "           .drop_duplicates(subset=\"bucket\", keep=keep)\n",
    "           .reset_index(drop=True)\n",
    "           .drop(columns=\"bucket\")\n",
    "    )\n",
    "    return out\n",
    "\n",
    "\n",
    "import pandas as pd\n",
    "import plotly.express as px\n",
    "from pathlib import Path\n",
    "\n",
    "def plot_segment_by_id_interactive(\n",
    "    df: pd.DataFrame,\n",
    "    id: str,\n",
    "    y: str,\n",
    "    *,\n",
    "    save_path: str | None = None,\n",
    "):\n",
    "    \"\"\"\n",
    "    Dibuja el segmento identificado por `id` con Plotly.\n",
    "\n",
    "    Parameters\n",
    "    ----------\n",
    "    df : pd.DataFrame\n",
    "        DataFrame que contiene las series.\n",
    "    id : str\n",
    "        Identificador único del segmento (columna 'id').\n",
    "    y : str\n",
    "        Nombre de la columna que se mostrará en el eje Y.\n",
    "    save_path : str | None, optional\n",
    "        Ruta para guardar la figura (\".html\", \".png\", \".pdf\", ...).\n",
    "    \"\"\"\n",
    "    if y not in df.columns:\n",
    "        raise KeyError(f\"La columna «{y}» no existe en el DataFrame.\")\n",
    "\n",
    "    subset = df.loc[df[\"id\"] == id].sort_values(\"time\")\n",
    "    if subset.empty:\n",
    "        raise ValueError(f\"ID «{id}» no encontrado en el DataFrame.\")\n",
    "\n",
    "    # ── metadatos para el título ────────────────────────────────────────────\n",
    "    q_raw, e_raw, seg_raw = subset.loc[:, [\"q\", \"e\", \"seg\"]].iloc[0]\n",
    "\n",
    "    is_float = subset[\"q\"].max() <= 10  # escala de q/e: 1.00–0.10  o 100–10\n",
    "    q_disp = q_raw if is_float else q_raw / 100.0\n",
    "    e_disp = e_raw if is_float else e_raw / 100.0\n",
    "    seg_disp = int(round(seg_raw))\n",
    "\n",
    "    title = f\"ID {id}  (q={q_disp:.2f}, e={e_disp:.2f}, seg={seg_disp:02d})\"\n",
    "\n",
    "    # ── gráfico interactivo ────────────────────────────────────────────────\n",
    "    fig = px.line(\n",
    "        subset,\n",
    "        x=\"time\",\n",
    "        y=y,\n",
    "        title=title,\n",
    "        template=\"plotly_white\",\n",
    "    )\n",
    "    fig.update_xaxes(showgrid=True, gridcolor=\"rgba(0,0,0,0.1)\")\n",
    "    fig.update_yaxes(showgrid=True, gridcolor=\"rgba(0,0,0,0.1)\")\n",
    "    fig.update_traces(\n",
    "        hovertemplate=f\"<b>t = %{{x:.3f}}</b><br>{y} = %{{y:.3e}}<extra></extra>\"\n",
    "    )\n",
    "\n",
    "    # ── guardado opcional ──────────────────────────────────────────────────\n",
    "    if save_path:\n",
    "        out = Path(save_path)\n",
    "        if out.suffix.lower() == \".html\":\n",
    "            fig.write_html(out)\n",
    "        else:                          # png, pdf…\n",
    "            fig.write_image(out, engine=\"kaleido\", scale=2)\n",
    "        print(f\"✅ Figura guardada en {out}\")\n",
    "\n",
    "    return fig\n",
    "\n",
    "\n",
    "\n",
    "\n",
    "\n",
    "###############################################################################\n",
    "# ── 3. Orchestrator ──────────────────────────────────────────────────────────\n",
    "###############################################################################\n",
    "\n",
    "def run_pipeline(\n",
    "    *,\n",
    "    std_factor: float = 0.1,\n",
    "    days_per_orbit: float = 300.0,\n",
    "    obs_freq_days: float = 7.0,\n",
    "    random_seed: int | None = None,\n",
    "    n_segments: int = 20,\n",
    "    keep_policy: str = \"last\",\n",
    "    segments_dir: str | Path = \"data/segments\",\n",
    "    csv_dir: str | Path = \"data/data_csv\",\n",
    "    raw_files: Iterable[str] | None = None,\n",
    "    float_fmt: str = \"%.18e\",\n",
    ") -> pd.DataFrame:\n",
    "    \"\"\"Execute the full pipeline and return the final down‑sampled DataFrame.\"\"\"\n",
    "    segments_dir = Path(segments_dir)\n",
    "    csv_dir = Path(csv_dir)\n",
    "    raw_files = list(raw_files) if raw_files is not None else RAW_FILES\n",
    "\n",
    "    # 1. Split raw files\n",
    "    process_all_raw(raw_files, n_segments, segments_dir, float_fmt)\n",
    "\n",
    "    # 2. Load & tidy\n",
    "    tidy_df = load_segments(segments_dir)\n",
    "    csv_dir.mkdir(parents=True, exist_ok=True)\n",
    "    (csv_dir / \"all_data_clean.csv\").write_text(tidy_df.to_csv(index=False))\n",
    "\n",
    "    # 3. Noise\n",
    "    noisy_df = add_noise(tidy_df, std_factor, random_seed)\n",
    "\n",
    "    # 4. Down‑sample\n",
    "    final_df = downsample(noisy_df, days_per_orbit, obs_freq_days, keep_policy)\n",
    "    (csv_dir / \"all_data_noisy.csv\").write_text(final_df.to_csv(index=False))\n",
    "\n",
    "    return final_df\n",
    "\n",
    "###############################################################################\n",
    "# ── 4. CLI helper (optional) ────────────────────────────────────────────────\n",
    "###############################################################################\n",
    "\n",
    "if __name__ == \"__main__\":  # pragma: no cover\n",
    "    # Allow execution from Jupyter (`%run script.py`) without crashing on the\n",
    "    # extra \"-f\" argument that the kernel appends.\n",
    "    import argparse, sys\n",
    "\n",
    "    parser = argparse.ArgumentParser(\n",
    "        description=\"Accretion pipeline – CLI (extra args are ignored)\",\n",
    "        add_help=True,\n",
    "    )\n",
    "    parser.add_argument(\"--std\", type=float, default=0.1, help=\"STD_FACTOR\")\n",
    "    parser.add_argument(\"--days\", type=float, default=300.0, help=\"DAYS_PER_ORBIT\")\n",
    "    parser.add_argument(\"--freq\", type=float, default=7.0, help=\"OBS_FREQ_DAYS\")\n",
    "    parser.add_argument(\"--seed\", type=int, default=None, help=\"Random seed (optional)\")\n",
    "\n",
    "    # Parse *known* args and silently ignore the rest (e.g., -f <connection_file>)\n",
    "    args, _ = parser.parse_known_args()\n",
    "\n",
    "    df_out = run_pipeline(\n",
    "        std_factor=args.std,\n",
    "        days_per_orbit=args.days,\n",
    "        obs_freq_days=args.freq,\n",
    "        random_seed=args.seed,\n",
    "    )\n",
    "    print(f\"✔︎ Pipeline finished – rows: {len(df_out):,}\")\n"
   ]
  },
  {
   "cell_type": "code",
   "execution_count": 2,
   "id": "512b8f85-3698-463a-aa4f-54b8c9b80da8",
   "metadata": {},
   "outputs": [],
   "source": [
    "df = run_pipeline(std_factor=0.12, days_per_orbit=30, obs_freq_days=7)"
   ]
  },
  {
   "cell_type": "code",
   "execution_count": 3,
   "id": "90c52a7e-830e-40a8-a177-35e751f4e558",
   "metadata": {
    "scrolled": true
   },
   "outputs": [
    {
     "data": {
      "text/html": [
       "<div>\n",
       "<style scoped>\n",
       "    .dataframe tbody tr th:only-of-type {\n",
       "        vertical-align: middle;\n",
       "    }\n",
       "\n",
       "    .dataframe tbody tr th {\n",
       "        vertical-align: top;\n",
       "    }\n",
       "\n",
       "    .dataframe thead th {\n",
       "        text-align: right;\n",
       "    }\n",
       "</style>\n",
       "<table border=\"1\" class=\"dataframe\">\n",
       "  <thead>\n",
       "    <tr style=\"text-align: right;\">\n",
       "      <th></th>\n",
       "      <th>time</th>\n",
       "      <th>acre_rate_primary</th>\n",
       "      <th>acre_rate_secondary</th>\n",
       "      <th>q</th>\n",
       "      <th>e</th>\n",
       "      <th>seg</th>\n",
       "      <th>acre_rate_mass_weighted</th>\n",
       "      <th>id</th>\n",
       "      <th>acre_rate_mass_weighted_clean</th>\n",
       "      <th>time_days</th>\n",
       "    </tr>\n",
       "  </thead>\n",
       "  <tbody>\n",
       "    <tr>\n",
       "      <th>0</th>\n",
       "      <td>200.197154</td>\n",
       "      <td>-0.009484</td>\n",
       "      <td>-0.014826</td>\n",
       "      <td>1.0</td>\n",
       "      <td>0.7</td>\n",
       "      <td>3</td>\n",
       "      <td>0.011539</td>\n",
       "      <td>100_070_03</td>\n",
       "      <td>0.012155</td>\n",
       "      <td>6005.914615</td>\n",
       "    </tr>\n",
       "    <tr>\n",
       "      <th>1</th>\n",
       "      <td>200.432863</td>\n",
       "      <td>-0.004393</td>\n",
       "      <td>-0.001328</td>\n",
       "      <td>1.0</td>\n",
       "      <td>0.4</td>\n",
       "      <td>3</td>\n",
       "      <td>0.003014</td>\n",
       "      <td>100_040_03</td>\n",
       "      <td>0.002860</td>\n",
       "      <td>6012.985904</td>\n",
       "    </tr>\n",
       "    <tr>\n",
       "      <th>2</th>\n",
       "      <td>200.664151</td>\n",
       "      <td>-0.006130</td>\n",
       "      <td>-0.001199</td>\n",
       "      <td>1.0</td>\n",
       "      <td>0.5</td>\n",
       "      <td>3</td>\n",
       "      <td>0.003790</td>\n",
       "      <td>100_050_03</td>\n",
       "      <td>0.003664</td>\n",
       "      <td>6019.924537</td>\n",
       "    </tr>\n",
       "    <tr>\n",
       "      <th>3</th>\n",
       "      <td>200.895366</td>\n",
       "      <td>-0.003998</td>\n",
       "      <td>-0.009565</td>\n",
       "      <td>0.1</td>\n",
       "      <td>0.0</td>\n",
       "      <td>3</td>\n",
       "      <td>0.004605</td>\n",
       "      <td>010_000_03</td>\n",
       "      <td>0.004504</td>\n",
       "      <td>6026.860978</td>\n",
       "    </tr>\n",
       "    <tr>\n",
       "      <th>4</th>\n",
       "      <td>201.133214</td>\n",
       "      <td>-0.006655</td>\n",
       "      <td>-0.023746</td>\n",
       "      <td>1.0</td>\n",
       "      <td>0.6</td>\n",
       "      <td>3</td>\n",
       "      <td>0.015188</td>\n",
       "      <td>100_060_03</td>\n",
       "      <td>0.015201</td>\n",
       "      <td>6033.996424</td>\n",
       "    </tr>\n",
       "    <tr>\n",
       "      <th>...</th>\n",
       "      <td>...</td>\n",
       "      <td>...</td>\n",
       "      <td>...</td>\n",
       "      <td>...</td>\n",
       "      <td>...</td>\n",
       "      <td>...</td>\n",
       "      <td>...</td>\n",
       "      <td>...</td>\n",
       "      <td>...</td>\n",
       "      <td>...</td>\n",
       "    </tr>\n",
       "    <tr>\n",
       "      <th>7710</th>\n",
       "      <td>1999.195359</td>\n",
       "      <td>-0.004484</td>\n",
       "      <td>-0.003125</td>\n",
       "      <td>1.0</td>\n",
       "      <td>0.4</td>\n",
       "      <td>20</td>\n",
       "      <td>0.003973</td>\n",
       "      <td>100_040_20</td>\n",
       "      <td>0.003805</td>\n",
       "      <td>59975.860759</td>\n",
       "    </tr>\n",
       "    <tr>\n",
       "      <th>7711</th>\n",
       "      <td>1999.431594</td>\n",
       "      <td>-0.004613</td>\n",
       "      <td>-0.002376</td>\n",
       "      <td>1.0</td>\n",
       "      <td>0.2</td>\n",
       "      <td>20</td>\n",
       "      <td>0.004014</td>\n",
       "      <td>100_020_20</td>\n",
       "      <td>0.003495</td>\n",
       "      <td>59982.947821</td>\n",
       "    </tr>\n",
       "    <tr>\n",
       "      <th>7712</th>\n",
       "      <td>1999.665546</td>\n",
       "      <td>-0.002724</td>\n",
       "      <td>-0.001446</td>\n",
       "      <td>1.0</td>\n",
       "      <td>0.3</td>\n",
       "      <td>20</td>\n",
       "      <td>0.002021</td>\n",
       "      <td>100_030_20</td>\n",
       "      <td>0.002085</td>\n",
       "      <td>59989.966382</td>\n",
       "    </tr>\n",
       "    <tr>\n",
       "      <th>7713</th>\n",
       "      <td>1999.894517</td>\n",
       "      <td>-0.003357</td>\n",
       "      <td>-0.006907</td>\n",
       "      <td>0.1</td>\n",
       "      <td>0.0</td>\n",
       "      <td>20</td>\n",
       "      <td>0.003867</td>\n",
       "      <td>010_000_20</td>\n",
       "      <td>0.003680</td>\n",
       "      <td>59996.835507</td>\n",
       "    </tr>\n",
       "    <tr>\n",
       "      <th>7714</th>\n",
       "      <td>2000.016427</td>\n",
       "      <td>-0.003348</td>\n",
       "      <td>-0.004819</td>\n",
       "      <td>1.0</td>\n",
       "      <td>0.1</td>\n",
       "      <td>20</td>\n",
       "      <td>0.003992</td>\n",
       "      <td>100_010_20</td>\n",
       "      <td>0.004084</td>\n",
       "      <td>60000.492808</td>\n",
       "    </tr>\n",
       "  </tbody>\n",
       "</table>\n",
       "<p>7715 rows × 10 columns</p>\n",
       "</div>"
      ],
      "text/plain": [
       "             time  acre_rate_primary  acre_rate_secondary    q    e  seg  \\\n",
       "0      200.197154          -0.009484            -0.014826  1.0  0.7    3   \n",
       "1      200.432863          -0.004393            -0.001328  1.0  0.4    3   \n",
       "2      200.664151          -0.006130            -0.001199  1.0  0.5    3   \n",
       "3      200.895366          -0.003998            -0.009565  0.1  0.0    3   \n",
       "4      201.133214          -0.006655            -0.023746  1.0  0.6    3   \n",
       "...           ...                ...                  ...  ...  ...  ...   \n",
       "7710  1999.195359          -0.004484            -0.003125  1.0  0.4   20   \n",
       "7711  1999.431594          -0.004613            -0.002376  1.0  0.2   20   \n",
       "7712  1999.665546          -0.002724            -0.001446  1.0  0.3   20   \n",
       "7713  1999.894517          -0.003357            -0.006907  0.1  0.0   20   \n",
       "7714  2000.016427          -0.003348            -0.004819  1.0  0.1   20   \n",
       "\n",
       "      acre_rate_mass_weighted          id  acre_rate_mass_weighted_clean  \\\n",
       "0                    0.011539  100_070_03                       0.012155   \n",
       "1                    0.003014  100_040_03                       0.002860   \n",
       "2                    0.003790  100_050_03                       0.003664   \n",
       "3                    0.004605  010_000_03                       0.004504   \n",
       "4                    0.015188  100_060_03                       0.015201   \n",
       "...                       ...         ...                            ...   \n",
       "7710                 0.003973  100_040_20                       0.003805   \n",
       "7711                 0.004014  100_020_20                       0.003495   \n",
       "7712                 0.002021  100_030_20                       0.002085   \n",
       "7713                 0.003867  010_000_20                       0.003680   \n",
       "7714                 0.003992  100_010_20                       0.004084   \n",
       "\n",
       "         time_days  \n",
       "0      6005.914615  \n",
       "1      6012.985904  \n",
       "2      6019.924537  \n",
       "3      6026.860978  \n",
       "4      6033.996424  \n",
       "...            ...  \n",
       "7710  59975.860759  \n",
       "7711  59982.947821  \n",
       "7712  59989.966382  \n",
       "7713  59996.835507  \n",
       "7714  60000.492808  \n",
       "\n",
       "[7715 rows x 10 columns]"
      ]
     },
     "execution_count": 3,
     "metadata": {},
     "output_type": "execute_result"
    }
   ],
   "source": [
    "df"
   ]
  },
  {
   "cell_type": "code",
   "execution_count": 4,
   "id": "a415f190-43d7-40e0-ad8a-e8428fbf6040",
   "metadata": {},
   "outputs": [
    {
     "data": {
      "application/vnd.plotly.v1+json": {
       "config": {
        "plotlyServerURL": "https://plot.ly"
       },
       "data": [
        {
         "hovertemplate": "<b>t = %{x:.3f}</b><br>acre_rate_mass_weighted = %{y:.3e}<extra></extra>",
         "legendgroup": "",
         "line": {
          "color": "#636efa",
          "dash": "solid"
         },
         "marker": {
          "symbol": "circle"
         },
         "mode": "lines",
         "name": "",
         "orientation": "v",
         "showlegend": false,
         "type": "scatter",
         "x": {
          "_inputArray": {
           "0": 200.6641512335061,
           "1": 202.06620301400648,
           "10": 228.66305636264167,
           "11": 228.8947705941817,
           "12": 229.13160872553425,
           "13": 231.2310964708624,
           "14": 237.53191102515305,
           "15": 237.99284826217303,
           "16": 239.16655700882168,
           "17": 240.09256897874633,
           "18": 241.26553459283076,
           "19": 241.49687433085907,
           "2": 204.62769338485185,
           "20": 241.96619812976033,
           "21": 243.36537146064504,
           "22": 243.5967713616812,
           "23": 247.566191005896,
           "24": 249.19742600969184,
           "25": 249.89552253518144,
           "26": 250.59873252851733,
           "27": 252.69609107953264,
           "28": 258.5324407689035,
           "29": 260.63009301601915,
           "3": 206.2663059250286,
           "30": 263.4330306335749,
           "31": 263.6650165311223,
           "32": 265.29813259353926,
           "33": 269.49395142596603,
           "34": 273.46631750138647,
           "35": 273.93166570246643,
           "36": 277.89180546053046,
           "37": 278.3640039030991,
           "38": 278.8312320231841,
           "39": 280.23277185220223,
           "4": 206.49790946525977,
           "40": 280.695378731056,
           "41": 280.9316951872758,
           "42": 281.63118853320486,
           "43": 283.96404432909395,
           "44": 293.296230967612,
           "45": 295.6331059516487,
           "46": 299.3662702327428,
           "5": 206.7299368707184,
           "6": 209.76322271466887,
           "7": 220.26296659359448,
           "8": 221.1959360244004,
           "9": 224.23226649145937,
           "bdata": "N3AWukAVaUC+gchVHkJpQFb7bxAWlGlAU9cAlIXIaUAbtdTf7s9pQCp8kaRb12lAJuIKUmw4akC57eo4aohrQA4doBtFpmtAyhgjum4HbEBsHvrBN5VsQNrt8PWhnGxANoGAIzakbEBnEm0kZedsQEEtRWoFsW1Ajv23acW/bUDhOV1vVOVtQN4KOFP2Am5ARgVnQn8obkBfKP9k5i9uQN0YVxjrPm5Al0t9H7FrbkCGM0HAGHNuQJuzmTwe8m5AM+BZUFEmb0DuLeAeqDxvQBGhHtEoU29AKbTMYEaWb0D2l5zghChwQNgTatwUSnBA7ZWHse12cECEx1/oo3pwQPexribFlHBAY0WcOefXcEAeIFcJdhdxQF+uSxroHnFA9nXN1URecUDVtsH10mVxQGsv87lMbXFANUr6brmDcUCDw3JFIItxQAtzNjnojnFAmrslWRmacUClFb+5bL9xQEzfrly9VHJAv9O0MyF6ckAP8iw+3LVyQA==",
           "dtype": "f8",
           "shape": "47"
          },
          "bdata": "N3AWukAVaUC+gchVHkJpQFb7bxAWlGlAU9cAlIXIaUAbtdTf7s9pQCp8kaRb12lAJuIKUmw4akC57eo4aohrQA4doBtFpmtAyhgjum4HbEBsHvrBN5VsQNrt8PWhnGxANoGAIzakbEBnEm0kZedsQEEtRWoFsW1Ajv23acW/bUDhOV1vVOVtQN4KOFP2Am5ARgVnQn8obkBfKP9k5i9uQN0YVxjrPm5Al0t9H7FrbkCGM0HAGHNuQJuzmTwe8m5AM+BZUFEmb0DuLeAeqDxvQBGhHtEoU29AKbTMYEaWb0D2l5zghChwQNgTatwUSnBA7ZWHse12cECEx1/oo3pwQPexribFlHBAY0WcOefXcEAeIFcJdhdxQF+uSxroHnFA9nXN1URecUDVtsH10mVxQGsv87lMbXFANUr6brmDcUCDw3JFIItxQAtzNjnojnFAmrslWRmacUClFb+5bL9xQEzfrly9VHJAv9O0MyF6ckAP8iw+3LVyQA==",
          "dtype": "f8"
         },
         "xaxis": "x",
         "y": {
          "_inputArray": {
           "0": 0.0037897261684459427,
           "1": 0.008301267491465723,
           "10": 0.00412434418411308,
           "11": 0.0038200501134635456,
           "12": 0.00832383256090203,
           "13": 0.008266939282267996,
           "14": 0.005233813128111657,
           "15": 0.005430805395424071,
           "16": 0.008842915417228533,
           "17": 0.008649584289420096,
           "18": 0.008133062788923643,
           "19": 0.005859702953086549,
           "2": 0.004203550270409315,
           "20": 0.006048136717518101,
           "21": 0.007764764376144858,
           "22": 0.005231952230221035,
           "23": 0.0050871585129392514,
           "24": 0.008325773749336863,
           "25": 0.0035508601092561153,
           "26": 0.003801460189390675,
           "27": 0.0039490467416713,
           "28": 0.004960242641199743,
           "29": 0.004892315235716546,
           "3": 0.007868413336215975,
           "30": 0.0074207497023348,
           "31": 0.005480182671514203,
           "32": 0.010546752136121482,
           "33": 0.007611683583739864,
           "34": 0.007283071238857261,
           "35": 0.010271402825640421,
           "36": 0.009809843344680566,
           "37": 0.009743852528262759,
           "38": 0.006737775653944949,
           "39": 0.01171322404276674,
           "4": 0.005769957983384858,
           "40": 0.005344921177548191,
           "41": 0.009108097490573938,
           "42": 0.00608002540246028,
           "43": 0.011436611337913512,
           "44": 0.010304963524291388,
           "45": 0.006636426681972375,
           "46": 0.009860082772701466,
           "5": 0.0037864071638758546,
           "6": 0.004527738609946124,
           "7": 0.007884057515413366,
           "8": 0.007997720934535376,
           "9": 0.008414819801762466,
           "bdata": "u2KJvqELbz/sKSFDQQCBP4oYBO+9N3E/p4maj1AdgD93K2hNPaJ3P42gBd6rBG8/X6gSlK2Lcj+ZA4JJhCWAP17V2e4bYYA/qGvN/sk7gT9XHzY2sORwPxcWzsk5S28/ZPoC5RUMgT9VxtfOQe6AP3hyfwMNcHU/hlEHuZw+dj+edSUEPByCPwUrLY3ftoE/r9SONRGogD9htsMIWAB4P1akdFbuxXg/rzHoEPLNfz+wi5F7GW51P9wPFbdF1nQ/Rwa9bxoNgT8zdVeBsRZtPz1nGGY9JG8/ipOxKeAscD9obsn+MFF0PwmoBt/2CXQ/uYSIVDhlfj+dqZpVY3J2P9h+BxyJmYU/+WD0wG0tfz9WtpCM2tR9PzvnwlksCYU/KxnB4i4XhD+dRpG/lfSDP3m8TeERmXs/tiOOURr9hz+1KoRajuR1P3htziZEp4I/RNsyZF7neD8+IGP9E2yHP6AglsrEGoU/aGL7OMwuez9JWlvohTGEPw==",
           "dtype": "f8",
           "shape": "47"
          },
          "bdata": "u2KJvqELbz/sKSFDQQCBP4oYBO+9N3E/p4maj1AdgD93K2hNPaJ3P42gBd6rBG8/X6gSlK2Lcj+ZA4JJhCWAP17V2e4bYYA/qGvN/sk7gT9XHzY2sORwPxcWzsk5S28/ZPoC5RUMgT9VxtfOQe6AP3hyfwMNcHU/hlEHuZw+dj+edSUEPByCPwUrLY3ftoE/r9SONRGogD9htsMIWAB4P1akdFbuxXg/rzHoEPLNfz+wi5F7GW51P9wPFbdF1nQ/Rwa9bxoNgT8zdVeBsRZtPz1nGGY9JG8/ipOxKeAscD9obsn+MFF0PwmoBt/2CXQ/uYSIVDhlfj+dqZpVY3J2P9h+BxyJmYU/+WD0wG0tfz9WtpCM2tR9PzvnwlksCYU/KxnB4i4XhD+dRpG/lfSDP3m8TeERmXs/tiOOURr9hz+1KoRajuR1P3htziZEp4I/RNsyZF7neD8+IGP9E2yHP6AglsrEGoU/aGL7OMwuez9JWlvohTGEPw==",
          "dtype": "f8"
         },
         "yaxis": "y"
        }
       ],
       "layout": {
        "autosize": true,
        "legend": {
         "tracegroupgap": 0
        },
        "template": {
         "data": {
          "bar": [
           {
            "error_x": {
             "color": "#2a3f5f"
            },
            "error_y": {
             "color": "#2a3f5f"
            },
            "marker": {
             "line": {
              "color": "white",
              "width": 0.5
             },
             "pattern": {
              "fillmode": "overlay",
              "size": 10,
              "solidity": 0.2
             }
            },
            "type": "bar"
           }
          ],
          "barpolar": [
           {
            "marker": {
             "line": {
              "color": "white",
              "width": 0.5
             },
             "pattern": {
              "fillmode": "overlay",
              "size": 10,
              "solidity": 0.2
             }
            },
            "type": "barpolar"
           }
          ],
          "carpet": [
           {
            "aaxis": {
             "endlinecolor": "#2a3f5f",
             "gridcolor": "#C8D4E3",
             "linecolor": "#C8D4E3",
             "minorgridcolor": "#C8D4E3",
             "startlinecolor": "#2a3f5f"
            },
            "baxis": {
             "endlinecolor": "#2a3f5f",
             "gridcolor": "#C8D4E3",
             "linecolor": "#C8D4E3",
             "minorgridcolor": "#C8D4E3",
             "startlinecolor": "#2a3f5f"
            },
            "type": "carpet"
           }
          ],
          "choropleth": [
           {
            "colorbar": {
             "outlinewidth": 0,
             "ticks": ""
            },
            "type": "choropleth"
           }
          ],
          "contour": [
           {
            "colorbar": {
             "outlinewidth": 0,
             "ticks": ""
            },
            "colorscale": [
             [
              0,
              "#0d0887"
             ],
             [
              0.1111111111111111,
              "#46039f"
             ],
             [
              0.2222222222222222,
              "#7201a8"
             ],
             [
              0.3333333333333333,
              "#9c179e"
             ],
             [
              0.4444444444444444,
              "#bd3786"
             ],
             [
              0.5555555555555556,
              "#d8576b"
             ],
             [
              0.6666666666666666,
              "#ed7953"
             ],
             [
              0.7777777777777778,
              "#fb9f3a"
             ],
             [
              0.8888888888888888,
              "#fdca26"
             ],
             [
              1,
              "#f0f921"
             ]
            ],
            "type": "contour"
           }
          ],
          "contourcarpet": [
           {
            "colorbar": {
             "outlinewidth": 0,
             "ticks": ""
            },
            "type": "contourcarpet"
           }
          ],
          "heatmap": [
           {
            "colorbar": {
             "outlinewidth": 0,
             "ticks": ""
            },
            "colorscale": [
             [
              0,
              "#0d0887"
             ],
             [
              0.1111111111111111,
              "#46039f"
             ],
             [
              0.2222222222222222,
              "#7201a8"
             ],
             [
              0.3333333333333333,
              "#9c179e"
             ],
             [
              0.4444444444444444,
              "#bd3786"
             ],
             [
              0.5555555555555556,
              "#d8576b"
             ],
             [
              0.6666666666666666,
              "#ed7953"
             ],
             [
              0.7777777777777778,
              "#fb9f3a"
             ],
             [
              0.8888888888888888,
              "#fdca26"
             ],
             [
              1,
              "#f0f921"
             ]
            ],
            "type": "heatmap"
           }
          ],
          "histogram": [
           {
            "marker": {
             "pattern": {
              "fillmode": "overlay",
              "size": 10,
              "solidity": 0.2
             }
            },
            "type": "histogram"
           }
          ],
          "histogram2d": [
           {
            "colorbar": {
             "outlinewidth": 0,
             "ticks": ""
            },
            "colorscale": [
             [
              0,
              "#0d0887"
             ],
             [
              0.1111111111111111,
              "#46039f"
             ],
             [
              0.2222222222222222,
              "#7201a8"
             ],
             [
              0.3333333333333333,
              "#9c179e"
             ],
             [
              0.4444444444444444,
              "#bd3786"
             ],
             [
              0.5555555555555556,
              "#d8576b"
             ],
             [
              0.6666666666666666,
              "#ed7953"
             ],
             [
              0.7777777777777778,
              "#fb9f3a"
             ],
             [
              0.8888888888888888,
              "#fdca26"
             ],
             [
              1,
              "#f0f921"
             ]
            ],
            "type": "histogram2d"
           }
          ],
          "histogram2dcontour": [
           {
            "colorbar": {
             "outlinewidth": 0,
             "ticks": ""
            },
            "colorscale": [
             [
              0,
              "#0d0887"
             ],
             [
              0.1111111111111111,
              "#46039f"
             ],
             [
              0.2222222222222222,
              "#7201a8"
             ],
             [
              0.3333333333333333,
              "#9c179e"
             ],
             [
              0.4444444444444444,
              "#bd3786"
             ],
             [
              0.5555555555555556,
              "#d8576b"
             ],
             [
              0.6666666666666666,
              "#ed7953"
             ],
             [
              0.7777777777777778,
              "#fb9f3a"
             ],
             [
              0.8888888888888888,
              "#fdca26"
             ],
             [
              1,
              "#f0f921"
             ]
            ],
            "type": "histogram2dcontour"
           }
          ],
          "mesh3d": [
           {
            "colorbar": {
             "outlinewidth": 0,
             "ticks": ""
            },
            "type": "mesh3d"
           }
          ],
          "parcoords": [
           {
            "line": {
             "colorbar": {
              "outlinewidth": 0,
              "ticks": ""
             }
            },
            "type": "parcoords"
           }
          ],
          "pie": [
           {
            "automargin": true,
            "type": "pie"
           }
          ],
          "scatter": [
           {
            "fillpattern": {
             "fillmode": "overlay",
             "size": 10,
             "solidity": 0.2
            },
            "type": "scatter"
           }
          ],
          "scatter3d": [
           {
            "line": {
             "colorbar": {
              "outlinewidth": 0,
              "ticks": ""
             }
            },
            "marker": {
             "colorbar": {
              "outlinewidth": 0,
              "ticks": ""
             }
            },
            "type": "scatter3d"
           }
          ],
          "scattercarpet": [
           {
            "marker": {
             "colorbar": {
              "outlinewidth": 0,
              "ticks": ""
             }
            },
            "type": "scattercarpet"
           }
          ],
          "scattergeo": [
           {
            "marker": {
             "colorbar": {
              "outlinewidth": 0,
              "ticks": ""
             }
            },
            "type": "scattergeo"
           }
          ],
          "scattergl": [
           {
            "marker": {
             "colorbar": {
              "outlinewidth": 0,
              "ticks": ""
             }
            },
            "type": "scattergl"
           }
          ],
          "scattermap": [
           {
            "marker": {
             "colorbar": {
              "outlinewidth": 0,
              "ticks": ""
             }
            },
            "type": "scattermap"
           }
          ],
          "scattermapbox": [
           {
            "marker": {
             "colorbar": {
              "outlinewidth": 0,
              "ticks": ""
             }
            },
            "type": "scattermapbox"
           }
          ],
          "scatterpolar": [
           {
            "marker": {
             "colorbar": {
              "outlinewidth": 0,
              "ticks": ""
             }
            },
            "type": "scatterpolar"
           }
          ],
          "scatterpolargl": [
           {
            "marker": {
             "colorbar": {
              "outlinewidth": 0,
              "ticks": ""
             }
            },
            "type": "scatterpolargl"
           }
          ],
          "scatterternary": [
           {
            "marker": {
             "colorbar": {
              "outlinewidth": 0,
              "ticks": ""
             }
            },
            "type": "scatterternary"
           }
          ],
          "surface": [
           {
            "colorbar": {
             "outlinewidth": 0,
             "ticks": ""
            },
            "colorscale": [
             [
              0,
              "#0d0887"
             ],
             [
              0.1111111111111111,
              "#46039f"
             ],
             [
              0.2222222222222222,
              "#7201a8"
             ],
             [
              0.3333333333333333,
              "#9c179e"
             ],
             [
              0.4444444444444444,
              "#bd3786"
             ],
             [
              0.5555555555555556,
              "#d8576b"
             ],
             [
              0.6666666666666666,
              "#ed7953"
             ],
             [
              0.7777777777777778,
              "#fb9f3a"
             ],
             [
              0.8888888888888888,
              "#fdca26"
             ],
             [
              1,
              "#f0f921"
             ]
            ],
            "type": "surface"
           }
          ],
          "table": [
           {
            "cells": {
             "fill": {
              "color": "#EBF0F8"
             },
             "line": {
              "color": "white"
             }
            },
            "header": {
             "fill": {
              "color": "#C8D4E3"
             },
             "line": {
              "color": "white"
             }
            },
            "type": "table"
           }
          ]
         },
         "layout": {
          "annotationdefaults": {
           "arrowcolor": "#2a3f5f",
           "arrowhead": 0,
           "arrowwidth": 1
          },
          "autotypenumbers": "strict",
          "coloraxis": {
           "colorbar": {
            "outlinewidth": 0,
            "ticks": ""
           }
          },
          "colorscale": {
           "diverging": [
            [
             0,
             "#8e0152"
            ],
            [
             0.1,
             "#c51b7d"
            ],
            [
             0.2,
             "#de77ae"
            ],
            [
             0.3,
             "#f1b6da"
            ],
            [
             0.4,
             "#fde0ef"
            ],
            [
             0.5,
             "#f7f7f7"
            ],
            [
             0.6,
             "#e6f5d0"
            ],
            [
             0.7,
             "#b8e186"
            ],
            [
             0.8,
             "#7fbc41"
            ],
            [
             0.9,
             "#4d9221"
            ],
            [
             1,
             "#276419"
            ]
           ],
           "sequential": [
            [
             0,
             "#0d0887"
            ],
            [
             0.1111111111111111,
             "#46039f"
            ],
            [
             0.2222222222222222,
             "#7201a8"
            ],
            [
             0.3333333333333333,
             "#9c179e"
            ],
            [
             0.4444444444444444,
             "#bd3786"
            ],
            [
             0.5555555555555556,
             "#d8576b"
            ],
            [
             0.6666666666666666,
             "#ed7953"
            ],
            [
             0.7777777777777778,
             "#fb9f3a"
            ],
            [
             0.8888888888888888,
             "#fdca26"
            ],
            [
             1,
             "#f0f921"
            ]
           ],
           "sequentialminus": [
            [
             0,
             "#0d0887"
            ],
            [
             0.1111111111111111,
             "#46039f"
            ],
            [
             0.2222222222222222,
             "#7201a8"
            ],
            [
             0.3333333333333333,
             "#9c179e"
            ],
            [
             0.4444444444444444,
             "#bd3786"
            ],
            [
             0.5555555555555556,
             "#d8576b"
            ],
            [
             0.6666666666666666,
             "#ed7953"
            ],
            [
             0.7777777777777778,
             "#fb9f3a"
            ],
            [
             0.8888888888888888,
             "#fdca26"
            ],
            [
             1,
             "#f0f921"
            ]
           ]
          },
          "colorway": [
           "#636efa",
           "#EF553B",
           "#00cc96",
           "#ab63fa",
           "#FFA15A",
           "#19d3f3",
           "#FF6692",
           "#B6E880",
           "#FF97FF",
           "#FECB52"
          ],
          "font": {
           "color": "#2a3f5f"
          },
          "geo": {
           "bgcolor": "white",
           "lakecolor": "white",
           "landcolor": "white",
           "showlakes": true,
           "showland": true,
           "subunitcolor": "#C8D4E3"
          },
          "hoverlabel": {
           "align": "left"
          },
          "hovermode": "closest",
          "mapbox": {
           "style": "light"
          },
          "paper_bgcolor": "white",
          "plot_bgcolor": "white",
          "polar": {
           "angularaxis": {
            "gridcolor": "#EBF0F8",
            "linecolor": "#EBF0F8",
            "ticks": ""
           },
           "bgcolor": "white",
           "radialaxis": {
            "gridcolor": "#EBF0F8",
            "linecolor": "#EBF0F8",
            "ticks": ""
           }
          },
          "scene": {
           "xaxis": {
            "backgroundcolor": "white",
            "gridcolor": "#DFE8F3",
            "gridwidth": 2,
            "linecolor": "#EBF0F8",
            "showbackground": true,
            "ticks": "",
            "zerolinecolor": "#EBF0F8"
           },
           "yaxis": {
            "backgroundcolor": "white",
            "gridcolor": "#DFE8F3",
            "gridwidth": 2,
            "linecolor": "#EBF0F8",
            "showbackground": true,
            "ticks": "",
            "zerolinecolor": "#EBF0F8"
           },
           "zaxis": {
            "backgroundcolor": "white",
            "gridcolor": "#DFE8F3",
            "gridwidth": 2,
            "linecolor": "#EBF0F8",
            "showbackground": true,
            "ticks": "",
            "zerolinecolor": "#EBF0F8"
           }
          },
          "shapedefaults": {
           "line": {
            "color": "#2a3f5f"
           }
          },
          "ternary": {
           "aaxis": {
            "gridcolor": "#DFE8F3",
            "linecolor": "#A2B1C6",
            "ticks": ""
           },
           "baxis": {
            "gridcolor": "#DFE8F3",
            "linecolor": "#A2B1C6",
            "ticks": ""
           },
           "bgcolor": "white",
           "caxis": {
            "gridcolor": "#DFE8F3",
            "linecolor": "#A2B1C6",
            "ticks": ""
           }
          },
          "title": {
           "x": 0.05
          },
          "xaxis": {
           "automargin": true,
           "gridcolor": "#EBF0F8",
           "linecolor": "#EBF0F8",
           "ticks": "",
           "title": {
            "standoff": 15
           },
           "zerolinecolor": "#EBF0F8",
           "zerolinewidth": 2
          },
          "yaxis": {
           "automargin": true,
           "gridcolor": "#EBF0F8",
           "linecolor": "#EBF0F8",
           "ticks": "",
           "title": {
            "standoff": 15
           },
           "zerolinecolor": "#EBF0F8",
           "zerolinewidth": 2
          }
         }
        },
        "title": {
         "text": "ID 100_050_03  (q=1.00, e=0.50, seg=03)"
        },
        "xaxis": {
         "anchor": "y",
         "autorange": true,
         "domain": [
          0,
          1
         ],
         "gridcolor": "rgba(0, 0, 0, 0.1)",
         "range": [
          200.6641512335061,
          299.3662702327428
         ],
         "showgrid": true,
         "title": {
          "text": "time"
         },
         "type": "linear"
        },
        "yaxis": {
         "anchor": "x",
         "autorange": true,
         "domain": [
          0,
          1
         ],
         "gridcolor": "rgba(0, 0, 0, 0.1)",
         "range": [
          0.003097395446283303,
          0.012166688705739552
         ],
         "showgrid": true,
         "title": {
          "text": "acre_rate_mass_weighted"
         },
         "type": "linear"
        }
       }
      },
      "image/png": "[encoded data removed]"
     },
     "metadata": {},
     "output_type": "display_data"
    }
   ],
   "source": [
    "fig = plot_segment_by_id_interactive(\n",
    "    df=df,\n",
    "    id=\"100_050_03\",\n",
    "    y=\"acre_rate_mass_weighted\"\n",
    ")\n",
    "fig.show()"
   ]
  },
  {
   "cell_type": "code",
   "execution_count": 6,
   "id": "54b97b6f-bb7c-435b-8e12-b0d162bd97e0",
   "metadata": {},
   "outputs": [
    {
     "data": {
      "application/vnd.plotly.v1+json": {
       "config": {
        "plotlyServerURL": "https://plot.ly"
       },
       "data": [
        {
         "hovertemplate": "<b>t = %{x:.3f}</b><br>acre_rate_mass_weighted_clean = %{y:.3e}<extra></extra>",
         "legendgroup": "",
         "line": {
          "color": "#636efa",
          "dash": "solid"
         },
         "marker": {
          "symbol": "circle"
         },
         "mode": "lines",
         "name": "",
         "orientation": "v",
         "showlegend": false,
         "type": "scatter",
         "x": {
          "_inputArray": {
           "0": 200.6641512335061,
           "1": 202.06620301400648,
           "10": 228.66305636264167,
           "11": 228.8947705941817,
           "12": 229.13160872553425,
           "13": 231.2310964708624,
           "14": 237.53191102515305,
           "15": 237.99284826217303,
           "16": 239.16655700882168,
           "17": 240.09256897874633,
           "18": 241.26553459283076,
           "19": 241.49687433085907,
           "2": 204.62769338485185,
           "20": 241.96619812976033,
           "21": 243.36537146064504,
           "22": 243.5967713616812,
           "23": 247.566191005896,
           "24": 249.19742600969184,
           "25": 249.89552253518144,
           "26": 250.59873252851733,
           "27": 252.69609107953264,
           "28": 258.5324407689035,
           "29": 260.63009301601915,
           "3": 206.2663059250286,
           "30": 263.4330306335749,
           "31": 263.6650165311223,
           "32": 265.29813259353926,
           "33": 269.49395142596603,
           "34": 273.46631750138647,
           "35": 273.93166570246643,
           "36": 277.89180546053046,
           "37": 278.3640039030991,
           "38": 278.8312320231841,
           "39": 280.23277185220223,
           "4": 206.49790946525977,
           "40": 280.695378731056,
           "41": 280.9316951872758,
           "42": 281.63118853320486,
           "43": 283.96404432909395,
           "44": 293.296230967612,
           "45": 295.6331059516487,
           "46": 299.3662702327428,
           "5": 206.7299368707184,
           "6": 209.76322271466887,
           "7": 220.26296659359448,
           "8": 221.1959360244004,
           "9": 224.23226649145937,
           "bdata": "N3AWukAVaUC+gchVHkJpQFb7bxAWlGlAU9cAlIXIaUAbtdTf7s9pQCp8kaRb12lAJuIKUmw4akC57eo4aohrQA4doBtFpmtAyhgjum4HbEBsHvrBN5VsQNrt8PWhnGxANoGAIzakbEBnEm0kZedsQEEtRWoFsW1Ajv23acW/bUDhOV1vVOVtQN4KOFP2Am5ARgVnQn8obkBfKP9k5i9uQN0YVxjrPm5Al0t9H7FrbkCGM0HAGHNuQJuzmTwe8m5AM+BZUFEmb0DuLeAeqDxvQBGhHtEoU29AKbTMYEaWb0D2l5zghChwQNgTatwUSnBA7ZWHse12cECEx1/oo3pwQPexribFlHBAY0WcOefXcEAeIFcJdhdxQF+uSxroHnFA9nXN1URecUDVtsH10mVxQGsv87lMbXFANUr6brmDcUCDw3JFIItxQAtzNjnojnFAmrslWRmacUClFb+5bL9xQEzfrly9VHJAv9O0MyF6ckAP8iw+3LVyQA==",
           "dtype": "f8",
           "shape": "47"
          },
          "bdata": "N3AWukAVaUC+gchVHkJpQFb7bxAWlGlAU9cAlIXIaUAbtdTf7s9pQCp8kaRb12lAJuIKUmw4akC57eo4aohrQA4doBtFpmtAyhgjum4HbEBsHvrBN5VsQNrt8PWhnGxANoGAIzakbEBnEm0kZedsQEEtRWoFsW1Ajv23acW/bUDhOV1vVOVtQN4KOFP2Am5ARgVnQn8obkBfKP9k5i9uQN0YVxjrPm5Al0t9H7FrbkCGM0HAGHNuQJuzmTwe8m5AM+BZUFEmb0DuLeAeqDxvQBGhHtEoU29AKbTMYEaWb0D2l5zghChwQNgTatwUSnBA7ZWHse12cECEx1/oo3pwQPexribFlHBAY0WcOefXcEAeIFcJdhdxQF+uSxroHnFA9nXN1URecUDVtsH10mVxQGsv87lMbXFANUr6brmDcUCDw3JFIItxQAtzNjnojnFAmrslWRmacUClFb+5bL9xQEzfrly9VHJAv9O0MyF6ckAP8iw+3LVyQA==",
          "dtype": "f8"
         },
         "xaxis": "x",
         "y": {
          "_inputArray": {
           "0": 0.0036644451535939202,
           "1": 0.008272577259549961,
           "10": 0.004285619971238964,
           "11": 0.003915504106476316,
           "12": 0.007949075464406534,
           "13": 0.007952368786181347,
           "14": 0.005409986417414335,
           "15": 0.005618290679374323,
           "16": 0.008809627191757865,
           "17": 0.008513935166376501,
           "18": 0.008166204639540887,
           "19": 0.005869935516587922,
           "2": 0.004257413103821777,
           "20": 0.0059106289219944316,
           "21": 0.007708706807312567,
           "22": 0.005305369585846776,
           "23": 0.0052003557464671306,
           "24": 0.008481622098840106,
           "25": 0.0035771864455326915,
           "26": 0.004208071817163271,
           "27": 0.0038222772565726384,
           "28": 0.0051534170699167724,
           "29": 0.004904905612410986,
           "3": 0.007799091427582632,
           "30": 0.008009838375751643,
           "31": 0.005733636281935621,
           "32": 0.010570022132736516,
           "33": 0.007490515289970974,
           "34": 0.007367516605043501,
           "35": 0.010375598596204403,
           "36": 0.010145804706134735,
           "37": 0.01019394797077642,
           "38": 0.006352649189996585,
           "39": 0.011577222808465015,
           "4": 0.005443048847813541,
           "40": 0.005495287635050981,
           "41": 0.009498879144239195,
           "42": 0.006066267268343013,
           "43": 0.0114586736615317,
           "44": 0.010515815578214589,
           "45": 0.006255958816059809,
           "46": 0.009752060191661482,
           "5": 0.0038817732960377133,
           "6": 0.00452616934330523,
           "7": 0.00808369135769476,
           "8": 0.008013863005755467,
           "9": 0.008546187134731171,
           "bdata": "Zir3AuYEbj9sZ0SGNvGAPwZevqA4cHE/knHrqfDxfz95lKtMc0t2P2BIbCurzG8/MvXjVAiKcj8cGhmwLo6AP0PbMXySaYA/6kr+0amAgT9bs+lZzI1xP2LOWiG0CXA/nHg52ZpHgD+KJ+beVEmAP6XqwCvIKHY/VSmjazQDdz/brG0lyAqCP+N+zAjBb4E/x8nfbnG5gD81iizREgt4P2Y7s16+NXg/SBkcOiqTfz9OmtRNFbt1P2P/vN33THU/1ZxADNBegT+jv3JZ501tP8vMV617PHE/g+4FeuVPbz/ucXLcvxt1P5LVH5MqF3Q/gPb1TnZngD840xZFJ3x3PwlZBlu8pYU/SLY141+ufj/aP/GtZi1+P/9NLUXNP4U/HFE821LHhD90fzaJkOCEPxpUOUg8BXo/IBa6isy1hz9LZcsKOoJ2P4JwL/oldIM/btdrOPHYeD8k9Q0lpXeHPwpc/t9QiYU/IFRSKNmfeT+mBrxc4/iDPw==",
           "dtype": "f8",
           "shape": "47"
          },
          "bdata": "Zir3AuYEbj9sZ0SGNvGAPwZevqA4cHE/knHrqfDxfz95lKtMc0t2P2BIbCurzG8/MvXjVAiKcj8cGhmwLo6AP0PbMXySaYA/6kr+0amAgT9bs+lZzI1xP2LOWiG0CXA/nHg52ZpHgD+KJ+beVEmAP6XqwCvIKHY/VSmjazQDdz/brG0lyAqCP+N+zAjBb4E/x8nfbnG5gD81iizREgt4P2Y7s16+NXg/SBkcOiqTfz9OmtRNFbt1P2P/vN33THU/1ZxADNBegT+jv3JZ501tP8vMV617PHE/g+4FeuVPbz/ucXLcvxt1P5LVH5MqF3Q/gPb1TnZngD840xZFJ3x3PwlZBlu8pYU/SLY141+ufj/aP/GtZi1+P/9NLUXNP4U/HFE821LHhD90fzaJkOCEPxpUOUg8BXo/IBa6isy1hz9LZcsKOoJ2P4JwL/oldIM/btdrOPHYeD8k9Q0lpXeHPwpc/t9QiYU/IFRSKNmfeT+mBrxc4/iDPw==",
          "dtype": "f8"
         },
         "yaxis": "y"
        }
       ],
       "layout": {
        "autosize": true,
        "legend": {
         "tracegroupgap": 0
        },
        "template": {
         "data": {
          "bar": [
           {
            "error_x": {
             "color": "#2a3f5f"
            },
            "error_y": {
             "color": "#2a3f5f"
            },
            "marker": {
             "line": {
              "color": "white",
              "width": 0.5
             },
             "pattern": {
              "fillmode": "overlay",
              "size": 10,
              "solidity": 0.2
             }
            },
            "type": "bar"
           }
          ],
          "barpolar": [
           {
            "marker": {
             "line": {
              "color": "white",
              "width": 0.5
             },
             "pattern": {
              "fillmode": "overlay",
              "size": 10,
              "solidity": 0.2
             }
            },
            "type": "barpolar"
           }
          ],
          "carpet": [
           {
            "aaxis": {
             "endlinecolor": "#2a3f5f",
             "gridcolor": "#C8D4E3",
             "linecolor": "#C8D4E3",
             "minorgridcolor": "#C8D4E3",
             "startlinecolor": "#2a3f5f"
            },
            "baxis": {
             "endlinecolor": "#2a3f5f",
             "gridcolor": "#C8D4E3",
             "linecolor": "#C8D4E3",
             "minorgridcolor": "#C8D4E3",
             "startlinecolor": "#2a3f5f"
            },
            "type": "carpet"
           }
          ],
          "choropleth": [
           {
            "colorbar": {
             "outlinewidth": 0,
             "ticks": ""
            },
            "type": "choropleth"
           }
          ],
          "contour": [
           {
            "colorbar": {
             "outlinewidth": 0,
             "ticks": ""
            },
            "colorscale": [
             [
              0,
              "#0d0887"
             ],
             [
              0.1111111111111111,
              "#46039f"
             ],
             [
              0.2222222222222222,
              "#7201a8"
             ],
             [
              0.3333333333333333,
              "#9c179e"
             ],
             [
              0.4444444444444444,
              "#bd3786"
             ],
             [
              0.5555555555555556,
              "#d8576b"
             ],
             [
              0.6666666666666666,
              "#ed7953"
             ],
             [
              0.7777777777777778,
              "#fb9f3a"
             ],
             [
              0.8888888888888888,
              "#fdca26"
             ],
             [
              1,
              "#f0f921"
             ]
            ],
            "type": "contour"
           }
          ],
          "contourcarpet": [
           {
            "colorbar": {
             "outlinewidth": 0,
             "ticks": ""
            },
            "type": "contourcarpet"
           }
          ],
          "heatmap": [
           {
            "colorbar": {
             "outlinewidth": 0,
             "ticks": ""
            },
            "colorscale": [
             [
              0,
              "#0d0887"
             ],
             [
              0.1111111111111111,
              "#46039f"
             ],
             [
              0.2222222222222222,
              "#7201a8"
             ],
             [
              0.3333333333333333,
              "#9c179e"
             ],
             [
              0.4444444444444444,
              "#bd3786"
             ],
             [
              0.5555555555555556,
              "#d8576b"
             ],
             [
              0.6666666666666666,
              "#ed7953"
             ],
             [
              0.7777777777777778,
              "#fb9f3a"
             ],
             [
              0.8888888888888888,
              "#fdca26"
             ],
             [
              1,
              "#f0f921"
             ]
            ],
            "type": "heatmap"
           }
          ],
          "histogram": [
           {
            "marker": {
             "pattern": {
              "fillmode": "overlay",
              "size": 10,
              "solidity": 0.2
             }
            },
            "type": "histogram"
           }
          ],
          "histogram2d": [
           {
            "colorbar": {
             "outlinewidth": 0,
             "ticks": ""
            },
            "colorscale": [
             [
              0,
              "#0d0887"
             ],
             [
              0.1111111111111111,
              "#46039f"
             ],
             [
              0.2222222222222222,
              "#7201a8"
             ],
             [
              0.3333333333333333,
              "#9c179e"
             ],
             [
              0.4444444444444444,
              "#bd3786"
             ],
             [
              0.5555555555555556,
              "#d8576b"
             ],
             [
              0.6666666666666666,
              "#ed7953"
             ],
             [
              0.7777777777777778,
              "#fb9f3a"
             ],
             [
              0.8888888888888888,
              "#fdca26"
             ],
             [
              1,
              "#f0f921"
             ]
            ],
            "type": "histogram2d"
           }
          ],
          "histogram2dcontour": [
           {
            "colorbar": {
             "outlinewidth": 0,
             "ticks": ""
            },
            "colorscale": [
             [
              0,
              "#0d0887"
             ],
             [
              0.1111111111111111,
              "#46039f"
             ],
             [
              0.2222222222222222,
              "#7201a8"
             ],
             [
              0.3333333333333333,
              "#9c179e"
             ],
             [
              0.4444444444444444,
              "#bd3786"
             ],
             [
              0.5555555555555556,
              "#d8576b"
             ],
             [
              0.6666666666666666,
              "#ed7953"
             ],
             [
              0.7777777777777778,
              "#fb9f3a"
             ],
             [
              0.8888888888888888,
              "#fdca26"
             ],
             [
              1,
              "#f0f921"
             ]
            ],
            "type": "histogram2dcontour"
           }
          ],
          "mesh3d": [
           {
            "colorbar": {
             "outlinewidth": 0,
             "ticks": ""
            },
            "type": "mesh3d"
           }
          ],
          "parcoords": [
           {
            "line": {
             "colorbar": {
              "outlinewidth": 0,
              "ticks": ""
             }
            },
            "type": "parcoords"
           }
          ],
          "pie": [
           {
            "automargin": true,
            "type": "pie"
           }
          ],
          "scatter": [
           {
            "fillpattern": {
             "fillmode": "overlay",
             "size": 10,
             "solidity": 0.2
            },
            "type": "scatter"
           }
          ],
          "scatter3d": [
           {
            "line": {
             "colorbar": {
              "outlinewidth": 0,
              "ticks": ""
             }
            },
            "marker": {
             "colorbar": {
              "outlinewidth": 0,
              "ticks": ""
             }
            },
            "type": "scatter3d"
           }
          ],
          "scattercarpet": [
           {
            "marker": {
             "colorbar": {
              "outlinewidth": 0,
              "ticks": ""
             }
            },
            "type": "scattercarpet"
           }
          ],
          "scattergeo": [
           {
            "marker": {
             "colorbar": {
              "outlinewidth": 0,
              "ticks": ""
             }
            },
            "type": "scattergeo"
           }
          ],
          "scattergl": [
           {
            "marker": {
             "colorbar": {
              "outlinewidth": 0,
              "ticks": ""
             }
            },
            "type": "scattergl"
           }
          ],
          "scattermap": [
           {
            "marker": {
             "colorbar": {
              "outlinewidth": 0,
              "ticks": ""
             }
            },
            "type": "scattermap"
           }
          ],
          "scattermapbox": [
           {
            "marker": {
             "colorbar": {
              "outlinewidth": 0,
              "ticks": ""
             }
            },
            "type": "scattermapbox"
           }
          ],
          "scatterpolar": [
           {
            "marker": {
             "colorbar": {
              "outlinewidth": 0,
              "ticks": ""
             }
            },
            "type": "scatterpolar"
           }
          ],
          "scatterpolargl": [
           {
            "marker": {
             "colorbar": {
              "outlinewidth": 0,
              "ticks": ""
             }
            },
            "type": "scatterpolargl"
           }
          ],
          "scatterternary": [
           {
            "marker": {
             "colorbar": {
              "outlinewidth": 0,
              "ticks": ""
             }
            },
            "type": "scatterternary"
           }
          ],
          "surface": [
           {
            "colorbar": {
             "outlinewidth": 0,
             "ticks": ""
            },
            "colorscale": [
             [
              0,
              "#0d0887"
             ],
             [
              0.1111111111111111,
              "#46039f"
             ],
             [
              0.2222222222222222,
              "#7201a8"
             ],
             [
              0.3333333333333333,
              "#9c179e"
             ],
             [
              0.4444444444444444,
              "#bd3786"
             ],
             [
              0.5555555555555556,
              "#d8576b"
             ],
             [
              0.6666666666666666,
              "#ed7953"
             ],
             [
              0.7777777777777778,
              "#fb9f3a"
             ],
             [
              0.8888888888888888,
              "#fdca26"
             ],
             [
              1,
              "#f0f921"
             ]
            ],
            "type": "surface"
           }
          ],
          "table": [
           {
            "cells": {
             "fill": {
              "color": "#EBF0F8"
             },
             "line": {
              "color": "white"
             }
            },
            "header": {
             "fill": {
              "color": "#C8D4E3"
             },
             "line": {
              "color": "white"
             }
            },
            "type": "table"
           }
          ]
         },
         "layout": {
          "annotationdefaults": {
           "arrowcolor": "#2a3f5f",
           "arrowhead": 0,
           "arrowwidth": 1
          },
          "autotypenumbers": "strict",
          "coloraxis": {
           "colorbar": {
            "outlinewidth": 0,
            "ticks": ""
           }
          },
          "colorscale": {
           "diverging": [
            [
             0,
             "#8e0152"
            ],
            [
             0.1,
             "#c51b7d"
            ],
            [
             0.2,
             "#de77ae"
            ],
            [
             0.3,
             "#f1b6da"
            ],
            [
             0.4,
             "#fde0ef"
            ],
            [
             0.5,
             "#f7f7f7"
            ],
            [
             0.6,
             "#e6f5d0"
            ],
            [
             0.7,
             "#b8e186"
            ],
            [
             0.8,
             "#7fbc41"
            ],
            [
             0.9,
             "#4d9221"
            ],
            [
             1,
             "#276419"
            ]
           ],
           "sequential": [
            [
             0,
             "#0d0887"
            ],
            [
             0.1111111111111111,
             "#46039f"
            ],
            [
             0.2222222222222222,
             "#7201a8"
            ],
            [
             0.3333333333333333,
             "#9c179e"
            ],
            [
             0.4444444444444444,
             "#bd3786"
            ],
            [
             0.5555555555555556,
             "#d8576b"
            ],
            [
             0.6666666666666666,
             "#ed7953"
            ],
            [
             0.7777777777777778,
             "#fb9f3a"
            ],
            [
             0.8888888888888888,
             "#fdca26"
            ],
            [
             1,
             "#f0f921"
            ]
           ],
           "sequentialminus": [
            [
             0,
             "#0d0887"
            ],
            [
             0.1111111111111111,
             "#46039f"
            ],
            [
             0.2222222222222222,
             "#7201a8"
            ],
            [
             0.3333333333333333,
             "#9c179e"
            ],
            [
             0.4444444444444444,
             "#bd3786"
            ],
            [
             0.5555555555555556,
             "#d8576b"
            ],
            [
             0.6666666666666666,
             "#ed7953"
            ],
            [
             0.7777777777777778,
             "#fb9f3a"
            ],
            [
             0.8888888888888888,
             "#fdca26"
            ],
            [
             1,
             "#f0f921"
            ]
           ]
          },
          "colorway": [
           "#636efa",
           "#EF553B",
           "#00cc96",
           "#ab63fa",
           "#FFA15A",
           "#19d3f3",
           "#FF6692",
           "#B6E880",
           "#FF97FF",
           "#FECB52"
          ],
          "font": {
           "color": "#2a3f5f"
          },
          "geo": {
           "bgcolor": "white",
           "lakecolor": "white",
           "landcolor": "white",
           "showlakes": true,
           "showland": true,
           "subunitcolor": "#C8D4E3"
          },
          "hoverlabel": {
           "align": "left"
          },
          "hovermode": "closest",
          "mapbox": {
           "style": "light"
          },
          "paper_bgcolor": "white",
          "plot_bgcolor": "white",
          "polar": {
           "angularaxis": {
            "gridcolor": "#EBF0F8",
            "linecolor": "#EBF0F8",
            "ticks": ""
           },
           "bgcolor": "white",
           "radialaxis": {
            "gridcolor": "#EBF0F8",
            "linecolor": "#EBF0F8",
            "ticks": ""
           }
          },
          "scene": {
           "xaxis": {
            "backgroundcolor": "white",
            "gridcolor": "#DFE8F3",
            "gridwidth": 2,
            "linecolor": "#EBF0F8",
            "showbackground": true,
            "ticks": "",
            "zerolinecolor": "#EBF0F8"
           },
           "yaxis": {
            "backgroundcolor": "white",
            "gridcolor": "#DFE8F3",
            "gridwidth": 2,
            "linecolor": "#EBF0F8",
            "showbackground": true,
            "ticks": "",
            "zerolinecolor": "#EBF0F8"
           },
           "zaxis": {
            "backgroundcolor": "white",
            "gridcolor": "#DFE8F3",
            "gridwidth": 2,
            "linecolor": "#EBF0F8",
            "showbackground": true,
            "ticks": "",
            "zerolinecolor": "#EBF0F8"
           }
          },
          "shapedefaults": {
           "line": {
            "color": "#2a3f5f"
           }
          },
          "ternary": {
           "aaxis": {
            "gridcolor": "#DFE8F3",
            "linecolor": "#A2B1C6",
            "ticks": ""
           },
           "baxis": {
            "gridcolor": "#DFE8F3",
            "linecolor": "#A2B1C6",
            "ticks": ""
           },
           "bgcolor": "white",
           "caxis": {
            "gridcolor": "#DFE8F3",
            "linecolor": "#A2B1C6",
            "ticks": ""
           }
          },
          "title": {
           "x": 0.05
          },
          "xaxis": {
           "automargin": true,
           "gridcolor": "#EBF0F8",
           "linecolor": "#EBF0F8",
           "ticks": "",
           "title": {
            "standoff": 15
           },
           "zerolinecolor": "#EBF0F8",
           "zerolinewidth": 2
          },
          "yaxis": {
           "automargin": true,
           "gridcolor": "#EBF0F8",
           "linecolor": "#EBF0F8",
           "ticks": "",
           "title": {
            "standoff": 15
           },
           "zerolinecolor": "#EBF0F8",
           "zerolinewidth": 2
          }
         }
        },
        "title": {
         "text": "ID 100_050_03  (q=1.00, e=0.50, seg=03)"
        },
        "xaxis": {
         "anchor": "y",
         "autorange": true,
         "domain": [
          0,
          1
         ],
         "gridcolor": "rgba(0, 0, 0, 0.1)",
         "range": [
          200.6641512335061,
          299.3662702327428
         ],
         "showgrid": true,
         "title": {
          "text": "time"
         },
         "type": "linear"
        },
        "yaxis": {
         "anchor": "x",
         "autorange": true,
         "domain": [
          0,
          1
         ],
         "gridcolor": "rgba(0, 0, 0, 0.1)",
         "range": [
          0.00313273998092534,
          0.012021669273072367
         ],
         "showgrid": true,
         "title": {
          "text": "acre_rate_mass_weighted_clean"
         },
         "type": "linear"
        }
       }
      },
      "image/png": "[encoded data removed]"
     },
     "metadata": {},
     "output_type": "display_data"
    }
   ],
   "source": [
    "fig = plot_segment_by_id_interactive(\n",
    "    df=df,\n",
    "    id=\"100_050_03\",\n",
    "    y=\"acre_rate_mass_weighted_clean\"\n",
    ")\n",
    "fig.show()"
   ]
  }
 ],
 "metadata": {
  "kernelspec": {
   "display_name": "Python 3 (ipykernel)",
   "language": "python",
   "name": "python3"
  },
  "language_info": {
   "codemirror_mode": {
    "name": "ipython",
    "version": 3
   },
   "file_extension": ".py",
   "mimetype": "text/x-python",
   "name": "python",
   "nbconvert_exporter": "python",
   "pygments_lexer": "ipython3",
   "version": "3.12.0"
  }
 },
 "nbformat": 4,
 "nbformat_minor": 5
}
