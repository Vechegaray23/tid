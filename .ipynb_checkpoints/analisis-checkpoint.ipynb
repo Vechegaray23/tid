{
 "cells": [
  {
   "cell_type": "code",
   "execution_count": 1,
   "id": "889fb332-a3c2-4dfd-a351-b92e16231868",
   "metadata": {},
   "outputs": [],
   "source": [
    "#Enfoque clasico\n",
    "# Comparar series a partir de determinadas caracteristicas estadísticas\n",
    "# este enfoque ofrece interpretabilidad y simplicidad pero puede tener limitaciones para identificar patrones temporales\n",
    "#complejos\n",
    "#tambien demanda mucha supervision\n",
    "\n",
    "#para complementar este enfoque, utilizo pycatch 22, que propociona un conjunto curado de  22\n",
    "#caracteristicas estadisticas que buscan maximizar el rendimineto de clasificación, minimizando la redundancia. \n",
    "#Este conjunto ha demostrado resultados comparables a usar cientos de caracteristicas, \n",
    "#por lo que recursos como tfresh son despreciados por el momento\n",
    "\n",
    "\n",
    "#puedo utilizar dos métodos distintos:\n",
    "# 1: ranking de similitud basado en distancias, a partir de los vectores de caracteristicas calculo distinas distancias entre las series,\n",
    "# el valor me permite calcular la similaridad entre series y rankearlas por grado de similitud. Este estudio se puede complementar\n",
    "#con algoritmos mas sofisticados como RN, etc.\n",
    "\n",
    "#2: metodos de clustering pueden no tener significancia estadística dado el bajo volumen de series en estudio.\n",
    "# dentro del contexto, un dendograma podría tener mayor valor para visualizar similitud relativa entre series (exploracion estructural)\n",
    "\n",
    "#aislo una de las simulaciones para clasificarla posteriormente\n",
    "#1)Calculo distintas distancias para el vector característico no optimizado\n",
    "#2) Calculo mismas distancias para vector caracteristico ponderado por relevancia(se obtiene a través de random forest)\n",
    "\n"
   ]
  },
  {
   "cell_type": "code",
   "execution_count": 2,
   "id": "8135db08-3e72-4c39-a304-b462c947d23e",
   "metadata": {},
   "outputs": [],
   "source": [
    "import os\n",
    "import re\n",
    "import pandas as pd\n",
    "import numpy as np\n",
    "import matplotlib.pyplot as plt\n",
    "\n",
    "from pycatch22 import catch22_all \n",
    "from joblib import Parallel, delayed \n",
    "import pandas as pd\n",
    "\n",
    "import itertools\n",
    "from pathlib import Path\n",
    "import plotly.express as px\n",
    "import plotly.graph_objects as go\n",
    "\n",
    "\n",
    "from sklearn.preprocessing import StandardScaler\n",
    "from sklearn.metrics import pairwise_distances\n",
    "from sklearn.covariance import LedoitWolf  \n",
    "from scipy.spatial.distance import cdist\n",
    "from sklearn.preprocessing import LabelEncoder\n",
    "from sklearn.ensemble import RandomForestClassifier\n",
    "from sklearn.multioutput import MultiOutputClassifier\n",
    "from sklearn.model_selection import GridSearchCV\n",
    "\n",
    "\n",
    "\n"
   ]
  },
  {
   "cell_type": "code",
   "execution_count": 3,
   "id": "db390baa-a554-4c1d-8832-918d160d01bf",
   "metadata": {},
   "outputs": [],
   "source": [
    "def extract_catch22(id: str, grp: pd.DataFrame) -> pd.Series:\n",
    "    values = grp.sort_values(\"time\")[\"acre_rate_mass_weighted\"].to_numpy()\n",
    "    res = catch22_all(values)\n",
    "    return pd.Series(res[\"values\"], index=res[\"names\"], name=id)\n",
    "\n",
    "\n",
    "def compute_features(df: pd.DataFrame, n_jobs: int = -1) -> pd.DataFrame:\n",
    "\n",
    "    grouped = df.groupby(\"id\", sort=False)\n",
    "\n",
    "    # Paralelización con joblib\n",
    "    results = Parallel(n_jobs=n_jobs, verbose=1)(\n",
    "        delayed(extract_catch22)(id, grp) for id, grp in grouped\n",
    "    )\n",
    "\n",
    "    features_df = pd.concat(results, axis=1).T\n",
    "    features_df.reset_index(inplace=True)\n",
    "    features_df.rename(columns={\"index\": \"id\"}, inplace=True)\n",
    "    return features_df\n",
    "\n"
   ]
  },
  {
   "cell_type": "code",
   "execution_count": 4,
   "id": "3b476c9b-9e61-4662-80c6-f63222c27bf4",
   "metadata": {},
   "outputs": [],
   "source": [
    "all_data=pd.read_csv('data/data_csv/all_data_noisy.csv')\n",
    "#all_data=pd.read_csv('data/data_csv/all_data_clean.csv')"
   ]
  },
  {
   "cell_type": "code",
   "execution_count": 5,
   "id": "d4ca2bbb-d2f6-4219-9ea9-1686e8d159c3",
   "metadata": {},
   "outputs": [
    {
     "data": {
      "text/html": [
       "<div>\n",
       "<style scoped>\n",
       "    .dataframe tbody tr th:only-of-type {\n",
       "        vertical-align: middle;\n",
       "    }\n",
       "\n",
       "    .dataframe tbody tr th {\n",
       "        vertical-align: top;\n",
       "    }\n",
       "\n",
       "    .dataframe thead th {\n",
       "        text-align: right;\n",
       "    }\n",
       "</style>\n",
       "<table border=\"1\" class=\"dataframe\">\n",
       "  <thead>\n",
       "    <tr style=\"text-align: right;\">\n",
       "      <th></th>\n",
       "      <th>time</th>\n",
       "      <th>acre_rate_primary</th>\n",
       "      <th>acre_rate_secondary</th>\n",
       "      <th>q</th>\n",
       "      <th>e</th>\n",
       "      <th>seg</th>\n",
       "      <th>acre_rate_mass_weighted</th>\n",
       "      <th>id</th>\n",
       "      <th>acre_rate_mass_weighted_clean</th>\n",
       "    </tr>\n",
       "  </thead>\n",
       "  <tbody>\n",
       "    <tr>\n",
       "      <th>0</th>\n",
       "      <td>200.015132</td>\n",
       "      <td>-0.003976</td>\n",
       "      <td>-0.011028</td>\n",
       "      <td>0.1</td>\n",
       "      <td>0.0</td>\n",
       "      <td>3</td>\n",
       "      <td>0.005647</td>\n",
       "      <td>010_000_03</td>\n",
       "      <td>0.004617</td>\n",
       "    </tr>\n",
       "    <tr>\n",
       "      <th>1</th>\n",
       "      <td>200.030826</td>\n",
       "      <td>-0.003974</td>\n",
       "      <td>-0.011079</td>\n",
       "      <td>0.1</td>\n",
       "      <td>0.0</td>\n",
       "      <td>3</td>\n",
       "      <td>0.002962</td>\n",
       "      <td>010_000_03</td>\n",
       "      <td>0.004620</td>\n",
       "    </tr>\n",
       "    <tr>\n",
       "      <th>2</th>\n",
       "      <td>200.046532</td>\n",
       "      <td>-0.003971</td>\n",
       "      <td>-0.011159</td>\n",
       "      <td>0.1</td>\n",
       "      <td>0.0</td>\n",
       "      <td>3</td>\n",
       "      <td>0.000851</td>\n",
       "      <td>010_000_03</td>\n",
       "      <td>0.004625</td>\n",
       "    </tr>\n",
       "    <tr>\n",
       "      <th>3</th>\n",
       "      <td>200.062255</td>\n",
       "      <td>-0.003969</td>\n",
       "      <td>-0.011278</td>\n",
       "      <td>0.1</td>\n",
       "      <td>0.0</td>\n",
       "      <td>3</td>\n",
       "      <td>0.010195</td>\n",
       "      <td>010_000_03</td>\n",
       "      <td>0.004634</td>\n",
       "    </tr>\n",
       "    <tr>\n",
       "      <th>4</th>\n",
       "      <td>200.093726</td>\n",
       "      <td>-0.003959</td>\n",
       "      <td>-0.011499</td>\n",
       "      <td>0.1</td>\n",
       "      <td>0.0</td>\n",
       "      <td>3</td>\n",
       "      <td>0.017881</td>\n",
       "      <td>010_000_03</td>\n",
       "      <td>0.004644</td>\n",
       "    </tr>\n",
       "    <tr>\n",
       "      <th>...</th>\n",
       "      <td>...</td>\n",
       "      <td>...</td>\n",
       "      <td>...</td>\n",
       "      <td>...</td>\n",
       "      <td>...</td>\n",
       "      <td>...</td>\n",
       "      <td>...</td>\n",
       "      <td>...</td>\n",
       "      <td>...</td>\n",
       "    </tr>\n",
       "    <tr>\n",
       "      <th>990006</th>\n",
       "      <td>1999.922054</td>\n",
       "      <td>-0.001690</td>\n",
       "      <td>-0.012933</td>\n",
       "      <td>1.0</td>\n",
       "      <td>0.7</td>\n",
       "      <td>20</td>\n",
       "      <td>0.006405</td>\n",
       "      <td>100_070_20</td>\n",
       "      <td>0.007312</td>\n",
       "    </tr>\n",
       "    <tr>\n",
       "      <th>990007</th>\n",
       "      <td>1999.954098</td>\n",
       "      <td>-0.001862</td>\n",
       "      <td>-0.014619</td>\n",
       "      <td>1.0</td>\n",
       "      <td>0.7</td>\n",
       "      <td>20</td>\n",
       "      <td>0.012462</td>\n",
       "      <td>100_070_20</td>\n",
       "      <td>0.008241</td>\n",
       "    </tr>\n",
       "    <tr>\n",
       "      <th>990008</th>\n",
       "      <td>1999.969444</td>\n",
       "      <td>-0.001915</td>\n",
       "      <td>-0.015206</td>\n",
       "      <td>1.0</td>\n",
       "      <td>0.7</td>\n",
       "      <td>20</td>\n",
       "      <td>0.001513</td>\n",
       "      <td>100_070_20</td>\n",
       "      <td>0.008560</td>\n",
       "    </tr>\n",
       "    <tr>\n",
       "      <th>990009</th>\n",
       "      <td>1999.984827</td>\n",
       "      <td>-0.002066</td>\n",
       "      <td>-0.015821</td>\n",
       "      <td>1.0</td>\n",
       "      <td>0.7</td>\n",
       "      <td>20</td>\n",
       "      <td>0.009707</td>\n",
       "      <td>100_070_20</td>\n",
       "      <td>0.008943</td>\n",
       "    </tr>\n",
       "    <tr>\n",
       "      <th>990010</th>\n",
       "      <td>2000.011289</td>\n",
       "      <td>-0.003470</td>\n",
       "      <td>-0.019019</td>\n",
       "      <td>1.0</td>\n",
       "      <td>0.7</td>\n",
       "      <td>20</td>\n",
       "      <td>0.016530</td>\n",
       "      <td>100_070_20</td>\n",
       "      <td>0.011244</td>\n",
       "    </tr>\n",
       "  </tbody>\n",
       "</table>\n",
       "<p>990011 rows × 9 columns</p>\n",
       "</div>"
      ],
      "text/plain": [
       "               time  acre_rate_primary  acre_rate_secondary    q    e  seg  \\\n",
       "0        200.015132          -0.003976            -0.011028  0.1  0.0    3   \n",
       "1        200.030826          -0.003974            -0.011079  0.1  0.0    3   \n",
       "2        200.046532          -0.003971            -0.011159  0.1  0.0    3   \n",
       "3        200.062255          -0.003969            -0.011278  0.1  0.0    3   \n",
       "4        200.093726          -0.003959            -0.011499  0.1  0.0    3   \n",
       "...             ...                ...                  ...  ...  ...  ...   \n",
       "990006  1999.922054          -0.001690            -0.012933  1.0  0.7   20   \n",
       "990007  1999.954098          -0.001862            -0.014619  1.0  0.7   20   \n",
       "990008  1999.969444          -0.001915            -0.015206  1.0  0.7   20   \n",
       "990009  1999.984827          -0.002066            -0.015821  1.0  0.7   20   \n",
       "990010  2000.011289          -0.003470            -0.019019  1.0  0.7   20   \n",
       "\n",
       "        acre_rate_mass_weighted          id  acre_rate_mass_weighted_clean  \n",
       "0                      0.005647  010_000_03                       0.004617  \n",
       "1                      0.002962  010_000_03                       0.004620  \n",
       "2                      0.000851  010_000_03                       0.004625  \n",
       "3                      0.010195  010_000_03                       0.004634  \n",
       "4                      0.017881  010_000_03                       0.004644  \n",
       "...                         ...         ...                            ...  \n",
       "990006                 0.006405  100_070_20                       0.007312  \n",
       "990007                 0.012462  100_070_20                       0.008241  \n",
       "990008                 0.001513  100_070_20                       0.008560  \n",
       "990009                 0.009707  100_070_20                       0.008943  \n",
       "990010                 0.016530  100_070_20                       0.011244  \n",
       "\n",
       "[990011 rows x 9 columns]"
      ]
     },
     "execution_count": 5,
     "metadata": {},
     "output_type": "execute_result"
    }
   ],
   "source": [
    "all_data"
   ]
  },
  {
   "cell_type": "code",
   "execution_count": null,
   "id": "64907704-6f14-4386-931b-6024991620b4",
   "metadata": {},
   "outputs": [],
   "source": []
  },
  {
   "cell_type": "code",
   "execution_count": 6,
   "id": "82a77def-a748-4182-a42b-a732f70d25e6",
   "metadata": {},
   "outputs": [
    {
     "name": "stderr",
     "output_type": "stream",
     "text": [
      "[Parallel(n_jobs=-1)]: Using backend LokyBackend with 10 concurrent workers.\n",
      "[Parallel(n_jobs=-1)]: Done  30 tasks      | elapsed:    0.7s\n",
      "[Parallel(n_jobs=-1)]: Done 198 out of 198 | elapsed:    1.3s finished\n"
     ]
    }
   ],
   "source": [
    "features_df = compute_features(all_data, n_jobs=-1)\n"
   ]
  },
  {
   "cell_type": "code",
   "execution_count": 7,
   "id": "1ceb1a67-9bfc-41f7-b572-7dbb420dab95",
   "metadata": {},
   "outputs": [
    {
     "data": {
      "text/html": [
       "<div>\n",
       "<style scoped>\n",
       "    .dataframe tbody tr th:only-of-type {\n",
       "        vertical-align: middle;\n",
       "    }\n",
       "\n",
       "    .dataframe tbody tr th {\n",
       "        vertical-align: top;\n",
       "    }\n",
       "\n",
       "    .dataframe thead th {\n",
       "        text-align: right;\n",
       "    }\n",
       "</style>\n",
       "<table border=\"1\" class=\"dataframe\">\n",
       "  <thead>\n",
       "    <tr style=\"text-align: right;\">\n",
       "      <th></th>\n",
       "      <th>id</th>\n",
       "      <th>DN_HistogramMode_5</th>\n",
       "      <th>DN_HistogramMode_10</th>\n",
       "      <th>CO_f1ecac</th>\n",
       "      <th>CO_FirstMin_ac</th>\n",
       "      <th>CO_HistogramAMI_even_2_5</th>\n",
       "      <th>CO_trev_1_num</th>\n",
       "      <th>MD_hrv_classic_pnn40</th>\n",
       "      <th>SB_BinaryStats_mean_longstretch1</th>\n",
       "      <th>SB_TransitionMatrix_3ac_sumdiagcov</th>\n",
       "      <th>...</th>\n",
       "      <th>FC_LocalSimple_mean1_tauresrat</th>\n",
       "      <th>DN_OutlierInclude_p_001_mdrmd</th>\n",
       "      <th>DN_OutlierInclude_n_001_mdrmd</th>\n",
       "      <th>SP_Summaries_welch_rect_area_5_1</th>\n",
       "      <th>SB_BinaryStats_diff_longstretch0</th>\n",
       "      <th>SB_MotifThree_quantile_hh</th>\n",
       "      <th>SC_FluctAnal_2_rsrangefit_50_1_logi_prop_r1</th>\n",
       "      <th>SC_FluctAnal_2_dfa_50_1_2_logi_prop_r1</th>\n",
       "      <th>SP_Summaries_welch_rect_centroid</th>\n",
       "      <th>FC_LocalSimple_mean3_stderr</th>\n",
       "    </tr>\n",
       "  </thead>\n",
       "  <tbody>\n",
       "    <tr>\n",
       "      <th>0</th>\n",
       "      <td>010_000_03</td>\n",
       "      <td>-0.008220</td>\n",
       "      <td>0.348921</td>\n",
       "      <td>0.637020</td>\n",
       "      <td>2.0</td>\n",
       "      <td>0.002130</td>\n",
       "      <td>0.141520</td>\n",
       "      <td>0.977996</td>\n",
       "      <td>11.0</td>\n",
       "      <td>0.000104</td>\n",
       "      <td>...</td>\n",
       "      <td>0.500000</td>\n",
       "      <td>-0.003200</td>\n",
       "      <td>-0.018600</td>\n",
       "      <td>0.200097</td>\n",
       "      <td>7.0</td>\n",
       "      <td>2.197141</td>\n",
       "      <td>0.816327</td>\n",
       "      <td>0.795918</td>\n",
       "      <td>1.567728</td>\n",
       "      <td>1.153446</td>\n",
       "    </tr>\n",
       "    <tr>\n",
       "      <th>1</th>\n",
       "      <td>010_000_04</td>\n",
       "      <td>0.275316</td>\n",
       "      <td>-0.114017</td>\n",
       "      <td>0.626022</td>\n",
       "      <td>1.0</td>\n",
       "      <td>0.001437</td>\n",
       "      <td>0.080833</td>\n",
       "      <td>0.977996</td>\n",
       "      <td>13.0</td>\n",
       "      <td>0.000037</td>\n",
       "      <td>...</td>\n",
       "      <td>1.000000</td>\n",
       "      <td>-0.046800</td>\n",
       "      <td>-0.001200</td>\n",
       "      <td>0.191954</td>\n",
       "      <td>7.0</td>\n",
       "      <td>2.196891</td>\n",
       "      <td>0.163265</td>\n",
       "      <td>0.122449</td>\n",
       "      <td>1.584602</td>\n",
       "      <td>1.156870</td>\n",
       "    </tr>\n",
       "    <tr>\n",
       "      <th>2</th>\n",
       "      <td>010_000_05</td>\n",
       "      <td>0.220486</td>\n",
       "      <td>-0.160880</td>\n",
       "      <td>0.643992</td>\n",
       "      <td>3.0</td>\n",
       "      <td>0.001986</td>\n",
       "      <td>0.095237</td>\n",
       "      <td>0.979596</td>\n",
       "      <td>14.0</td>\n",
       "      <td>0.000257</td>\n",
       "      <td>...</td>\n",
       "      <td>0.333333</td>\n",
       "      <td>-0.010400</td>\n",
       "      <td>0.010400</td>\n",
       "      <td>0.205385</td>\n",
       "      <td>7.0</td>\n",
       "      <td>2.196565</td>\n",
       "      <td>0.326531</td>\n",
       "      <td>0.163265</td>\n",
       "      <td>1.525544</td>\n",
       "      <td>1.156221</td>\n",
       "    </tr>\n",
       "    <tr>\n",
       "      <th>3</th>\n",
       "      <td>010_000_06</td>\n",
       "      <td>-0.046828</td>\n",
       "      <td>-0.402107</td>\n",
       "      <td>0.623938</td>\n",
       "      <td>1.0</td>\n",
       "      <td>0.001884</td>\n",
       "      <td>0.118644</td>\n",
       "      <td>0.975795</td>\n",
       "      <td>12.0</td>\n",
       "      <td>0.000048</td>\n",
       "      <td>...</td>\n",
       "      <td>1.000000</td>\n",
       "      <td>0.092000</td>\n",
       "      <td>-0.012800</td>\n",
       "      <td>0.200685</td>\n",
       "      <td>7.0</td>\n",
       "      <td>2.196797</td>\n",
       "      <td>0.163265</td>\n",
       "      <td>0.142857</td>\n",
       "      <td>1.586136</td>\n",
       "      <td>1.155287</td>\n",
       "    </tr>\n",
       "    <tr>\n",
       "      <th>4</th>\n",
       "      <td>010_000_07</td>\n",
       "      <td>-0.542042</td>\n",
       "      <td>-0.152118</td>\n",
       "      <td>0.628173</td>\n",
       "      <td>2.0</td>\n",
       "      <td>0.001263</td>\n",
       "      <td>-0.048998</td>\n",
       "      <td>0.978396</td>\n",
       "      <td>12.0</td>\n",
       "      <td>0.000014</td>\n",
       "      <td>...</td>\n",
       "      <td>1.000000</td>\n",
       "      <td>0.004000</td>\n",
       "      <td>0.011800</td>\n",
       "      <td>0.195150</td>\n",
       "      <td>7.0</td>\n",
       "      <td>2.197099</td>\n",
       "      <td>0.326531</td>\n",
       "      <td>0.122449</td>\n",
       "      <td>1.580767</td>\n",
       "      <td>1.159464</td>\n",
       "    </tr>\n",
       "    <tr>\n",
       "      <th>...</th>\n",
       "      <td>...</td>\n",
       "      <td>...</td>\n",
       "      <td>...</td>\n",
       "      <td>...</td>\n",
       "      <td>...</td>\n",
       "      <td>...</td>\n",
       "      <td>...</td>\n",
       "      <td>...</td>\n",
       "      <td>...</td>\n",
       "      <td>...</td>\n",
       "      <td>...</td>\n",
       "      <td>...</td>\n",
       "      <td>...</td>\n",
       "      <td>...</td>\n",
       "      <td>...</td>\n",
       "      <td>...</td>\n",
       "      <td>...</td>\n",
       "      <td>...</td>\n",
       "      <td>...</td>\n",
       "      <td>...</td>\n",
       "      <td>...</td>\n",
       "    </tr>\n",
       "    <tr>\n",
       "      <th>193</th>\n",
       "      <td>100_070_16</td>\n",
       "      <td>0.103700</td>\n",
       "      <td>-0.288041</td>\n",
       "      <td>0.784636</td>\n",
       "      <td>3.0</td>\n",
       "      <td>0.014636</td>\n",
       "      <td>0.017807</td>\n",
       "      <td>0.975795</td>\n",
       "      <td>21.0</td>\n",
       "      <td>0.001117</td>\n",
       "      <td>...</td>\n",
       "      <td>0.076923</td>\n",
       "      <td>0.066300</td>\n",
       "      <td>-0.088400</td>\n",
       "      <td>0.351454</td>\n",
       "      <td>6.0</td>\n",
       "      <td>2.184321</td>\n",
       "      <td>0.326531</td>\n",
       "      <td>0.163265</td>\n",
       "      <td>1.186534</td>\n",
       "      <td>1.048111</td>\n",
       "    </tr>\n",
       "    <tr>\n",
       "      <th>194</th>\n",
       "      <td>100_070_17</td>\n",
       "      <td>0.051254</td>\n",
       "      <td>-0.284860</td>\n",
       "      <td>0.755667</td>\n",
       "      <td>1.0</td>\n",
       "      <td>0.014703</td>\n",
       "      <td>-0.046287</td>\n",
       "      <td>0.977395</td>\n",
       "      <td>22.0</td>\n",
       "      <td>0.000703</td>\n",
       "      <td>...</td>\n",
       "      <td>0.076923</td>\n",
       "      <td>-0.079600</td>\n",
       "      <td>0.042000</td>\n",
       "      <td>0.343445</td>\n",
       "      <td>6.0</td>\n",
       "      <td>2.188151</td>\n",
       "      <td>0.367347</td>\n",
       "      <td>0.224490</td>\n",
       "      <td>1.254029</td>\n",
       "      <td>1.050069</td>\n",
       "    </tr>\n",
       "    <tr>\n",
       "      <th>195</th>\n",
       "      <td>100_070_18</td>\n",
       "      <td>0.159314</td>\n",
       "      <td>-0.187794</td>\n",
       "      <td>0.745250</td>\n",
       "      <td>3.0</td>\n",
       "      <td>0.008729</td>\n",
       "      <td>-0.075704</td>\n",
       "      <td>0.974795</td>\n",
       "      <td>19.0</td>\n",
       "      <td>0.000609</td>\n",
       "      <td>...</td>\n",
       "      <td>0.071429</td>\n",
       "      <td>-0.195200</td>\n",
       "      <td>0.132000</td>\n",
       "      <td>0.311350</td>\n",
       "      <td>8.0</td>\n",
       "      <td>2.189831</td>\n",
       "      <td>0.326531</td>\n",
       "      <td>0.857143</td>\n",
       "      <td>1.273204</td>\n",
       "      <td>1.082096</td>\n",
       "    </tr>\n",
       "    <tr>\n",
       "      <th>196</th>\n",
       "      <td>100_070_19</td>\n",
       "      <td>0.349077</td>\n",
       "      <td>-0.051245</td>\n",
       "      <td>0.808703</td>\n",
       "      <td>10.0</td>\n",
       "      <td>0.018767</td>\n",
       "      <td>-0.015253</td>\n",
       "      <td>0.974595</td>\n",
       "      <td>21.0</td>\n",
       "      <td>0.000129</td>\n",
       "      <td>...</td>\n",
       "      <td>0.076923</td>\n",
       "      <td>0.145200</td>\n",
       "      <td>-0.106600</td>\n",
       "      <td>0.374624</td>\n",
       "      <td>7.0</td>\n",
       "      <td>2.181431</td>\n",
       "      <td>0.285714</td>\n",
       "      <td>0.836735</td>\n",
       "      <td>1.122107</td>\n",
       "      <td>1.031311</td>\n",
       "    </tr>\n",
       "    <tr>\n",
       "      <th>197</th>\n",
       "      <td>100_070_20</td>\n",
       "      <td>-0.402401</td>\n",
       "      <td>0.117471</td>\n",
       "      <td>0.781081</td>\n",
       "      <td>1.0</td>\n",
       "      <td>0.020984</td>\n",
       "      <td>0.001084</td>\n",
       "      <td>0.972400</td>\n",
       "      <td>24.0</td>\n",
       "      <td>0.000767</td>\n",
       "      <td>...</td>\n",
       "      <td>0.066667</td>\n",
       "      <td>-0.039392</td>\n",
       "      <td>-0.029194</td>\n",
       "      <td>0.358396</td>\n",
       "      <td>7.0</td>\n",
       "      <td>2.189978</td>\n",
       "      <td>0.285714</td>\n",
       "      <td>0.306122</td>\n",
       "      <td>1.191903</td>\n",
       "      <td>1.040005</td>\n",
       "    </tr>\n",
       "  </tbody>\n",
       "</table>\n",
       "<p>198 rows × 23 columns</p>\n",
       "</div>"
      ],
      "text/plain": [
       "             id  DN_HistogramMode_5  DN_HistogramMode_10  CO_f1ecac  \\\n",
       "0    010_000_03           -0.008220             0.348921   0.637020   \n",
       "1    010_000_04            0.275316            -0.114017   0.626022   \n",
       "2    010_000_05            0.220486            -0.160880   0.643992   \n",
       "3    010_000_06           -0.046828            -0.402107   0.623938   \n",
       "4    010_000_07           -0.542042            -0.152118   0.628173   \n",
       "..          ...                 ...                  ...        ...   \n",
       "193  100_070_16            0.103700            -0.288041   0.784636   \n",
       "194  100_070_17            0.051254            -0.284860   0.755667   \n",
       "195  100_070_18            0.159314            -0.187794   0.745250   \n",
       "196  100_070_19            0.349077            -0.051245   0.808703   \n",
       "197  100_070_20           -0.402401             0.117471   0.781081   \n",
       "\n",
       "     CO_FirstMin_ac  CO_HistogramAMI_even_2_5  CO_trev_1_num  \\\n",
       "0               2.0                  0.002130       0.141520   \n",
       "1               1.0                  0.001437       0.080833   \n",
       "2               3.0                  0.001986       0.095237   \n",
       "3               1.0                  0.001884       0.118644   \n",
       "4               2.0                  0.001263      -0.048998   \n",
       "..              ...                       ...            ...   \n",
       "193             3.0                  0.014636       0.017807   \n",
       "194             1.0                  0.014703      -0.046287   \n",
       "195             3.0                  0.008729      -0.075704   \n",
       "196            10.0                  0.018767      -0.015253   \n",
       "197             1.0                  0.020984       0.001084   \n",
       "\n",
       "     MD_hrv_classic_pnn40  SB_BinaryStats_mean_longstretch1  \\\n",
       "0                0.977996                              11.0   \n",
       "1                0.977996                              13.0   \n",
       "2                0.979596                              14.0   \n",
       "3                0.975795                              12.0   \n",
       "4                0.978396                              12.0   \n",
       "..                    ...                               ...   \n",
       "193              0.975795                              21.0   \n",
       "194              0.977395                              22.0   \n",
       "195              0.974795                              19.0   \n",
       "196              0.974595                              21.0   \n",
       "197              0.972400                              24.0   \n",
       "\n",
       "     SB_TransitionMatrix_3ac_sumdiagcov  ...  FC_LocalSimple_mean1_tauresrat  \\\n",
       "0                              0.000104  ...                        0.500000   \n",
       "1                              0.000037  ...                        1.000000   \n",
       "2                              0.000257  ...                        0.333333   \n",
       "3                              0.000048  ...                        1.000000   \n",
       "4                              0.000014  ...                        1.000000   \n",
       "..                                  ...  ...                             ...   \n",
       "193                            0.001117  ...                        0.076923   \n",
       "194                            0.000703  ...                        0.076923   \n",
       "195                            0.000609  ...                        0.071429   \n",
       "196                            0.000129  ...                        0.076923   \n",
       "197                            0.000767  ...                        0.066667   \n",
       "\n",
       "     DN_OutlierInclude_p_001_mdrmd  DN_OutlierInclude_n_001_mdrmd  \\\n",
       "0                        -0.003200                      -0.018600   \n",
       "1                        -0.046800                      -0.001200   \n",
       "2                        -0.010400                       0.010400   \n",
       "3                         0.092000                      -0.012800   \n",
       "4                         0.004000                       0.011800   \n",
       "..                             ...                            ...   \n",
       "193                       0.066300                      -0.088400   \n",
       "194                      -0.079600                       0.042000   \n",
       "195                      -0.195200                       0.132000   \n",
       "196                       0.145200                      -0.106600   \n",
       "197                      -0.039392                      -0.029194   \n",
       "\n",
       "     SP_Summaries_welch_rect_area_5_1  SB_BinaryStats_diff_longstretch0  \\\n",
       "0                            0.200097                               7.0   \n",
       "1                            0.191954                               7.0   \n",
       "2                            0.205385                               7.0   \n",
       "3                            0.200685                               7.0   \n",
       "4                            0.195150                               7.0   \n",
       "..                                ...                               ...   \n",
       "193                          0.351454                               6.0   \n",
       "194                          0.343445                               6.0   \n",
       "195                          0.311350                               8.0   \n",
       "196                          0.374624                               7.0   \n",
       "197                          0.358396                               7.0   \n",
       "\n",
       "     SB_MotifThree_quantile_hh  SC_FluctAnal_2_rsrangefit_50_1_logi_prop_r1  \\\n",
       "0                     2.197141                                     0.816327   \n",
       "1                     2.196891                                     0.163265   \n",
       "2                     2.196565                                     0.326531   \n",
       "3                     2.196797                                     0.163265   \n",
       "4                     2.197099                                     0.326531   \n",
       "..                         ...                                          ...   \n",
       "193                   2.184321                                     0.326531   \n",
       "194                   2.188151                                     0.367347   \n",
       "195                   2.189831                                     0.326531   \n",
       "196                   2.181431                                     0.285714   \n",
       "197                   2.189978                                     0.285714   \n",
       "\n",
       "     SC_FluctAnal_2_dfa_50_1_2_logi_prop_r1  SP_Summaries_welch_rect_centroid  \\\n",
       "0                                  0.795918                          1.567728   \n",
       "1                                  0.122449                          1.584602   \n",
       "2                                  0.163265                          1.525544   \n",
       "3                                  0.142857                          1.586136   \n",
       "4                                  0.122449                          1.580767   \n",
       "..                                      ...                               ...   \n",
       "193                                0.163265                          1.186534   \n",
       "194                                0.224490                          1.254029   \n",
       "195                                0.857143                          1.273204   \n",
       "196                                0.836735                          1.122107   \n",
       "197                                0.306122                          1.191903   \n",
       "\n",
       "     FC_LocalSimple_mean3_stderr  \n",
       "0                       1.153446  \n",
       "1                       1.156870  \n",
       "2                       1.156221  \n",
       "3                       1.155287  \n",
       "4                       1.159464  \n",
       "..                           ...  \n",
       "193                     1.048111  \n",
       "194                     1.050069  \n",
       "195                     1.082096  \n",
       "196                     1.031311  \n",
       "197                     1.040005  \n",
       "\n",
       "[198 rows x 23 columns]"
      ]
     },
     "execution_count": 7,
     "metadata": {},
     "output_type": "execute_result"
    }
   ],
   "source": [
    "features_df"
   ]
  },
  {
   "cell_type": "code",
   "execution_count": 8,
   "id": "66f386d2-20ef-40a0-97dd-332fd29aa820",
   "metadata": {},
   "outputs": [],
   "source": [
    "def standardize_features(df: pd.DataFrame):\n",
    "    \"\"\"\n",
    "    Estandariza (media 0, varianza 1) todas las columnas numéricas\n",
    "    excepto 'id'.\n",
    "    \"\"\"\n",
    "\n",
    "    feature_cols = df.columns.difference(['id'])   # solo las 22 features\n",
    "    scaler = StandardScaler()\n",
    "    scaled = scaler.fit_transform(df[feature_cols])\n",
    "\n",
    "    df_std = pd.DataFrame(scaled, columns=feature_cols, index=df.index)\n",
    "    df_std.insert(0, 'id', df['id'])\n",
    "\n",
    "\n",
    "    return df_std, scaler"
   ]
  },
  {
   "cell_type": "code",
   "execution_count": 9,
   "id": "42642fe5-3425-4949-b287-71a2bdd82e51",
   "metadata": {},
   "outputs": [],
   "source": [
    "df_standardized, fitted_scaler = standardize_features(features_df)\n"
   ]
  },
  {
   "cell_type": "code",
   "execution_count": 10,
   "id": "720f943a-a845-4c01-81f5-e435c0798322",
   "metadata": {},
   "outputs": [],
   "source": [
    "df_std = df_standardized   # o usa df_standardized en memoria\n",
    "feature_cols = df_std.columns.difference([\"id\"])          # lista de 22 features\n",
    "\n",
    "def compute_distances(df: pd.DataFrame, target_id: str) -> pd.DataFrame:\n",
    "\n",
    "    X = df.loc[df[\"id\"] != target_id, feature_cols].to_numpy()\n",
    "    x0 = df.loc[df[\"id\"] == target_id, feature_cols].to_numpy()\n",
    "\n",
    "    euclidean  = cdist(X, x0, metric=\"euclidean\").flatten()\n",
    "    manhattan  = cdist(X, x0, metric=\"cityblock\").flatten()\n",
    "    cosine     = cdist(X, x0, metric=\"cosine\").flatten()\n",
    "\n",
    "    cov        = np.cov(df[feature_cols].to_numpy(), rowvar=False)\n",
    "    VI         = np.linalg.inv(cov)\n",
    "    mahalan    = cdist(X, x0, metric=\"mahalanobis\", VI=VI).flatten()\n",
    "\n",
    "    other_ids = df.loc[df[\"id\"] != target_id, \"id\"].to_numpy()\n",
    "    dist_df = pd.DataFrame({\n",
    "        \"id\":        other_ids,\n",
    "        \"euclidean\":  euclidean,\n",
    "        \"manhattan\":  manhattan,\n",
    "        \"cosine\":     cosine,\n",
    "        \"mahalanobis\": mahalan,\n",
    "    })\n",
    "\n",
    "    \n",
    "    dist_df[['q', 'e', 'seg']] = dist_df['id'].str.split('_', expand=True)\n",
    "\n",
    "    dist_df['q'] = dist_df['q'].astype(int)/100\n",
    "    dist_df['e'] = dist_df['e'].astype(int)/100\n",
    "    dist_df.drop(columns='seg', inplace=True)\n",
    "    \n",
    "\n",
    "    return dist_df.sort_values(\"manhattan\").reset_index(drop=True)\n",
    "\n",
    "\n"
   ]
  },
  {
   "cell_type": "code",
   "execution_count": 11,
   "id": "5471e4e3-a516-4c2a-8525-9f5ac8b8aedf",
   "metadata": {
    "scrolled": true
   },
   "outputs": [],
   "source": [
    "\n",
    "df_standardized[['q', 'e', 'seg']] = df_standardized['id'].str.split('_', expand=True)\n",
    "\n",
    "df_standardized['q'] = df_standardized['q'].astype(int)/100\n",
    "df_standardized['e'] = df_standardized['e'].astype(int)/100\n",
    "df_standardized.drop(columns='seg', inplace=True)"
   ]
  },
  {
   "cell_type": "code",
   "execution_count": 12,
   "id": "669b5afe-2d07-4c53-876b-b60d4f478c7e",
   "metadata": {},
   "outputs": [
    {
     "data": {
      "text/html": [
       "<div>\n",
       "<style scoped>\n",
       "    .dataframe tbody tr th:only-of-type {\n",
       "        vertical-align: middle;\n",
       "    }\n",
       "\n",
       "    .dataframe tbody tr th {\n",
       "        vertical-align: top;\n",
       "    }\n",
       "\n",
       "    .dataframe thead th {\n",
       "        text-align: right;\n",
       "    }\n",
       "</style>\n",
       "<table border=\"1\" class=\"dataframe\">\n",
       "  <thead>\n",
       "    <tr style=\"text-align: right;\">\n",
       "      <th></th>\n",
       "      <th>id</th>\n",
       "      <th>CO_Embed2_Dist_tau_d_expfit_meandiff</th>\n",
       "      <th>CO_FirstMin_ac</th>\n",
       "      <th>CO_HistogramAMI_even_2_5</th>\n",
       "      <th>CO_f1ecac</th>\n",
       "      <th>CO_trev_1_num</th>\n",
       "      <th>DN_HistogramMode_10</th>\n",
       "      <th>DN_HistogramMode_5</th>\n",
       "      <th>DN_OutlierInclude_n_001_mdrmd</th>\n",
       "      <th>DN_OutlierInclude_p_001_mdrmd</th>\n",
       "      <th>...</th>\n",
       "      <th>SB_BinaryStats_diff_longstretch0</th>\n",
       "      <th>SB_BinaryStats_mean_longstretch1</th>\n",
       "      <th>SB_MotifThree_quantile_hh</th>\n",
       "      <th>SB_TransitionMatrix_3ac_sumdiagcov</th>\n",
       "      <th>SC_FluctAnal_2_dfa_50_1_2_logi_prop_r1</th>\n",
       "      <th>SC_FluctAnal_2_rsrangefit_50_1_logi_prop_r1</th>\n",
       "      <th>SP_Summaries_welch_rect_area_5_1</th>\n",
       "      <th>SP_Summaries_welch_rect_centroid</th>\n",
       "      <th>q</th>\n",
       "      <th>e</th>\n",
       "    </tr>\n",
       "  </thead>\n",
       "  <tbody>\n",
       "    <tr>\n",
       "      <th>0</th>\n",
       "      <td>010_000_03</td>\n",
       "      <td>-0.033702</td>\n",
       "      <td>-0.105548</td>\n",
       "      <td>-0.347961</td>\n",
       "      <td>-0.563432</td>\n",
       "      <td>1.793756</td>\n",
       "      <td>1.366508</td>\n",
       "      <td>-0.100621</td>\n",
       "      <td>-0.300817</td>\n",
       "      <td>0.071723</td>\n",
       "      <td>...</td>\n",
       "      <td>0.484849</td>\n",
       "      <td>-1.026479</td>\n",
       "      <td>0.523287</td>\n",
       "      <td>-0.153902</td>\n",
       "      <td>1.028435</td>\n",
       "      <td>1.652949</td>\n",
       "      <td>-0.716298</td>\n",
       "      <td>0.612095</td>\n",
       "      <td>0.1</td>\n",
       "      <td>0.0</td>\n",
       "    </tr>\n",
       "    <tr>\n",
       "      <th>1</th>\n",
       "      <td>010_000_04</td>\n",
       "      <td>-0.453859</td>\n",
       "      <td>-0.523519</td>\n",
       "      <td>-0.481021</td>\n",
       "      <td>-0.760090</td>\n",
       "      <td>0.992440</td>\n",
       "      <td>-0.564797</td>\n",
       "      <td>1.087703</td>\n",
       "      <td>-0.088687</td>\n",
       "      <td>-0.390649</td>\n",
       "      <td>...</td>\n",
       "      <td>0.484849</td>\n",
       "      <td>-0.496511</td>\n",
       "      <td>0.470380</td>\n",
       "      <td>-0.165288</td>\n",
       "      <td>-1.382686</td>\n",
       "      <td>-0.850777</td>\n",
       "      <td>-0.864630</td>\n",
       "      <td>0.729563</td>\n",
       "      <td>0.1</td>\n",
       "      <td>0.0</td>\n",
       "    </tr>\n",
       "    <tr>\n",
       "      <th>2</th>\n",
       "      <td>010_000_05</td>\n",
       "      <td>0.023858</td>\n",
       "      <td>0.312423</td>\n",
       "      <td>-0.375593</td>\n",
       "      <td>-0.438756</td>\n",
       "      <td>1.182629</td>\n",
       "      <td>-0.760302</td>\n",
       "      <td>0.857905</td>\n",
       "      <td>0.052734</td>\n",
       "      <td>-0.004632</td>\n",
       "      <td>...</td>\n",
       "      <td>0.484849</td>\n",
       "      <td>-0.231527</td>\n",
       "      <td>0.401269</td>\n",
       "      <td>-0.127969</td>\n",
       "      <td>-1.236557</td>\n",
       "      <td>-0.224845</td>\n",
       "      <td>-0.619979</td>\n",
       "      <td>0.318425</td>\n",
       "      <td>0.1</td>\n",
       "      <td>0.0</td>\n",
       "    </tr>\n",
       "    <tr>\n",
       "      <th>3</th>\n",
       "      <td>010_000_06</td>\n",
       "      <td>-1.234876</td>\n",
       "      <td>-0.523519</td>\n",
       "      <td>-0.395114</td>\n",
       "      <td>-0.797344</td>\n",
       "      <td>1.491697</td>\n",
       "      <td>-1.766662</td>\n",
       "      <td>-0.262429</td>\n",
       "      <td>-0.230107</td>\n",
       "      <td>1.081308</td>\n",
       "      <td>...</td>\n",
       "      <td>0.484849</td>\n",
       "      <td>-0.761495</td>\n",
       "      <td>0.450471</td>\n",
       "      <td>-0.163502</td>\n",
       "      <td>-1.309621</td>\n",
       "      <td>-0.850777</td>\n",
       "      <td>-0.705599</td>\n",
       "      <td>0.740242</td>\n",
       "      <td>0.1</td>\n",
       "      <td>0.0</td>\n",
       "    </tr>\n",
       "    <tr>\n",
       "      <th>4</th>\n",
       "      <td>010_000_07</td>\n",
       "      <td>-1.295032</td>\n",
       "      <td>-0.105548</td>\n",
       "      <td>-0.514324</td>\n",
       "      <td>-0.721630</td>\n",
       "      <td>-0.721858</td>\n",
       "      <td>-0.723747</td>\n",
       "      <td>-2.337914</td>\n",
       "      <td>0.069802</td>\n",
       "      <td>0.148079</td>\n",
       "      <td>...</td>\n",
       "      <td>0.484849</td>\n",
       "      <td>-0.761495</td>\n",
       "      <td>0.514555</td>\n",
       "      <td>-0.169227</td>\n",
       "      <td>-1.382686</td>\n",
       "      <td>-0.224845</td>\n",
       "      <td>-0.806407</td>\n",
       "      <td>0.702866</td>\n",
       "      <td>0.1</td>\n",
       "      <td>0.0</td>\n",
       "    </tr>\n",
       "    <tr>\n",
       "      <th>...</th>\n",
       "      <td>...</td>\n",
       "      <td>...</td>\n",
       "      <td>...</td>\n",
       "      <td>...</td>\n",
       "      <td>...</td>\n",
       "      <td>...</td>\n",
       "      <td>...</td>\n",
       "      <td>...</td>\n",
       "      <td>...</td>\n",
       "      <td>...</td>\n",
       "      <td>...</td>\n",
       "      <td>...</td>\n",
       "      <td>...</td>\n",
       "      <td>...</td>\n",
       "      <td>...</td>\n",
       "      <td>...</td>\n",
       "      <td>...</td>\n",
       "      <td>...</td>\n",
       "      <td>...</td>\n",
       "      <td>...</td>\n",
       "      <td>...</td>\n",
       "    </tr>\n",
       "    <tr>\n",
       "      <th>193</th>\n",
       "      <td>100_070_16</td>\n",
       "      <td>1.079703</td>\n",
       "      <td>0.312423</td>\n",
       "      <td>2.053168</td>\n",
       "      <td>2.076150</td>\n",
       "      <td>0.160239</td>\n",
       "      <td>-1.290797</td>\n",
       "      <td>0.368446</td>\n",
       "      <td>-1.151778</td>\n",
       "      <td>0.808762</td>\n",
       "      <td>...</td>\n",
       "      <td>-1.063539</td>\n",
       "      <td>1.623363</td>\n",
       "      <td>-2.191464</td>\n",
       "      <td>0.018229</td>\n",
       "      <td>-1.236557</td>\n",
       "      <td>-0.224845</td>\n",
       "      <td>2.040776</td>\n",
       "      <td>-2.041611</td>\n",
       "      <td>1.0</td>\n",
       "      <td>0.7</td>\n",
       "    </tr>\n",
       "    <tr>\n",
       "      <th>194</th>\n",
       "      <td>100_070_17</td>\n",
       "      <td>1.469556</td>\n",
       "      <td>-0.523519</td>\n",
       "      <td>2.065925</td>\n",
       "      <td>1.558142</td>\n",
       "      <td>-0.686061</td>\n",
       "      <td>-1.277525</td>\n",
       "      <td>0.148640</td>\n",
       "      <td>0.437982</td>\n",
       "      <td>-0.738489</td>\n",
       "      <td>...</td>\n",
       "      <td>-1.063539</td>\n",
       "      <td>1.888348</td>\n",
       "      <td>-1.380520</td>\n",
       "      <td>-0.052090</td>\n",
       "      <td>-1.017364</td>\n",
       "      <td>-0.068362</td>\n",
       "      <td>1.894876</td>\n",
       "      <td>-1.571740</td>\n",
       "      <td>1.0</td>\n",
       "      <td>0.7</td>\n",
       "    </tr>\n",
       "    <tr>\n",
       "      <th>195</th>\n",
       "      <td>100_070_18</td>\n",
       "      <td>1.101053</td>\n",
       "      <td>0.312423</td>\n",
       "      <td>0.918975</td>\n",
       "      <td>1.371867</td>\n",
       "      <td>-1.074490</td>\n",
       "      <td>-0.872579</td>\n",
       "      <td>0.601527</td>\n",
       "      <td>1.535209</td>\n",
       "      <td>-1.964413</td>\n",
       "      <td>...</td>\n",
       "      <td>2.033237</td>\n",
       "      <td>1.093395</td>\n",
       "      <td>-1.024753</td>\n",
       "      <td>-0.068007</td>\n",
       "      <td>1.247628</td>\n",
       "      <td>-0.224845</td>\n",
       "      <td>1.310240</td>\n",
       "      <td>-1.438254</td>\n",
       "      <td>1.0</td>\n",
       "      <td>0.7</td>\n",
       "    </tr>\n",
       "    <tr>\n",
       "      <th>196</th>\n",
       "      <td>100_070_19</td>\n",
       "      <td>2.103755</td>\n",
       "      <td>3.238219</td>\n",
       "      <td>2.846154</td>\n",
       "      <td>2.506508</td>\n",
       "      <td>-0.276286</td>\n",
       "      <td>-0.302921</td>\n",
       "      <td>1.396841</td>\n",
       "      <td>-1.373661</td>\n",
       "      <td>1.645487</td>\n",
       "      <td>...</td>\n",
       "      <td>0.484849</td>\n",
       "      <td>1.623363</td>\n",
       "      <td>-2.803557</td>\n",
       "      <td>-0.149691</td>\n",
       "      <td>1.174563</td>\n",
       "      <td>-0.381328</td>\n",
       "      <td>2.462834</td>\n",
       "      <td>-2.490125</td>\n",
       "      <td>1.0</td>\n",
       "      <td>0.7</td>\n",
       "    </tr>\n",
       "    <tr>\n",
       "      <th>197</th>\n",
       "      <td>100_070_20</td>\n",
       "      <td>-0.351878</td>\n",
       "      <td>-0.523519</td>\n",
       "      <td>3.271788</td>\n",
       "      <td>2.012584</td>\n",
       "      <td>-0.060568</td>\n",
       "      <td>0.400937</td>\n",
       "      <td>-1.752669</td>\n",
       "      <td>-0.429975</td>\n",
       "      <td>-0.312089</td>\n",
       "      <td>...</td>\n",
       "      <td>0.484849</td>\n",
       "      <td>2.418316</td>\n",
       "      <td>-0.993556</td>\n",
       "      <td>-0.041296</td>\n",
       "      <td>-0.725107</td>\n",
       "      <td>-0.381328</td>\n",
       "      <td>2.167222</td>\n",
       "      <td>-2.004235</td>\n",
       "      <td>1.0</td>\n",
       "      <td>0.7</td>\n",
       "    </tr>\n",
       "  </tbody>\n",
       "</table>\n",
       "<p>198 rows × 25 columns</p>\n",
       "</div>"
      ],
      "text/plain": [
       "             id  CO_Embed2_Dist_tau_d_expfit_meandiff  CO_FirstMin_ac  \\\n",
       "0    010_000_03                             -0.033702       -0.105548   \n",
       "1    010_000_04                             -0.453859       -0.523519   \n",
       "2    010_000_05                              0.023858        0.312423   \n",
       "3    010_000_06                             -1.234876       -0.523519   \n",
       "4    010_000_07                             -1.295032       -0.105548   \n",
       "..          ...                                   ...             ...   \n",
       "193  100_070_16                              1.079703        0.312423   \n",
       "194  100_070_17                              1.469556       -0.523519   \n",
       "195  100_070_18                              1.101053        0.312423   \n",
       "196  100_070_19                              2.103755        3.238219   \n",
       "197  100_070_20                             -0.351878       -0.523519   \n",
       "\n",
       "     CO_HistogramAMI_even_2_5  CO_f1ecac  CO_trev_1_num  DN_HistogramMode_10  \\\n",
       "0                   -0.347961  -0.563432       1.793756             1.366508   \n",
       "1                   -0.481021  -0.760090       0.992440            -0.564797   \n",
       "2                   -0.375593  -0.438756       1.182629            -0.760302   \n",
       "3                   -0.395114  -0.797344       1.491697            -1.766662   \n",
       "4                   -0.514324  -0.721630      -0.721858            -0.723747   \n",
       "..                        ...        ...            ...                  ...   \n",
       "193                  2.053168   2.076150       0.160239            -1.290797   \n",
       "194                  2.065925   1.558142      -0.686061            -1.277525   \n",
       "195                  0.918975   1.371867      -1.074490            -0.872579   \n",
       "196                  2.846154   2.506508      -0.276286            -0.302921   \n",
       "197                  3.271788   2.012584      -0.060568             0.400937   \n",
       "\n",
       "     DN_HistogramMode_5  DN_OutlierInclude_n_001_mdrmd  \\\n",
       "0             -0.100621                      -0.300817   \n",
       "1              1.087703                      -0.088687   \n",
       "2              0.857905                       0.052734   \n",
       "3             -0.262429                      -0.230107   \n",
       "4             -2.337914                       0.069802   \n",
       "..                  ...                            ...   \n",
       "193            0.368446                      -1.151778   \n",
       "194            0.148640                       0.437982   \n",
       "195            0.601527                       1.535209   \n",
       "196            1.396841                      -1.373661   \n",
       "197           -1.752669                      -0.429975   \n",
       "\n",
       "     DN_OutlierInclude_p_001_mdrmd  ...  SB_BinaryStats_diff_longstretch0  \\\n",
       "0                         0.071723  ...                          0.484849   \n",
       "1                        -0.390649  ...                          0.484849   \n",
       "2                        -0.004632  ...                          0.484849   \n",
       "3                         1.081308  ...                          0.484849   \n",
       "4                         0.148079  ...                          0.484849   \n",
       "..                             ...  ...                               ...   \n",
       "193                       0.808762  ...                         -1.063539   \n",
       "194                      -0.738489  ...                         -1.063539   \n",
       "195                      -1.964413  ...                          2.033237   \n",
       "196                       1.645487  ...                          0.484849   \n",
       "197                      -0.312089  ...                          0.484849   \n",
       "\n",
       "     SB_BinaryStats_mean_longstretch1  SB_MotifThree_quantile_hh  \\\n",
       "0                           -1.026479                   0.523287   \n",
       "1                           -0.496511                   0.470380   \n",
       "2                           -0.231527                   0.401269   \n",
       "3                           -0.761495                   0.450471   \n",
       "4                           -0.761495                   0.514555   \n",
       "..                                ...                        ...   \n",
       "193                          1.623363                  -2.191464   \n",
       "194                          1.888348                  -1.380520   \n",
       "195                          1.093395                  -1.024753   \n",
       "196                          1.623363                  -2.803557   \n",
       "197                          2.418316                  -0.993556   \n",
       "\n",
       "     SB_TransitionMatrix_3ac_sumdiagcov  \\\n",
       "0                             -0.153902   \n",
       "1                             -0.165288   \n",
       "2                             -0.127969   \n",
       "3                             -0.163502   \n",
       "4                             -0.169227   \n",
       "..                                  ...   \n",
       "193                            0.018229   \n",
       "194                           -0.052090   \n",
       "195                           -0.068007   \n",
       "196                           -0.149691   \n",
       "197                           -0.041296   \n",
       "\n",
       "     SC_FluctAnal_2_dfa_50_1_2_logi_prop_r1  \\\n",
       "0                                  1.028435   \n",
       "1                                 -1.382686   \n",
       "2                                 -1.236557   \n",
       "3                                 -1.309621   \n",
       "4                                 -1.382686   \n",
       "..                                      ...   \n",
       "193                               -1.236557   \n",
       "194                               -1.017364   \n",
       "195                                1.247628   \n",
       "196                                1.174563   \n",
       "197                               -0.725107   \n",
       "\n",
       "     SC_FluctAnal_2_rsrangefit_50_1_logi_prop_r1  \\\n",
       "0                                       1.652949   \n",
       "1                                      -0.850777   \n",
       "2                                      -0.224845   \n",
       "3                                      -0.850777   \n",
       "4                                      -0.224845   \n",
       "..                                           ...   \n",
       "193                                    -0.224845   \n",
       "194                                    -0.068362   \n",
       "195                                    -0.224845   \n",
       "196                                    -0.381328   \n",
       "197                                    -0.381328   \n",
       "\n",
       "     SP_Summaries_welch_rect_area_5_1  SP_Summaries_welch_rect_centroid    q  \\\n",
       "0                           -0.716298                          0.612095  0.1   \n",
       "1                           -0.864630                          0.729563  0.1   \n",
       "2                           -0.619979                          0.318425  0.1   \n",
       "3                           -0.705599                          0.740242  0.1   \n",
       "4                           -0.806407                          0.702866  0.1   \n",
       "..                                ...                               ...  ...   \n",
       "193                          2.040776                         -2.041611  1.0   \n",
       "194                          1.894876                         -1.571740  1.0   \n",
       "195                          1.310240                         -1.438254  1.0   \n",
       "196                          2.462834                         -2.490125  1.0   \n",
       "197                          2.167222                         -2.004235  1.0   \n",
       "\n",
       "       e  \n",
       "0    0.0  \n",
       "1    0.0  \n",
       "2    0.0  \n",
       "3    0.0  \n",
       "4    0.0  \n",
       "..   ...  \n",
       "193  0.7  \n",
       "194  0.7  \n",
       "195  0.7  \n",
       "196  0.7  \n",
       "197  0.7  \n",
       "\n",
       "[198 rows x 25 columns]"
      ]
     },
     "execution_count": 12,
     "metadata": {},
     "output_type": "execute_result"
    }
   ],
   "source": [
    "df_standardized"
   ]
  },
  {
   "cell_type": "code",
   "execution_count": 13,
   "id": "e3bc16fd-7fbf-4dc6-abd6-c38563f1c969",
   "metadata": {},
   "outputs": [],
   "source": [
    "#Distancias respecto de target\n",
    "TARGET = \"100_050_20\"\n"
   ]
  },
  {
   "cell_type": "code",
   "execution_count": 14,
   "id": "f145ab10-d0a4-44bc-8793-a8b80668c022",
   "metadata": {},
   "outputs": [],
   "source": [
    "distances = compute_distances(df_standardized, TARGET)\n"
   ]
  },
  {
   "cell_type": "code",
   "execution_count": 15,
   "id": "443a8c52-4a90-420e-89d0-7706a08faa01",
   "metadata": {},
   "outputs": [],
   "source": [
    "metric_cols = [\"euclidean\", \"manhattan\", \"cosine\", \"mahalanobis\"]\n",
    "from sklearn.preprocessing import MinMaxScaler\n",
    "\n",
    "scaler = MinMaxScaler(feature_range=(0, 1))\n",
    "distances[metric_cols] = scaler.fit_transform(distances[metric_cols])"
   ]
  },
  {
   "cell_type": "code",
   "execution_count": 16,
   "id": "1539aaff-fddd-4fe9-9d2a-c4a92d069a26",
   "metadata": {
    "scrolled": true
   },
   "outputs": [
    {
     "data": {
      "text/html": [
       "<div>\n",
       "<style scoped>\n",
       "    .dataframe tbody tr th:only-of-type {\n",
       "        vertical-align: middle;\n",
       "    }\n",
       "\n",
       "    .dataframe tbody tr th {\n",
       "        vertical-align: top;\n",
       "    }\n",
       "\n",
       "    .dataframe thead th {\n",
       "        text-align: right;\n",
       "    }\n",
       "</style>\n",
       "<table border=\"1\" class=\"dataframe\">\n",
       "  <thead>\n",
       "    <tr style=\"text-align: right;\">\n",
       "      <th></th>\n",
       "      <th>id</th>\n",
       "      <th>euclidean</th>\n",
       "      <th>manhattan</th>\n",
       "      <th>cosine</th>\n",
       "      <th>mahalanobis</th>\n",
       "      <th>q</th>\n",
       "      <th>e</th>\n",
       "    </tr>\n",
       "  </thead>\n",
       "  <tbody>\n",
       "    <tr>\n",
       "      <th>0</th>\n",
       "      <td>100_060_10</td>\n",
       "      <td>0.013207</td>\n",
       "      <td>0.000000</td>\n",
       "      <td>0.150185</td>\n",
       "      <td>0.106375</td>\n",
       "      <td>1.0</td>\n",
       "      <td>0.6</td>\n",
       "    </tr>\n",
       "    <tr>\n",
       "      <th>1</th>\n",
       "      <td>100_050_19</td>\n",
       "      <td>0.022166</td>\n",
       "      <td>0.003801</td>\n",
       "      <td>0.157095</td>\n",
       "      <td>0.092397</td>\n",
       "      <td>1.0</td>\n",
       "      <td>0.5</td>\n",
       "    </tr>\n",
       "    <tr>\n",
       "      <th>2</th>\n",
       "      <td>100_060_09</td>\n",
       "      <td>0.035863</td>\n",
       "      <td>0.017405</td>\n",
       "      <td>0.216410</td>\n",
       "      <td>0.000000</td>\n",
       "      <td>1.0</td>\n",
       "      <td>0.6</td>\n",
       "    </tr>\n",
       "    <tr>\n",
       "      <th>3</th>\n",
       "      <td>100_000_03</td>\n",
       "      <td>0.000000</td>\n",
       "      <td>0.018490</td>\n",
       "      <td>0.006153</td>\n",
       "      <td>0.125167</td>\n",
       "      <td>1.0</td>\n",
       "      <td>0.0</td>\n",
       "    </tr>\n",
       "    <tr>\n",
       "      <th>4</th>\n",
       "      <td>100_050_12</td>\n",
       "      <td>0.059799</td>\n",
       "      <td>0.027614</td>\n",
       "      <td>0.218331</td>\n",
       "      <td>0.120187</td>\n",
       "      <td>1.0</td>\n",
       "      <td>0.5</td>\n",
       "    </tr>\n",
       "    <tr>\n",
       "      <th>...</th>\n",
       "      <td>...</td>\n",
       "      <td>...</td>\n",
       "      <td>...</td>\n",
       "      <td>...</td>\n",
       "      <td>...</td>\n",
       "      <td>...</td>\n",
       "      <td>...</td>\n",
       "    </tr>\n",
       "    <tr>\n",
       "      <th>192</th>\n",
       "      <td>100_070_08</td>\n",
       "      <td>0.484624</td>\n",
       "      <td>0.512501</td>\n",
       "      <td>0.366683</td>\n",
       "      <td>0.431575</td>\n",
       "      <td>1.0</td>\n",
       "      <td>0.7</td>\n",
       "    </tr>\n",
       "    <tr>\n",
       "      <th>193</th>\n",
       "      <td>100_070_19</td>\n",
       "      <td>0.498464</td>\n",
       "      <td>0.555465</td>\n",
       "      <td>0.523848</td>\n",
       "      <td>0.248474</td>\n",
       "      <td>1.0</td>\n",
       "      <td>0.7</td>\n",
       "    </tr>\n",
       "    <tr>\n",
       "      <th>194</th>\n",
       "      <td>100_070_04</td>\n",
       "      <td>0.632346</td>\n",
       "      <td>0.571670</td>\n",
       "      <td>0.486248</td>\n",
       "      <td>0.386076</td>\n",
       "      <td>1.0</td>\n",
       "      <td>0.7</td>\n",
       "    </tr>\n",
       "    <tr>\n",
       "      <th>195</th>\n",
       "      <td>100_070_05</td>\n",
       "      <td>1.000000</td>\n",
       "      <td>0.935041</td>\n",
       "      <td>0.478972</td>\n",
       "      <td>0.759890</td>\n",
       "      <td>1.0</td>\n",
       "      <td>0.7</td>\n",
       "    </tr>\n",
       "    <tr>\n",
       "      <th>196</th>\n",
       "      <td>100_070_03</td>\n",
       "      <td>0.926298</td>\n",
       "      <td>1.000000</td>\n",
       "      <td>0.514745</td>\n",
       "      <td>0.650138</td>\n",
       "      <td>1.0</td>\n",
       "      <td>0.7</td>\n",
       "    </tr>\n",
       "  </tbody>\n",
       "</table>\n",
       "<p>197 rows × 7 columns</p>\n",
       "</div>"
      ],
      "text/plain": [
       "             id  euclidean  manhattan    cosine  mahalanobis    q    e\n",
       "0    100_060_10   0.013207   0.000000  0.150185     0.106375  1.0  0.6\n",
       "1    100_050_19   0.022166   0.003801  0.157095     0.092397  1.0  0.5\n",
       "2    100_060_09   0.035863   0.017405  0.216410     0.000000  1.0  0.6\n",
       "3    100_000_03   0.000000   0.018490  0.006153     0.125167  1.0  0.0\n",
       "4    100_050_12   0.059799   0.027614  0.218331     0.120187  1.0  0.5\n",
       "..          ...        ...        ...       ...          ...  ...  ...\n",
       "192  100_070_08   0.484624   0.512501  0.366683     0.431575  1.0  0.7\n",
       "193  100_070_19   0.498464   0.555465  0.523848     0.248474  1.0  0.7\n",
       "194  100_070_04   0.632346   0.571670  0.486248     0.386076  1.0  0.7\n",
       "195  100_070_05   1.000000   0.935041  0.478972     0.759890  1.0  0.7\n",
       "196  100_070_03   0.926298   1.000000  0.514745     0.650138  1.0  0.7\n",
       "\n",
       "[197 rows x 7 columns]"
      ]
     },
     "execution_count": 16,
     "metadata": {},
     "output_type": "execute_result"
    }
   ],
   "source": [
    "distances"
   ]
  },
  {
   "cell_type": "code",
   "execution_count": 17,
   "id": "34efcb17-b88a-4c16-a807-45c7c1c33358",
   "metadata": {},
   "outputs": [],
   "source": [
    "df_median = (\n",
    "    distances\n",
    "    .groupby([\"q\", \"e\"], as_index=False)[metric_cols]\n",
    "    .median()\n",
    "    .sort_values([\"manhattan\"])\n",
    ")"
   ]
  },
  {
   "cell_type": "code",
   "execution_count": 18,
   "id": "e6ae692b-da3d-44d1-85c4-60e1030416cd",
   "metadata": {},
   "outputs": [
    {
     "name": "stdout",
     "output_type": "stream",
     "text": [
      "Serie objetivo: 100_050_20\n"
     ]
    }
   ],
   "source": [
    "print(f'Serie objetivo: {TARGET}')"
   ]
  },
  {
   "cell_type": "code",
   "execution_count": 19,
   "id": "1541a396-2a44-4688-a52b-11a4af06d21b",
   "metadata": {
    "scrolled": true
   },
   "outputs": [
    {
     "data": {
      "text/html": [
       "<div>\n",
       "<style scoped>\n",
       "    .dataframe tbody tr th:only-of-type {\n",
       "        vertical-align: middle;\n",
       "    }\n",
       "\n",
       "    .dataframe tbody tr th {\n",
       "        vertical-align: top;\n",
       "    }\n",
       "\n",
       "    .dataframe thead th {\n",
       "        text-align: right;\n",
       "    }\n",
       "</style>\n",
       "<table border=\"1\" class=\"dataframe\">\n",
       "  <thead>\n",
       "    <tr style=\"text-align: right;\">\n",
       "      <th></th>\n",
       "      <th>q</th>\n",
       "      <th>e</th>\n",
       "      <th>euclidean</th>\n",
       "      <th>manhattan</th>\n",
       "      <th>cosine</th>\n",
       "      <th>mahalanobis</th>\n",
       "    </tr>\n",
       "  </thead>\n",
       "  <tbody>\n",
       "    <tr>\n",
       "      <th>8</th>\n",
       "      <td>1.00</td>\n",
       "      <td>0.5</td>\n",
       "      <td>0.106904</td>\n",
       "      <td>0.106303</td>\n",
       "      <td>0.457426</td>\n",
       "      <td>0.141952</td>\n",
       "    </tr>\n",
       "    <tr>\n",
       "      <th>6</th>\n",
       "      <td>1.00</td>\n",
       "      <td>0.3</td>\n",
       "      <td>0.093701</td>\n",
       "      <td>0.117519</td>\n",
       "      <td>0.446487</td>\n",
       "      <td>0.128642</td>\n",
       "    </tr>\n",
       "    <tr>\n",
       "      <th>7</th>\n",
       "      <td>1.00</td>\n",
       "      <td>0.4</td>\n",
       "      <td>0.132021</td>\n",
       "      <td>0.123170</td>\n",
       "      <td>0.451432</td>\n",
       "      <td>0.172359</td>\n",
       "    </tr>\n",
       "    <tr>\n",
       "      <th>4</th>\n",
       "      <td>1.00</td>\n",
       "      <td>0.1</td>\n",
       "      <td>0.143836</td>\n",
       "      <td>0.148190</td>\n",
       "      <td>0.491367</td>\n",
       "      <td>0.165895</td>\n",
       "    </tr>\n",
       "    <tr>\n",
       "      <th>9</th>\n",
       "      <td>1.00</td>\n",
       "      <td>0.6</td>\n",
       "      <td>0.182779</td>\n",
       "      <td>0.160028</td>\n",
       "      <td>0.409339</td>\n",
       "      <td>0.181282</td>\n",
       "    </tr>\n",
       "    <tr>\n",
       "      <th>5</th>\n",
       "      <td>1.00</td>\n",
       "      <td>0.2</td>\n",
       "      <td>0.140089</td>\n",
       "      <td>0.166015</td>\n",
       "      <td>0.595485</td>\n",
       "      <td>0.192457</td>\n",
       "    </tr>\n",
       "    <tr>\n",
       "      <th>3</th>\n",
       "      <td>1.00</td>\n",
       "      <td>0.0</td>\n",
       "      <td>0.127597</td>\n",
       "      <td>0.175946</td>\n",
       "      <td>0.567602</td>\n",
       "      <td>0.168793</td>\n",
       "    </tr>\n",
       "    <tr>\n",
       "      <th>2</th>\n",
       "      <td>0.50</td>\n",
       "      <td>0.0</td>\n",
       "      <td>0.155452</td>\n",
       "      <td>0.181815</td>\n",
       "      <td>0.645531</td>\n",
       "      <td>0.159987</td>\n",
       "    </tr>\n",
       "    <tr>\n",
       "      <th>1</th>\n",
       "      <td>0.25</td>\n",
       "      <td>0.0</td>\n",
       "      <td>0.179070</td>\n",
       "      <td>0.202513</td>\n",
       "      <td>0.645309</td>\n",
       "      <td>0.173444</td>\n",
       "    </tr>\n",
       "    <tr>\n",
       "      <th>0</th>\n",
       "      <td>0.10</td>\n",
       "      <td>0.0</td>\n",
       "      <td>0.189380</td>\n",
       "      <td>0.215508</td>\n",
       "      <td>0.685348</td>\n",
       "      <td>0.179634</td>\n",
       "    </tr>\n",
       "    <tr>\n",
       "      <th>10</th>\n",
       "      <td>1.00</td>\n",
       "      <td>0.7</td>\n",
       "      <td>0.289760</td>\n",
       "      <td>0.312682</td>\n",
       "      <td>0.434196</td>\n",
       "      <td>0.332118</td>\n",
       "    </tr>\n",
       "  </tbody>\n",
       "</table>\n",
       "</div>"
      ],
      "text/plain": [
       "       q    e  euclidean  manhattan    cosine  mahalanobis\n",
       "8   1.00  0.5   0.106904   0.106303  0.457426     0.141952\n",
       "6   1.00  0.3   0.093701   0.117519  0.446487     0.128642\n",
       "7   1.00  0.4   0.132021   0.123170  0.451432     0.172359\n",
       "4   1.00  0.1   0.143836   0.148190  0.491367     0.165895\n",
       "9   1.00  0.6   0.182779   0.160028  0.409339     0.181282\n",
       "5   1.00  0.2   0.140089   0.166015  0.595485     0.192457\n",
       "3   1.00  0.0   0.127597   0.175946  0.567602     0.168793\n",
       "2   0.50  0.0   0.155452   0.181815  0.645531     0.159987\n",
       "1   0.25  0.0   0.179070   0.202513  0.645309     0.173444\n",
       "0   0.10  0.0   0.189380   0.215508  0.685348     0.179634\n",
       "10  1.00  0.7   0.289760   0.312682  0.434196     0.332118"
      ]
     },
     "execution_count": 19,
     "metadata": {},
     "output_type": "execute_result"
    }
   ],
   "source": [
    "df_median"
   ]
  },
  {
   "cell_type": "code",
   "execution_count": 20,
   "id": "6ab2b17e-4c9e-4a8c-abda-ff88ce353b5c",
   "metadata": {},
   "outputs": [],
   "source": [
    "def build_id(q, e):\n",
    "    q_int = int(round(q * 100))  # 1.00 → 100, 0.25 → 25 …\n",
    "    e_int = int(round(e * 100))  # 0.70 → 70 …\n",
    "    return f\"{q_int:03d}_{e_int:03d}\"\n",
    "\n",
    "df_median[\"id\"] = df_median.apply(lambda r: build_id(r[\"q\"], r[\"e\"]), axis=1)\n",
    "\n",
    "# (Opcional) Reordenar columnas para que id quede al frente\n",
    "cols_order = [\"id\", \"q\", \"e\", \"euclidean\", \"manhattan\", \"cosine\", \"mahalanobis\"]\n",
    "df_median = df_median[cols_order]\n"
   ]
  },
  {
   "cell_type": "code",
   "execution_count": 21,
   "id": "5b3def6d-4f37-4bdc-8e58-4a7e6cd311f6",
   "metadata": {},
   "outputs": [],
   "source": [
    "def plot_distance_vs_e_interactive(\n",
    "    dist_df: pd.DataFrame,\n",
    "    distance: str = \"euclidean\",\n",
    "    *,\n",
    "    manual_colors: dict | None = None,\n",
    "    title: str | None = None,\n",
    "    save_path: str | None = None,\n",
    "):\n",
    "\n",
    "    # -------- variable global target ---------------------------------------\n",
    "    if \"TARGET\" not in globals():\n",
    "        raise NameError(\n",
    "            \"Debe existir una variable global llamada 'target' con el id objetivo.\"\n",
    "        )\n",
    "    target_id: str = globals()[\"TARGET\"]\n",
    "\n",
    "    # -------- comprobar columnas requeridas ---------------------------------\n",
    "    required_cols = {\"id\", \"q\", \"e\", distance}\n",
    "    if not required_cols.issubset(dist_df.columns):\n",
    "        raise ValueError(f\"dist_df debe contener las columnas {required_cols}\")\n",
    "\n",
    "    # -------- detectar cómo están q y e (entero o flotante) -----------------\n",
    "    store_as_float = dist_df[\"q\"].max() <= 10  # heurística: 1.00, 0.25, etc.\n",
    "\n",
    "    # -------- extraer q_tag y e_tag del target ------------------------------\n",
    "    try:\n",
    "        q_tag_t, e_tag_t, _ = target_id.split(\"_\")\n",
    "        q_tag_t, e_tag_t = int(q_tag_t), int(e_tag_t)\n",
    "    except Exception:\n",
    "        raise ValueError(\"La variable 'target' debe tener formato 'qqq_eee_seg'.\")\n",
    "\n",
    "    # valores de q y e en el mismo formato que dist_df\n",
    "    q_val = q_tag_t / 100 if store_as_float else q_tag_t\n",
    "    e_val = e_tag_t / 100 if store_as_float else e_tag_t\n",
    "\n",
    "    # -------- añadir la fila del objetivo (distance = 0) --------------------\n",
    "    target_row = {\"id\": target_id, distance: 0.0, \"q\": q_val, \"e\": e_val}\n",
    "    df_plot = pd.concat([dist_df, pd.DataFrame([target_row])], ignore_index=True)\n",
    "\n",
    "    # -------- columnas auxiliares para el gráfico ---------------------------\n",
    "    df_plot[\"e_float\"] = df_plot[\"e\"] if store_as_float else df_plot[\"e\"] / 100.0\n",
    "    df_plot[\"q_float\"] = df_plot[\"q\"] if store_as_float else df_plot[\"q\"] / 100.0\n",
    "\n",
    "    # etiqueta combinada q_e siempre con 3 dígitos\n",
    "    df_plot[\"q_e\"] = (\n",
    "        (df_plot[\"q_float\"] * 100)\n",
    "        .round()\n",
    "        .astype(int)\n",
    "        .astype(str)\n",
    "        .str.zfill(3)\n",
    "        + \"_\"\n",
    "        + (df_plot[\"e_float\"] * 100)\n",
    "        .round()\n",
    "        .astype(int)\n",
    "        .astype(str)\n",
    "        .str.zfill(3)\n",
    "    )\n",
    "\n",
    "    # -------- asignar colores ------------------------------------------------\n",
    "    palette = itertools.cycle(px.colors.qualitative.Plotly)\n",
    "    color_map = {}\n",
    "    manual_colors = manual_colors or {}\n",
    "\n",
    "    for _, row in df_plot.iterrows():\n",
    "        key = (\n",
    "            int(round(row[\"q_float\"] * 100)),\n",
    "            int(round(row[\"e_float\"] * 100)),\n",
    "        )  # siempre enteros 0-100\n",
    "        if key not in color_map:\n",
    "            color_map[key] = manual_colors.get(key, next(palette))\n",
    "\n",
    "    df_plot[\"color\"] = df_plot.apply(\n",
    "        lambda r: color_map[\n",
    "            (int(round(r[\"q_float\"] * 100)), int(round(r[\"e_float\"] * 100)))\n",
    "        ],\n",
    "        axis=1,\n",
    "    )\n",
    "\n",
    "    color_discrete_map = {\n",
    "        f\"{q:03d}_{e:03d}\": col for (q, e), col in color_map.items()\n",
    "    }\n",
    "\n",
    "    # -------- scatter interactivo -------------------------------------------\n",
    "    fig = px.scatter(\n",
    "        df_plot[df_plot[\"id\"] != target_id],\n",
    "        x=\"e_float\",\n",
    "        y=distance,\n",
    "        color=\"q_e\",\n",
    "        color_discrete_map=color_discrete_map,\n",
    "        hover_data={\n",
    "            \"id\": True,\n",
    "            \"q_float\": \":.2f\",\n",
    "            \"e_float\": \":.2f\",\n",
    "            distance: \":.4f\",\n",
    "            \"q_e\": False,\n",
    "        },\n",
    "        labels={\n",
    "            \"e_float\": \"e (excentricidad)\",\n",
    "            distance: f\"Distancia {distance}\",\n",
    "        },\n",
    "        title=title or f\"{distance.capitalize()} vs e — objetivo {target_id}\",\n",
    "        template=\"plotly_white\",\n",
    "    )\n",
    "\n",
    "    # -------- punto objetivo -------------------------------------------------\n",
    "    fig.add_trace(\n",
    "        go.Scatter(\n",
    "            x=[df_plot.loc[df_plot[\"id\"] == target_id, \"e_float\"].iloc[0]],\n",
    "            y=[0],\n",
    "            mode=\"markers\",\n",
    "            marker=dict(\n",
    "                size=14, symbol=\"star\", color=\"black\", line=dict(width=1, color=\"white\")\n",
    "            ),\n",
    "            name=f\"Objetivo {target_id}\",\n",
    "            hovertemplate=(\n",
    "                f\"<b>Objetivo</b><br>id: {target_id}<br>\"\n",
    "                f\"q: {q_val:.2f}<br>e: {e_val:.2f}<br>{distance}: 0\"\n",
    "            ),\n",
    "            showlegend=True,\n",
    "        )\n",
    "    )\n",
    "\n",
    "    if save_path:\n",
    "        if Path(save_path).suffix.lower() == \".html\":\n",
    "            fig.write_html(save_path)\n",
    "        else:  # requiere `pip install kaleido`\n",
    "            fig.write_image(save_path, engine=\"kaleido\", scale=2)\n",
    "        print(f\"✅ Figura guardada en {save_path}\")\n",
    "\n",
    "    #fig.show()\n",
    "    return fig"
   ]
  },
  {
   "cell_type": "code",
   "execution_count": 22,
   "id": "65940459-5082-458f-a505-a47ed7f4fb9a",
   "metadata": {},
   "outputs": [
    {
     "data": {
      "application/vnd.plotly.v1+json": {
       "config": {
        "plotlyServerURL": "https://plot.ly"
       },
       "data": [
        {
         "customdata": [
          [
           "100_050",
           1,
           "100_050"
          ]
         ],
         "hovertemplate": "e (excentricidad)=%{x:.2f}<br>Distancia manhattan=%{y:.4f}<br>id=%{customdata[0]}<br>q_float=%{customdata[1]:.2f}<extra></extra>",
         "legendgroup": "100_050",
         "marker": {
          "color": "#636EFA",
          "symbol": "circle"
         },
         "mode": "markers",
         "name": "100_050",
         "orientation": "v",
         "showlegend": true,
         "type": "scatter",
         "x": {
          "_inputArray": {
           "0": 0.5,
           "bdata": "AAAAAAAA4D8=",
           "dtype": "f8",
           "shape": "1"
          },
          "bdata": "AAAAAAAA4D8=",
          "dtype": "f8"
         },
         "xaxis": "x",
         "y": {
          "_inputArray": {
           "0": 0.10630333130488037,
           "bdata": "Wgpp87E2uz8=",
           "dtype": "f8",
           "shape": "1"
          },
          "bdata": "Wgpp87E2uz8=",
          "dtype": "f8"
         },
         "yaxis": "y"
        },
        {
         "customdata": [
          [
           "100_030",
           1,
           "100_030"
          ]
         ],
         "hovertemplate": "e (excentricidad)=%{x:.2f}<br>Distancia manhattan=%{y:.4f}<br>id=%{customdata[0]}<br>q_float=%{customdata[1]:.2f}<extra></extra>",
         "legendgroup": "100_030",
         "marker": {
          "color": "#EF553B",
          "symbol": "circle"
         },
         "mode": "markers",
         "name": "100_030",
         "orientation": "v",
         "showlegend": true,
         "type": "scatter",
         "x": {
          "_inputArray": {
           "0": 0.3,
           "bdata": "MzMzMzMz0z8=",
           "dtype": "f8",
           "shape": "1"
          },
          "bdata": "MzMzMzMz0z8=",
          "dtype": "f8"
         },
         "xaxis": "x",
         "y": {
          "_inputArray": {
           "0": 0.1175193506440661,
           "bdata": "7NWph78Vvj8=",
           "dtype": "f8",
           "shape": "1"
          },
          "bdata": "7NWph78Vvj8=",
          "dtype": "f8"
         },
         "yaxis": "y"
        },
        {
         "customdata": [
          [
           "100_040",
           1,
           "100_040"
          ]
         ],
         "hovertemplate": "e (excentricidad)=%{x:.2f}<br>Distancia manhattan=%{y:.4f}<br>id=%{customdata[0]}<br>q_float=%{customdata[1]:.2f}<extra></extra>",
         "legendgroup": "100_040",
         "marker": {
          "color": "#00CC96",
          "symbol": "circle"
         },
         "mode": "markers",
         "name": "100_040",
         "orientation": "v",
         "showlegend": true,
         "type": "scatter",
         "x": {
          "_inputArray": {
           "0": 0.4,
           "bdata": "mpmZmZmZ2T8=",
           "dtype": "f8",
           "shape": "1"
          },
          "bdata": "mpmZmZmZ2T8=",
          "dtype": "f8"
         },
         "xaxis": "x",
         "y": {
          "_inputArray": {
           "0": 0.12316975769118318,
           "bdata": "7s4joQ2Ivz8=",
           "dtype": "f8",
           "shape": "1"
          },
          "bdata": "7s4joQ2Ivz8=",
          "dtype": "f8"
         },
         "yaxis": "y"
        },
        {
         "customdata": [
          [
           "100_010",
           1,
           "100_010"
          ]
         ],
         "hovertemplate": "e (excentricidad)=%{x:.2f}<br>Distancia manhattan=%{y:.4f}<br>id=%{customdata[0]}<br>q_float=%{customdata[1]:.2f}<extra></extra>",
         "legendgroup": "100_010",
         "marker": {
          "color": "#AB63FA",
          "symbol": "circle"
         },
         "mode": "markers",
         "name": "100_010",
         "orientation": "v",
         "showlegend": true,
         "type": "scatter",
         "x": {
          "_inputArray": {
           "0": 0.1,
           "bdata": "mpmZmZmZuT8=",
           "dtype": "f8",
           "shape": "1"
          },
          "bdata": "mpmZmZmZuT8=",
          "dtype": "f8"
         },
         "xaxis": "x",
         "y": {
          "_inputArray": {
           "0": 0.1481903256522714,
           "bdata": "z0ohjeb3wj8=",
           "dtype": "f8",
           "shape": "1"
          },
          "bdata": "z0ohjeb3wj8=",
          "dtype": "f8"
         },
         "yaxis": "y"
        },
        {
         "customdata": [
          [
           "100_060",
           1,
           "100_060"
          ]
         ],
         "hovertemplate": "e (excentricidad)=%{x:.2f}<br>Distancia manhattan=%{y:.4f}<br>id=%{customdata[0]}<br>q_float=%{customdata[1]:.2f}<extra></extra>",
         "legendgroup": "100_060",
         "marker": {
          "color": "#FFA15A",
          "symbol": "circle"
         },
         "mode": "markers",
         "name": "100_060",
         "orientation": "v",
         "showlegend": true,
         "type": "scatter",
         "x": {
          "_inputArray": {
           "0": 0.6,
           "bdata": "MzMzMzMz4z8=",
           "dtype": "f8",
           "shape": "1"
          },
          "bdata": "MzMzMzMz4z8=",
          "dtype": "f8"
         },
         "xaxis": "x",
         "y": {
          "_inputArray": {
           "0": 0.16002773606863258,
           "bdata": "rhBv8sl7xD8=",
           "dtype": "f8",
           "shape": "1"
          },
          "bdata": "rhBv8sl7xD8=",
          "dtype": "f8"
         },
         "yaxis": "y"
        },
        {
         "customdata": [
          [
           "100_020",
           1,
           "100_020"
          ]
         ],
         "hovertemplate": "e (excentricidad)=%{x:.2f}<br>Distancia manhattan=%{y:.4f}<br>id=%{customdata[0]}<br>q_float=%{customdata[1]:.2f}<extra></extra>",
         "legendgroup": "100_020",
         "marker": {
          "color": "#19D3F3",
          "symbol": "circle"
         },
         "mode": "markers",
         "name": "100_020",
         "orientation": "v",
         "showlegend": true,
         "type": "scatter",
         "x": {
          "_inputArray": {
           "0": 0.2,
           "bdata": "mpmZmZmZyT8=",
           "dtype": "f8",
           "shape": "1"
          },
          "bdata": "mpmZmZmZyT8=",
          "dtype": "f8"
         },
         "xaxis": "x",
         "y": {
          "_inputArray": {
           "0": 0.16601536906939265,
           "bdata": "Ialk2v0/xT8=",
           "dtype": "f8",
           "shape": "1"
          },
          "bdata": "Ialk2v0/xT8=",
          "dtype": "f8"
         },
         "yaxis": "y"
        },
        {
         "customdata": [
          [
           "100_000",
           1,
           "100_000"
          ]
         ],
         "hovertemplate": "e (excentricidad)=%{x:.2f}<br>Distancia manhattan=%{y:.4f}<br>id=%{customdata[0]}<br>q_float=%{customdata[1]:.2f}<extra></extra>",
         "legendgroup": "100_000",
         "marker": {
          "color": "#FF6692",
          "symbol": "circle"
         },
         "mode": "markers",
         "name": "100_000",
         "orientation": "v",
         "showlegend": true,
         "type": "scatter",
         "x": {
          "_inputArray": {
           "0": 0,
           "bdata": "AAAAAAAAAAA=",
           "dtype": "f8",
           "shape": "1"
          },
          "bdata": "AAAAAAAAAAA=",
          "dtype": "f8"
         },
         "xaxis": "x",
         "y": {
          "_inputArray": {
           "0": 0.1759456734713523,
           "bdata": "yVC3SGOFxj8=",
           "dtype": "f8",
           "shape": "1"
          },
          "bdata": "yVC3SGOFxj8=",
          "dtype": "f8"
         },
         "yaxis": "y"
        },
        {
         "customdata": [
          [
           "050_000",
           0.5,
           "050_000"
          ]
         ],
         "hovertemplate": "e (excentricidad)=%{x:.2f}<br>Distancia manhattan=%{y:.4f}<br>id=%{customdata[0]}<br>q_float=%{customdata[1]:.2f}<extra></extra>",
         "legendgroup": "050_000",
         "marker": {
          "color": "#B6E880",
          "symbol": "circle"
         },
         "mode": "markers",
         "name": "050_000",
         "orientation": "v",
         "showlegend": true,
         "type": "scatter",
         "x": {
          "_inputArray": {
           "0": 0,
           "bdata": "AAAAAAAAAAA=",
           "dtype": "f8",
           "shape": "1"
          },
          "bdata": "AAAAAAAAAAA=",
          "dtype": "f8"
         },
         "xaxis": "x",
         "y": {
          "_inputArray": {
           "0": 0.18181462957642255,
           "bdata": "C4j7p7NFxz8=",
           "dtype": "f8",
           "shape": "1"
          },
          "bdata": "C4j7p7NFxz8=",
          "dtype": "f8"
         },
         "yaxis": "y"
        },
        {
         "customdata": [
          [
           "025_000",
           0.25,
           "025_000"
          ]
         ],
         "hovertemplate": "e (excentricidad)=%{x:.2f}<br>Distancia manhattan=%{y:.4f}<br>id=%{customdata[0]}<br>q_float=%{customdata[1]:.2f}<extra></extra>",
         "legendgroup": "025_000",
         "marker": {
          "color": "#FF97FF",
          "symbol": "circle"
         },
         "mode": "markers",
         "name": "025_000",
         "orientation": "v",
         "showlegend": true,
         "type": "scatter",
         "x": {
          "_inputArray": {
           "0": 0,
           "bdata": "AAAAAAAAAAA=",
           "dtype": "f8",
           "shape": "1"
          },
          "bdata": "AAAAAAAAAAA=",
          "dtype": "f8"
         },
         "xaxis": "x",
         "y": {
          "_inputArray": {
           "0": 0.20251284069578226,
           "bdata": "DXvn1fDryT8=",
           "dtype": "f8",
           "shape": "1"
          },
          "bdata": "DXvn1fDryT8=",
          "dtype": "f8"
         },
         "yaxis": "y"
        },
        {
         "customdata": [
          [
           "010_000",
           0.1,
           "010_000"
          ]
         ],
         "hovertemplate": "e (excentricidad)=%{x:.2f}<br>Distancia manhattan=%{y:.4f}<br>id=%{customdata[0]}<br>q_float=%{customdata[1]:.2f}<extra></extra>",
         "legendgroup": "010_000",
         "marker": {
          "color": "#FECB52",
          "symbol": "circle"
         },
         "mode": "markers",
         "name": "010_000",
         "orientation": "v",
         "showlegend": true,
         "type": "scatter",
         "x": {
          "_inputArray": {
           "0": 0,
           "bdata": "AAAAAAAAAAA=",
           "dtype": "f8",
           "shape": "1"
          },
          "bdata": "AAAAAAAAAAA=",
          "dtype": "f8"
         },
         "xaxis": "x",
         "y": {
          "_inputArray": {
           "0": 0.21550800798777214,
           "bdata": "BLMqM8SVyz8=",
           "dtype": "f8",
           "shape": "1"
          },
          "bdata": "BLMqM8SVyz8=",
          "dtype": "f8"
         },
         "yaxis": "y"
        },
        {
         "customdata": [
          [
           "100_070",
           1,
           "100_070"
          ]
         ],
         "hovertemplate": "e (excentricidad)=%{x:.2f}<br>Distancia manhattan=%{y:.4f}<br>id=%{customdata[0]}<br>q_float=%{customdata[1]:.2f}<extra></extra>",
         "legendgroup": "100_070",
         "marker": {
          "color": "#636EFA",
          "symbol": "circle"
         },
         "mode": "markers",
         "name": "100_070",
         "orientation": "v",
         "showlegend": true,
         "type": "scatter",
         "x": {
          "_inputArray": {
           "0": 0.7,
           "bdata": "ZmZmZmZm5j8=",
           "dtype": "f8",
           "shape": "1"
          },
          "bdata": "ZmZmZmZm5j8=",
          "dtype": "f8"
         },
         "xaxis": "x",
         "y": {
          "_inputArray": {
           "0": 0.31268171548404994,
           "bdata": "O+qDK/oC1D8=",
           "dtype": "f8",
           "shape": "1"
          },
          "bdata": "O+qDK/oC1D8=",
          "dtype": "f8"
         },
         "yaxis": "y"
        },
        {
         "hovertemplate": "<b>Objetivo</b><br>id: 100_050_20<br>q: 1.00<br>e: 0.50<br>manhattan: 0",
         "marker": {
          "color": "black",
          "line": {
           "color": "white",
           "width": 1
          },
          "size": 14,
          "symbol": "star"
         },
         "mode": "markers",
         "name": "Objetivo 100_050_20",
         "showlegend": true,
         "type": "scatter",
         "x": [
          0.5
         ],
         "y": [
          0
         ]
        }
       ],
       "layout": {
        "autosize": true,
        "legend": {
         "title": {
          "text": "q_e"
         },
         "tracegroupgap": 0
        },
        "template": {
         "data": {
          "bar": [
           {
            "error_x": {
             "color": "#2a3f5f"
            },
            "error_y": {
             "color": "#2a3f5f"
            },
            "marker": {
             "line": {
              "color": "white",
              "width": 0.5
             },
             "pattern": {
              "fillmode": "overlay",
              "size": 10,
              "solidity": 0.2
             }
            },
            "type": "bar"
           }
          ],
          "barpolar": [
           {
            "marker": {
             "line": {
              "color": "white",
              "width": 0.5
             },
             "pattern": {
              "fillmode": "overlay",
              "size": 10,
              "solidity": 0.2
             }
            },
            "type": "barpolar"
           }
          ],
          "carpet": [
           {
            "aaxis": {
             "endlinecolor": "#2a3f5f",
             "gridcolor": "#C8D4E3",
             "linecolor": "#C8D4E3",
             "minorgridcolor": "#C8D4E3",
             "startlinecolor": "#2a3f5f"
            },
            "baxis": {
             "endlinecolor": "#2a3f5f",
             "gridcolor": "#C8D4E3",
             "linecolor": "#C8D4E3",
             "minorgridcolor": "#C8D4E3",
             "startlinecolor": "#2a3f5f"
            },
            "type": "carpet"
           }
          ],
          "choropleth": [
           {
            "colorbar": {
             "outlinewidth": 0,
             "ticks": ""
            },
            "type": "choropleth"
           }
          ],
          "contour": [
           {
            "colorbar": {
             "outlinewidth": 0,
             "ticks": ""
            },
            "colorscale": [
             [
              0,
              "#0d0887"
             ],
             [
              0.1111111111111111,
              "#46039f"
             ],
             [
              0.2222222222222222,
              "#7201a8"
             ],
             [
              0.3333333333333333,
              "#9c179e"
             ],
             [
              0.4444444444444444,
              "#bd3786"
             ],
             [
              0.5555555555555556,
              "#d8576b"
             ],
             [
              0.6666666666666666,
              "#ed7953"
             ],
             [
              0.7777777777777778,
              "#fb9f3a"
             ],
             [
              0.8888888888888888,
              "#fdca26"
             ],
             [
              1,
              "#f0f921"
             ]
            ],
            "type": "contour"
           }
          ],
          "contourcarpet": [
           {
            "colorbar": {
             "outlinewidth": 0,
             "ticks": ""
            },
            "type": "contourcarpet"
           }
          ],
          "heatmap": [
           {
            "colorbar": {
             "outlinewidth": 0,
             "ticks": ""
            },
            "colorscale": [
             [
              0,
              "#0d0887"
             ],
             [
              0.1111111111111111,
              "#46039f"
             ],
             [
              0.2222222222222222,
              "#7201a8"
             ],
             [
              0.3333333333333333,
              "#9c179e"
             ],
             [
              0.4444444444444444,
              "#bd3786"
             ],
             [
              0.5555555555555556,
              "#d8576b"
             ],
             [
              0.6666666666666666,
              "#ed7953"
             ],
             [
              0.7777777777777778,
              "#fb9f3a"
             ],
             [
              0.8888888888888888,
              "#fdca26"
             ],
             [
              1,
              "#f0f921"
             ]
            ],
            "type": "heatmap"
           }
          ],
          "histogram": [
           {
            "marker": {
             "pattern": {
              "fillmode": "overlay",
              "size": 10,
              "solidity": 0.2
             }
            },
            "type": "histogram"
           }
          ],
          "histogram2d": [
           {
            "colorbar": {
             "outlinewidth": 0,
             "ticks": ""
            },
            "colorscale": [
             [
              0,
              "#0d0887"
             ],
             [
              0.1111111111111111,
              "#46039f"
             ],
             [
              0.2222222222222222,
              "#7201a8"
             ],
             [
              0.3333333333333333,
              "#9c179e"
             ],
             [
              0.4444444444444444,
              "#bd3786"
             ],
             [
              0.5555555555555556,
              "#d8576b"
             ],
             [
              0.6666666666666666,
              "#ed7953"
             ],
             [
              0.7777777777777778,
              "#fb9f3a"
             ],
             [
              0.8888888888888888,
              "#fdca26"
             ],
             [
              1,
              "#f0f921"
             ]
            ],
            "type": "histogram2d"
           }
          ],
          "histogram2dcontour": [
           {
            "colorbar": {
             "outlinewidth": 0,
             "ticks": ""
            },
            "colorscale": [
             [
              0,
              "#0d0887"
             ],
             [
              0.1111111111111111,
              "#46039f"
             ],
             [
              0.2222222222222222,
              "#7201a8"
             ],
             [
              0.3333333333333333,
              "#9c179e"
             ],
             [
              0.4444444444444444,
              "#bd3786"
             ],
             [
              0.5555555555555556,
              "#d8576b"
             ],
             [
              0.6666666666666666,
              "#ed7953"
             ],
             [
              0.7777777777777778,
              "#fb9f3a"
             ],
             [
              0.8888888888888888,
              "#fdca26"
             ],
             [
              1,
              "#f0f921"
             ]
            ],
            "type": "histogram2dcontour"
           }
          ],
          "mesh3d": [
           {
            "colorbar": {
             "outlinewidth": 0,
             "ticks": ""
            },
            "type": "mesh3d"
           }
          ],
          "parcoords": [
           {
            "line": {
             "colorbar": {
              "outlinewidth": 0,
              "ticks": ""
             }
            },
            "type": "parcoords"
           }
          ],
          "pie": [
           {
            "automargin": true,
            "type": "pie"
           }
          ],
          "scatter": [
           {
            "fillpattern": {
             "fillmode": "overlay",
             "size": 10,
             "solidity": 0.2
            },
            "type": "scatter"
           }
          ],
          "scatter3d": [
           {
            "line": {
             "colorbar": {
              "outlinewidth": 0,
              "ticks": ""
             }
            },
            "marker": {
             "colorbar": {
              "outlinewidth": 0,
              "ticks": ""
             }
            },
            "type": "scatter3d"
           }
          ],
          "scattercarpet": [
           {
            "marker": {
             "colorbar": {
              "outlinewidth": 0,
              "ticks": ""
             }
            },
            "type": "scattercarpet"
           }
          ],
          "scattergeo": [
           {
            "marker": {
             "colorbar": {
              "outlinewidth": 0,
              "ticks": ""
             }
            },
            "type": "scattergeo"
           }
          ],
          "scattergl": [
           {
            "marker": {
             "colorbar": {
              "outlinewidth": 0,
              "ticks": ""
             }
            },
            "type": "scattergl"
           }
          ],
          "scattermap": [
           {
            "marker": {
             "colorbar": {
              "outlinewidth": 0,
              "ticks": ""
             }
            },
            "type": "scattermap"
           }
          ],
          "scattermapbox": [
           {
            "marker": {
             "colorbar": {
              "outlinewidth": 0,
              "ticks": ""
             }
            },
            "type": "scattermapbox"
           }
          ],
          "scatterpolar": [
           {
            "marker": {
             "colorbar": {
              "outlinewidth": 0,
              "ticks": ""
             }
            },
            "type": "scatterpolar"
           }
          ],
          "scatterpolargl": [
           {
            "marker": {
             "colorbar": {
              "outlinewidth": 0,
              "ticks": ""
             }
            },
            "type": "scatterpolargl"
           }
          ],
          "scatterternary": [
           {
            "marker": {
             "colorbar": {
              "outlinewidth": 0,
              "ticks": ""
             }
            },
            "type": "scatterternary"
           }
          ],
          "surface": [
           {
            "colorbar": {
             "outlinewidth": 0,
             "ticks": ""
            },
            "colorscale": [
             [
              0,
              "#0d0887"
             ],
             [
              0.1111111111111111,
              "#46039f"
             ],
             [
              0.2222222222222222,
              "#7201a8"
             ],
             [
              0.3333333333333333,
              "#9c179e"
             ],
             [
              0.4444444444444444,
              "#bd3786"
             ],
             [
              0.5555555555555556,
              "#d8576b"
             ],
             [
              0.6666666666666666,
              "#ed7953"
             ],
             [
              0.7777777777777778,
              "#fb9f3a"
             ],
             [
              0.8888888888888888,
              "#fdca26"
             ],
             [
              1,
              "#f0f921"
             ]
            ],
            "type": "surface"
           }
          ],
          "table": [
           {
            "cells": {
             "fill": {
              "color": "#EBF0F8"
             },
             "line": {
              "color": "white"
             }
            },
            "header": {
             "fill": {
              "color": "#C8D4E3"
             },
             "line": {
              "color": "white"
             }
            },
            "type": "table"
           }
          ]
         },
         "layout": {
          "annotationdefaults": {
           "arrowcolor": "#2a3f5f",
           "arrowhead": 0,
           "arrowwidth": 1
          },
          "autotypenumbers": "strict",
          "coloraxis": {
           "colorbar": {
            "outlinewidth": 0,
            "ticks": ""
           }
          },
          "colorscale": {
           "diverging": [
            [
             0,
             "#8e0152"
            ],
            [
             0.1,
             "#c51b7d"
            ],
            [
             0.2,
             "#de77ae"
            ],
            [
             0.3,
             "#f1b6da"
            ],
            [
             0.4,
             "#fde0ef"
            ],
            [
             0.5,
             "#f7f7f7"
            ],
            [
             0.6,
             "#e6f5d0"
            ],
            [
             0.7,
             "#b8e186"
            ],
            [
             0.8,
             "#7fbc41"
            ],
            [
             0.9,
             "#4d9221"
            ],
            [
             1,
             "#276419"
            ]
           ],
           "sequential": [
            [
             0,
             "#0d0887"
            ],
            [
             0.1111111111111111,
             "#46039f"
            ],
            [
             0.2222222222222222,
             "#7201a8"
            ],
            [
             0.3333333333333333,
             "#9c179e"
            ],
            [
             0.4444444444444444,
             "#bd3786"
            ],
            [
             0.5555555555555556,
             "#d8576b"
            ],
            [
             0.6666666666666666,
             "#ed7953"
            ],
            [
             0.7777777777777778,
             "#fb9f3a"
            ],
            [
             0.8888888888888888,
             "#fdca26"
            ],
            [
             1,
             "#f0f921"
            ]
           ],
           "sequentialminus": [
            [
             0,
             "#0d0887"
            ],
            [
             0.1111111111111111,
             "#46039f"
            ],
            [
             0.2222222222222222,
             "#7201a8"
            ],
            [
             0.3333333333333333,
             "#9c179e"
            ],
            [
             0.4444444444444444,
             "#bd3786"
            ],
            [
             0.5555555555555556,
             "#d8576b"
            ],
            [
             0.6666666666666666,
             "#ed7953"
            ],
            [
             0.7777777777777778,
             "#fb9f3a"
            ],
            [
             0.8888888888888888,
             "#fdca26"
            ],
            [
             1,
             "#f0f921"
            ]
           ]
          },
          "colorway": [
           "#636efa",
           "#EF553B",
           "#00cc96",
           "#ab63fa",
           "#FFA15A",
           "#19d3f3",
           "#FF6692",
           "#B6E880",
           "#FF97FF",
           "#FECB52"
          ],
          "font": {
           "color": "#2a3f5f"
          },
          "geo": {
           "bgcolor": "white",
           "lakecolor": "white",
           "landcolor": "white",
           "showlakes": true,
           "showland": true,
           "subunitcolor": "#C8D4E3"
          },
          "hoverlabel": {
           "align": "left"
          },
          "hovermode": "closest",
          "mapbox": {
           "style": "light"
          },
          "paper_bgcolor": "white",
          "plot_bgcolor": "white",
          "polar": {
           "angularaxis": {
            "gridcolor": "#EBF0F8",
            "linecolor": "#EBF0F8",
            "ticks": ""
           },
           "bgcolor": "white",
           "radialaxis": {
            "gridcolor": "#EBF0F8",
            "linecolor": "#EBF0F8",
            "ticks": ""
           }
          },
          "scene": {
           "xaxis": {
            "backgroundcolor": "white",
            "gridcolor": "#DFE8F3",
            "gridwidth": 2,
            "linecolor": "#EBF0F8",
            "showbackground": true,
            "ticks": "",
            "zerolinecolor": "#EBF0F8"
           },
           "yaxis": {
            "backgroundcolor": "white",
            "gridcolor": "#DFE8F3",
            "gridwidth": 2,
            "linecolor": "#EBF0F8",
            "showbackground": true,
            "ticks": "",
            "zerolinecolor": "#EBF0F8"
           },
           "zaxis": {
            "backgroundcolor": "white",
            "gridcolor": "#DFE8F3",
            "gridwidth": 2,
            "linecolor": "#EBF0F8",
            "showbackground": true,
            "ticks": "",
            "zerolinecolor": "#EBF0F8"
           }
          },
          "shapedefaults": {
           "line": {
            "color": "#2a3f5f"
           }
          },
          "ternary": {
           "aaxis": {
            "gridcolor": "#DFE8F3",
            "linecolor": "#A2B1C6",
            "ticks": ""
           },
           "baxis": {
            "gridcolor": "#DFE8F3",
            "linecolor": "#A2B1C6",
            "ticks": ""
           },
           "bgcolor": "white",
           "caxis": {
            "gridcolor": "#DFE8F3",
            "linecolor": "#A2B1C6",
            "ticks": ""
           }
          },
          "title": {
           "x": 0.05
          },
          "xaxis": {
           "automargin": true,
           "gridcolor": "#EBF0F8",
           "linecolor": "#EBF0F8",
           "ticks": "",
           "title": {
            "standoff": 15
           },
           "zerolinecolor": "#EBF0F8",
           "zerolinewidth": 2
          },
          "yaxis": {
           "automargin": true,
           "gridcolor": "#EBF0F8",
           "linecolor": "#EBF0F8",
           "ticks": "",
           "title": {
            "standoff": 15
           },
           "zerolinecolor": "#EBF0F8",
           "zerolinewidth": 2
          }
         }
        },
        "title": {
         "text": "Manhattan vs e"
        },
        "xaxis": {
         "anchor": "y",
         "autorange": true,
         "domain": [
          0,
          1
         ],
         "range": [
          -0.042891450528338135,
          0.742891450528338
         ],
         "title": {
          "text": "e (excentricidad)"
         },
         "type": "linear"
        },
        "yaxis": {
         "anchor": "x",
         "autorange": true,
         "domain": [
          0,
          1
         ],
         "range": [
          -0.035488415561073156,
          0.33857866737996817
         ],
         "title": {
          "text": "Distancia manhattan"
         },
         "type": "linear"
        }
       }
      },
      "image/png": "[encoded data removed]"
     },
     "metadata": {},
     "output_type": "display_data"
    }
   ],
   "source": [
    "manual  = {}\n",
    "\n",
    "plot_distance_vs_e_interactive(\n",
    "    df_median,\n",
    "    distance=\"manhattan\",\n",
    "    manual_colors=manual,\n",
    "    title=\"Manhattan vs e\"\n",
    ")"
   ]
  },
  {
   "cell_type": "code",
   "execution_count": 23,
   "id": "49656438-07b3-4521-94b1-34a83eb8e882",
   "metadata": {},
   "outputs": [
    {
     "data": {
      "application/vnd.plotly.v1+json": {
       "config": {
        "plotlyServerURL": "https://plot.ly"
       },
       "data": [
        {
         "customdata": [
          [
           "100_060_10",
           1,
           "100_060"
          ],
          [
           "100_060_09",
           1,
           "100_060"
          ],
          [
           "100_060_13",
           1,
           "100_060"
          ],
          [
           "100_060_20",
           1,
           "100_060"
          ],
          [
           "100_060_05",
           1,
           "100_060"
          ],
          [
           "100_060_17",
           1,
           "100_060"
          ],
          [
           "100_060_14",
           1,
           "100_060"
          ],
          [
           "100_060_06",
           1,
           "100_060"
          ],
          [
           "100_060_11",
           1,
           "100_060"
          ],
          [
           "100_060_15",
           1,
           "100_060"
          ],
          [
           "100_060_08",
           1,
           "100_060"
          ],
          [
           "100_060_18",
           1,
           "100_060"
          ],
          [
           "100_060_16",
           1,
           "100_060"
          ],
          [
           "100_060_12",
           1,
           "100_060"
          ],
          [
           "100_060_03",
           1,
           "100_060"
          ],
          [
           "100_060_19",
           1,
           "100_060"
          ],
          [
           "100_060_07",
           1,
           "100_060"
          ],
          [
           "100_060_04",
           1,
           "100_060"
          ]
         ],
         "hovertemplate": "e (excentricidad)=%{x:.2f}<br>Distancia manhattan=%{y:.4f}<br>id=%{customdata[0]}<br>q_float=%{customdata[1]:.2f}<extra></extra>",
         "legendgroup": "100_060",
         "marker": {
          "color": "#636EFA",
          "symbol": "circle"
         },
         "mode": "markers",
         "name": "100_060",
         "orientation": "v",
         "showlegend": true,
         "type": "scatter",
         "x": {
          "_inputArray": {
           "0": 0.6,
           "1": 0.6,
           "10": 0.6,
           "11": 0.6,
           "12": 0.6,
           "13": 0.6,
           "14": 0.6,
           "15": 0.6,
           "16": 0.6,
           "17": 0.6,
           "2": 0.6,
           "3": 0.6,
           "4": 0.6,
           "5": 0.6,
           "6": 0.6,
           "7": 0.6,
           "8": 0.6,
           "9": 0.6,
           "bdata": "MzMzMzMz4z8zMzMzMzPjPzMzMzMzM+M/MzMzMzMz4z8zMzMzMzPjPzMzMzMzM+M/MzMzMzMz4z8zMzMzMzPjPzMzMzMzM+M/MzMzMzMz4z8zMzMzMzPjPzMzMzMzM+M/MzMzMzMz4z8zMzMzMzPjPzMzMzMzM+M/MzMzMzMz4z8zMzMzMzPjPzMzMzMzM+M/",
           "dtype": "f8",
           "shape": "18"
          },
          "bdata": "MzMzMzMz4z8zMzMzMzPjPzMzMzMzM+M/MzMzMzMz4z8zMzMzMzPjPzMzMzMzM+M/MzMzMzMz4z8zMzMzMzPjPzMzMzMzM+M/MzMzMzMz4z8zMzMzMzPjPzMzMzMzM+M/MzMzMzMz4z8zMzMzMzPjPzMzMzMzM+M/MzMzMzMz4z8zMzMzMzPjPzMzMzMzM+M/",
          "dtype": "f8"
         },
         "xaxis": "x",
         "y": {
          "_inputArray": {
           "0": 0,
           "1": 0.017405238332507095,
           "10": 0.21926176422770235,
           "11": 0.23543308199829024,
           "12": 0.27501424752530357,
           "13": 0.28026852256411205,
           "14": 0.30684852276354446,
           "15": 0.31582335574791776,
           "16": 0.3510404934409498,
           "17": 0.4350533044543926,
           "2": 0.055859741585529976,
           "3": 0.08283774788614448,
           "4": 0.09267039633293347,
           "5": 0.09696670059059267,
           "6": 0.09945737133673685,
           "7": 0.1052676902396277,
           "8": 0.13935880757558547,
           "9": 0.18069666456167968,
           "bdata": "AAAAAAAAAABoN6vFrdKRP6C0i+almaw/tpcLyto0tT+2q45BP7m3Pzpu1kfP0rg/Esc8zQl2uT/Cl+fG0vK6P1steWiC1sE/AfRkfBEhxz/vhE/9xBDMP1shytWrIs4/2ojDW9WZ0T/ataBi6+/RP/gZhvxno9M/mAQQKnM21D8io7mLcnfWP4Z+qdDp19s/",
           "dtype": "f8",
           "shape": "18"
          },
          "bdata": "AAAAAAAAAABoN6vFrdKRP6C0i+almaw/tpcLyto0tT+2q45BP7m3Pzpu1kfP0rg/Esc8zQl2uT/Cl+fG0vK6P1steWiC1sE/AfRkfBEhxz/vhE/9xBDMP1shytWrIs4/2ojDW9WZ0T/ataBi6+/RP/gZhvxno9M/mAQQKnM21D8io7mLcnfWP4Z+qdDp19s/",
          "dtype": "f8"
         },
         "yaxis": "y"
        },
        {
         "customdata": [
          [
           "100_050_19",
           1,
           "100_050"
          ],
          [
           "100_050_12",
           1,
           "100_050"
          ],
          [
           "100_050_15",
           1,
           "100_050"
          ],
          [
           "100_050_09",
           1,
           "100_050"
          ],
          [
           "100_050_08",
           1,
           "100_050"
          ],
          [
           "100_050_16",
           1,
           "100_050"
          ],
          [
           "100_050_07",
           1,
           "100_050"
          ],
          [
           "100_050_18",
           1,
           "100_050"
          ],
          [
           "100_050_13",
           1,
           "100_050"
          ],
          [
           "100_050_04",
           1,
           "100_050"
          ],
          [
           "100_050_06",
           1,
           "100_050"
          ],
          [
           "100_050_11",
           1,
           "100_050"
          ],
          [
           "100_050_14",
           1,
           "100_050"
          ],
          [
           "100_050_05",
           1,
           "100_050"
          ],
          [
           "100_050_10",
           1,
           "100_050"
          ],
          [
           "100_050_17",
           1,
           "100_050"
          ],
          [
           "100_050_03",
           1,
           "100_050"
          ]
         ],
         "hovertemplate": "e (excentricidad)=%{x:.2f}<br>Distancia manhattan=%{y:.4f}<br>id=%{customdata[0]}<br>q_float=%{customdata[1]:.2f}<extra></extra>",
         "legendgroup": "100_050",
         "marker": {
          "color": "#EF553B",
          "symbol": "circle"
         },
         "mode": "markers",
         "name": "100_050",
         "orientation": "v",
         "showlegend": true,
         "type": "scatter",
         "x": {
          "_inputArray": {
           "0": 0.5,
           "1": 0.5,
           "10": 0.5,
           "11": 0.5,
           "12": 0.5,
           "13": 0.5,
           "14": 0.5,
           "15": 0.5,
           "16": 0.5,
           "2": 0.5,
           "3": 0.5,
           "4": 0.5,
           "5": 0.5,
           "6": 0.5,
           "7": 0.5,
           "8": 0.5,
           "9": 0.5,
           "bdata": "AAAAAAAA4D8AAAAAAADgPwAAAAAAAOA/AAAAAAAA4D8AAAAAAADgPwAAAAAAAOA/AAAAAAAA4D8AAAAAAADgPwAAAAAAAOA/AAAAAAAA4D8AAAAAAADgPwAAAAAAAOA/AAAAAAAA4D8AAAAAAADgPwAAAAAAAOA/AAAAAAAA4D8AAAAAAADgPw==",
           "dtype": "f8",
           "shape": "17"
          },
          "bdata": "AAAAAAAA4D8AAAAAAADgPwAAAAAAAOA/AAAAAAAA4D8AAAAAAADgPwAAAAAAAOA/AAAAAAAA4D8AAAAAAADgPwAAAAAAAOA/AAAAAAAA4D8AAAAAAADgPwAAAAAAAOA/AAAAAAAA4D8AAAAAAADgPwAAAAAAAOA/AAAAAAAA4D8AAAAAAADgPw==",
          "dtype": "f8"
         },
         "xaxis": "x",
         "y": {
          "_inputArray": {
           "0": 0.0038005373725824576,
           "1": 0.02761406407052258,
           "10": 0.13132639380469327,
           "11": 0.13622239557840823,
           "12": 0.14412952090757739,
           "13": 0.14658090642864122,
           "14": 0.15432276355919147,
           "15": 0.15619649936858163,
           "16": 0.3441503861078422,
           "2": 0.028531143261212116,
           "3": 0.03509539536254752,
           "4": 0.04188542487422148,
           "5": 0.06381270310753531,
           "6": 0.07925483089285243,
           "7": 0.08195817569356648,
           "8": 0.10630333130488037,
           "9": 0.12374273965640956,
           "bdata": "AHQe900ibz+gw1543EacP0jI5ZxEN50/qAilDgb4oT/YFgekAXKlP4KN6oAHVrA/nhy8agtKtD96Yj4ENvu0P1oKafOxNrs/phTxq5qtvz89Ez+jTc/APx37/ka8b8E/LdVXDdZywj9RHqrDKcPCP7/tQSvZwMM/wdREND/+wz8KS09XjwbWPw==",
           "dtype": "f8",
           "shape": "17"
          },
          "bdata": "AHQe900ibz+gw1543EacP0jI5ZxEN50/qAilDgb4oT/YFgekAXKlP4KN6oAHVrA/nhy8agtKtD96Yj4ENvu0P1oKafOxNrs/phTxq5qtvz89Ez+jTc/APx37/ka8b8E/LdVXDdZywj9RHqrDKcPCP7/tQSvZwMM/wdREND/+wz8KS09XjwbWPw==",
          "dtype": "f8"
         },
         "yaxis": "y"
        },
        {
         "customdata": [
          [
           "100_000_03",
           1,
           "100_000"
          ],
          [
           "100_000_14",
           1,
           "100_000"
          ],
          [
           "100_000_17",
           1,
           "100_000"
          ],
          [
           "100_000_04",
           1,
           "100_000"
          ],
          [
           "100_000_06",
           1,
           "100_000"
          ],
          [
           "100_000_18",
           1,
           "100_000"
          ],
          [
           "100_000_05",
           1,
           "100_000"
          ],
          [
           "100_000_19",
           1,
           "100_000"
          ],
          [
           "100_000_07",
           1,
           "100_000"
          ],
          [
           "100_000_10",
           1,
           "100_000"
          ],
          [
           "100_000_09",
           1,
           "100_000"
          ],
          [
           "100_000_20",
           1,
           "100_000"
          ],
          [
           "100_000_16",
           1,
           "100_000"
          ],
          [
           "100_000_15",
           1,
           "100_000"
          ],
          [
           "100_000_13",
           1,
           "100_000"
          ],
          [
           "100_000_11",
           1,
           "100_000"
          ],
          [
           "100_000_12",
           1,
           "100_000"
          ],
          [
           "100_000_08",
           1,
           "100_000"
          ]
         ],
         "hovertemplate": "e (excentricidad)=%{x:.2f}<br>Distancia manhattan=%{y:.4f}<br>id=%{customdata[0]}<br>q_float=%{customdata[1]:.2f}<extra></extra>",
         "legendgroup": "100_000",
         "marker": {
          "color": "#00CC96",
          "symbol": "circle"
         },
         "mode": "markers",
         "name": "100_000",
         "orientation": "v",
         "showlegend": true,
         "type": "scatter",
         "x": {
          "_inputArray": {
           "0": 0,
           "1": 0,
           "10": 0,
           "11": 0,
           "12": 0,
           "13": 0,
           "14": 0,
           "15": 0,
           "16": 0,
           "17": 0,
           "2": 0,
           "3": 0,
           "4": 0,
           "5": 0,
           "6": 0,
           "7": 0,
           "8": 0,
           "9": 0,
           "bdata": "AAAAAAAAAAAAAAAAAAAAAAAAAAAAAAAAAAAAAAAAAAAAAAAAAAAAAAAAAAAAAAAAAAAAAAAAAAAAAAAAAAAAAAAAAAAAAAAAAAAAAAAAAAAAAAAAAAAAAAAAAAAAAAAAAAAAAAAAAAAAAAAAAAAAAAAAAAAAAAAAAAAAAAAAAAAAAAAAAAAAAAAAAAAAAAAA",
           "dtype": "f8",
           "shape": "18"
          },
          "bdata": "AAAAAAAAAAAAAAAAAAAAAAAAAAAAAAAAAAAAAAAAAAAAAAAAAAAAAAAAAAAAAAAAAAAAAAAAAAAAAAAAAAAAAAAAAAAAAAAAAAAAAAAAAAAAAAAAAAAAAAAAAAAAAAAAAAAAAAAAAAAAAAAAAAAAAAAAAAAAAAAAAAAAAAAAAAAAAAAAAAAAAAAAAAAAAAAA",
          "dtype": "f8"
         },
         "xaxis": "x",
         "y": {
          "_inputArray": {
           "0": 0.0184900879908369,
           "1": 0.05009239894055137,
           "10": 0.1945321358004353,
           "11": 0.20045966735586232,
           "12": 0.20626127332127733,
           "13": 0.2273199023893744,
           "14": 0.2501804476130496,
           "15": 0.25399606625842075,
           "16": 0.2702219028148056,
           "17": 0.2835219762977984,
           "2": 0.1104882530176726,
           "3": 0.1133216435853647,
           "4": 0.11694475870184581,
           "5": 0.12295807465142042,
           "6": 0.1253977317609211,
           "7": 0.1698591288163059,
           "8": 0.1743765506917662,
           "9": 0.17751479625093838,
           "bdata": "MBvizBDvkj8sqXT+taWpP3aWTUn1SLw/yssgsaUCvT9WIxB6F/C9P6ovaC0uer8/Le9zaggNwD8Dt5il8b3FP7WINIf4UcY/3Rg6Cs64xj/ZVqTUbebIP5nwupGpqMk/ZVCs98Rmyj/hAj+N0RjNPygwJtr0AtA/zh95t3hB0D+kKNDOUEvRP35d+Vs5JdI/",
           "dtype": "f8",
           "shape": "18"
          },
          "bdata": "MBvizBDvkj8sqXT+taWpP3aWTUn1SLw/yssgsaUCvT9WIxB6F/C9P6ovaC0uer8/Le9zaggNwD8Dt5il8b3FP7WINIf4UcY/3Rg6Cs64xj/ZVqTUbebIP5nwupGpqMk/ZVCs98Rmyj/hAj+N0RjNPygwJtr0AtA/zh95t3hB0D+kKNDOUEvRP35d+Vs5JdI/",
          "dtype": "f8"
         },
         "yaxis": "y"
        },
        {
         "customdata": [
          [
           "100_040_09",
           1,
           "100_040"
          ],
          [
           "100_040_19",
           1,
           "100_040"
          ],
          [
           "100_040_14",
           1,
           "100_040"
          ],
          [
           "100_040_15",
           1,
           "100_040"
          ],
          [
           "100_040_18",
           1,
           "100_040"
          ],
          [
           "100_040_17",
           1,
           "100_040"
          ],
          [
           "100_040_12",
           1,
           "100_040"
          ],
          [
           "100_040_20",
           1,
           "100_040"
          ],
          [
           "100_040_11",
           1,
           "100_040"
          ],
          [
           "100_040_10",
           1,
           "100_040"
          ],
          [
           "100_040_16",
           1,
           "100_040"
          ],
          [
           "100_040_05",
           1,
           "100_040"
          ],
          [
           "100_040_06",
           1,
           "100_040"
          ],
          [
           "100_040_03",
           1,
           "100_040"
          ],
          [
           "100_040_04",
           1,
           "100_040"
          ],
          [
           "100_040_13",
           1,
           "100_040"
          ],
          [
           "100_040_07",
           1,
           "100_040"
          ],
          [
           "100_040_08",
           1,
           "100_040"
          ]
         ],
         "hovertemplate": "e (excentricidad)=%{x:.2f}<br>Distancia manhattan=%{y:.4f}<br>id=%{customdata[0]}<br>q_float=%{customdata[1]:.2f}<extra></extra>",
         "legendgroup": "100_040",
         "marker": {
          "color": "#AB63FA",
          "symbol": "circle"
         },
         "mode": "markers",
         "name": "100_040",
         "orientation": "v",
         "showlegend": true,
         "type": "scatter",
         "x": {
          "_inputArray": {
           "0": 0.4,
           "1": 0.4,
           "10": 0.4,
           "11": 0.4,
           "12": 0.4,
           "13": 0.4,
           "14": 0.4,
           "15": 0.4,
           "16": 0.4,
           "17": 0.4,
           "2": 0.4,
           "3": 0.4,
           "4": 0.4,
           "5": 0.4,
           "6": 0.4,
           "7": 0.4,
           "8": 0.4,
           "9": 0.4,
           "bdata": "mpmZmZmZ2T+amZmZmZnZP5qZmZmZmdk/mpmZmZmZ2T+amZmZmZnZP5qZmZmZmdk/mpmZmZmZ2T+amZmZmZnZP5qZmZmZmdk/mpmZmZmZ2T+amZmZmZnZP5qZmZmZmdk/mpmZmZmZ2T+amZmZmZnZP5qZmZmZmdk/mpmZmZmZ2T+amZmZmZnZP5qZmZmZmdk/",
           "dtype": "f8",
           "shape": "18"
          },
          "bdata": "mpmZmZmZ2T+amZmZmZnZP5qZmZmZmdk/mpmZmZmZ2T+amZmZmZnZP5qZmZmZmdk/mpmZmZmZ2T+amZmZmZnZP5qZmZmZmdk/mpmZmZmZ2T+amZmZmZnZP5qZmZmZmdk/mpmZmZmZ2T+amZmZmZnZP5qZmZmZmdk/mpmZmZmZ2T+amZmZmZnZP5qZmZmZmdk/",
          "dtype": "f8"
         },
         "xaxis": "x",
         "y": {
          "_inputArray": {
           "0": 0.03159881117114219,
           "1": 0.08844737123693205,
           "10": 0.1264462021276361,
           "11": 0.15479039970372124,
           "12": 0.15812063957402464,
           "13": 0.16238431621599683,
           "14": 0.17359612085753176,
           "15": 0.1921964663428424,
           "16": 0.19809493094670225,
           "17": 0.20004436669142842,
           "2": 0.0942152827711761,
           "3": 0.09873689529286231,
           "4": 0.10541233478598824,
           "5": 0.10555374322551445,
           "6": 0.11449302628285576,
           "7": 0.11786030272730305,
           "8": 0.12071408707017059,
           "9": 0.12562542831219578,
           "bdata": "VCMlKbgtoD8yOuGmfKS2P6ocSSZ+Hrg/5gAxONJGuT/qNYCCTfy6Pz68H/ORBbs/WkOBO2pPvT9+3rXBFyy+P14EIlAe574/v8wSeX4UwD+juWufYy/APwkrO/wr0MM/T4LlD0w9xD/B+MNfAsnEP/3U5c5lOMY/+bSs0OSZyD8DsfW4LFvJP98nWMYNm8k/",
           "dtype": "f8",
           "shape": "18"
          },
          "bdata": "VCMlKbgtoD8yOuGmfKS2P6ocSSZ+Hrg/5gAxONJGuT/qNYCCTfy6Pz68H/ORBbs/WkOBO2pPvT9+3rXBFyy+P14EIlAe574/v8wSeX4UwD+juWufYy/APwkrO/wr0MM/T4LlD0w9xD/B+MNfAsnEP/3U5c5lOMY/+bSs0OSZyD8DsfW4LFvJP98nWMYNm8k/",
          "dtype": "f8"
         },
         "yaxis": "y"
        },
        {
         "customdata": [
          [
           "100_030_14",
           1,
           "100_030"
          ],
          [
           "100_030_05",
           1,
           "100_030"
          ],
          [
           "100_030_17",
           1,
           "100_030"
          ],
          [
           "100_030_11",
           1,
           "100_030"
          ],
          [
           "100_030_10",
           1,
           "100_030"
          ],
          [
           "100_030_04",
           1,
           "100_030"
          ],
          [
           "100_030_12",
           1,
           "100_030"
          ],
          [
           "100_030_08",
           1,
           "100_030"
          ],
          [
           "100_030_13",
           1,
           "100_030"
          ],
          [
           "100_030_06",
           1,
           "100_030"
          ],
          [
           "100_030_18",
           1,
           "100_030"
          ],
          [
           "100_030_16",
           1,
           "100_030"
          ],
          [
           "100_030_20",
           1,
           "100_030"
          ],
          [
           "100_030_15",
           1,
           "100_030"
          ],
          [
           "100_030_19",
           1,
           "100_030"
          ],
          [
           "100_030_07",
           1,
           "100_030"
          ],
          [
           "100_030_03",
           1,
           "100_030"
          ],
          [
           "100_030_09",
           1,
           "100_030"
          ]
         ],
         "hovertemplate": "e (excentricidad)=%{x:.2f}<br>Distancia manhattan=%{y:.4f}<br>id=%{customdata[0]}<br>q_float=%{customdata[1]:.2f}<extra></extra>",
         "legendgroup": "100_030",
         "marker": {
          "color": "#FFA15A",
          "symbol": "circle"
         },
         "mode": "markers",
         "name": "100_030",
         "orientation": "v",
         "showlegend": true,
         "type": "scatter",
         "x": {
          "_inputArray": {
           "0": 0.3,
           "1": 0.3,
           "10": 0.3,
           "11": 0.3,
           "12": 0.3,
           "13": 0.3,
           "14": 0.3,
           "15": 0.3,
           "16": 0.3,
           "17": 0.3,
           "2": 0.3,
           "3": 0.3,
           "4": 0.3,
           "5": 0.3,
           "6": 0.3,
           "7": 0.3,
           "8": 0.3,
           "9": 0.3,
           "bdata": "MzMzMzMz0z8zMzMzMzPTPzMzMzMzM9M/MzMzMzMz0z8zMzMzMzPTPzMzMzMzM9M/MzMzMzMz0z8zMzMzMzPTPzMzMzMzM9M/MzMzMzMz0z8zMzMzMzPTPzMzMzMzM9M/MzMzMzMz0z8zMzMzMzPTPzMzMzMzM9M/MzMzMzMz0z8zMzMzMzPTPzMzMzMzM9M/",
           "dtype": "f8",
           "shape": "18"
          },
          "bdata": "MzMzMzMz0z8zMzMzMzPTPzMzMzMzM9M/MzMzMzMz0z8zMzMzMzPTPzMzMzMzM9M/MzMzMzMz0z8zMzMzMzPTPzMzMzMzM9M/MzMzMzMz0z8zMzMzMzPTPzMzMzMzM9M/MzMzMzMz0z8zMzMzMzPTPzMzMzMzM9M/MzMzMzMz0z8zMzMzMzPTPzMzMzMzM9M/",
          "dtype": "f8"
         },
         "xaxis": "x",
         "y": {
          "_inputArray": {
           "0": 0.033862053181334034,
           "1": 0.06624512809679359,
           "10": 0.12286653657659688,
           "11": 0.13522159893101934,
           "12": 0.14478015332907765,
           "13": 0.14708919817166824,
           "14": 0.18684933927480732,
           "15": 0.1927080694225499,
           "16": 0.19638376255159903,
           "17": 0.2491474984579006,
           "2": 0.06802491672155608,
           "3": 0.07786974387330511,
           "4": 0.08159027106826597,
           "5": 0.0955725976463642,
           "6": 0.1003224308402125,
           "7": 0.10697327590177005,
           "8": 0.11542192176060365,
           "9": 0.11961677952752856,
           "bdata": "/H369V1WoT9m77HScPWwP1DYobgUarE/TqNIg0Xvsz9G9OiZGeO0P0LvSB1yd7g/NpGDF7uuuT9OSYvBmWK7PxIJNINKjL0/xqIfjDSfvj+SiF5sLnS/PyuPj/zwTsE/q0HU8yeIwj+x/96f0dPCP+10u9yt6sc/2y3sc6iqyD8r8c9mGiPJP+Ph4LIQ5M8/",
           "dtype": "f8",
           "shape": "18"
          },
          "bdata": "/H369V1WoT9m77HScPWwP1DYobgUarE/TqNIg0Xvsz9G9OiZGeO0P0LvSB1yd7g/NpGDF7uuuT9OSYvBmWK7PxIJNINKjL0/xqIfjDSfvj+SiF5sLnS/PyuPj/zwTsE/q0HU8yeIwj+x/96f0dPCP+10u9yt6sc/2y3sc6iqyD8r8c9mGiPJP+Ph4LIQ5M8/",
          "dtype": "f8"
         },
         "yaxis": "y"
        },
        {
         "customdata": [
          [
           "100_020_03",
           1,
           "100_020"
          ],
          [
           "100_020_06",
           1,
           "100_020"
          ],
          [
           "100_020_14",
           1,
           "100_020"
          ],
          [
           "100_020_08",
           1,
           "100_020"
          ],
          [
           "100_020_07",
           1,
           "100_020"
          ],
          [
           "100_020_15",
           1,
           "100_020"
          ],
          [
           "100_020_09",
           1,
           "100_020"
          ],
          [
           "100_020_18",
           1,
           "100_020"
          ],
          [
           "100_020_16",
           1,
           "100_020"
          ],
          [
           "100_020_17",
           1,
           "100_020"
          ],
          [
           "100_020_19",
           1,
           "100_020"
          ],
          [
           "100_020_12",
           1,
           "100_020"
          ],
          [
           "100_020_04",
           1,
           "100_020"
          ],
          [
           "100_020_13",
           1,
           "100_020"
          ],
          [
           "100_020_10",
           1,
           "100_020"
          ],
          [
           "100_020_20",
           1,
           "100_020"
          ],
          [
           "100_020_05",
           1,
           "100_020"
          ],
          [
           "100_020_11",
           1,
           "100_020"
          ]
         ],
         "hovertemplate": "e (excentricidad)=%{x:.2f}<br>Distancia manhattan=%{y:.4f}<br>id=%{customdata[0]}<br>q_float=%{customdata[1]:.2f}<extra></extra>",
         "legendgroup": "100_020",
         "marker": {
          "color": "#19D3F3",
          "symbol": "circle"
         },
         "mode": "markers",
         "name": "100_020",
         "orientation": "v",
         "showlegend": true,
         "type": "scatter",
         "x": {
          "_inputArray": {
           "0": 0.2,
           "1": 0.2,
           "10": 0.2,
           "11": 0.2,
           "12": 0.2,
           "13": 0.2,
           "14": 0.2,
           "15": 0.2,
           "16": 0.2,
           "17": 0.2,
           "2": 0.2,
           "3": 0.2,
           "4": 0.2,
           "5": 0.2,
           "6": 0.2,
           "7": 0.2,
           "8": 0.2,
           "9": 0.2,
           "bdata": "mpmZmZmZyT+amZmZmZnJP5qZmZmZmck/mpmZmZmZyT+amZmZmZnJP5qZmZmZmck/mpmZmZmZyT+amZmZmZnJP5qZmZmZmck/mpmZmZmZyT+amZmZmZnJP5qZmZmZmck/mpmZmZmZyT+amZmZmZnJP5qZmZmZmck/mpmZmZmZyT+amZmZmZnJP5qZmZmZmck/",
           "dtype": "f8",
           "shape": "18"
          },
          "bdata": "mpmZmZmZyT+amZmZmZnJP5qZmZmZmck/mpmZmZmZyT+amZmZmZnJP5qZmZmZmck/mpmZmZmZyT+amZmZmZnJP5qZmZmZmck/mpmZmZmZyT+amZmZmZnJP5qZmZmZmck/mpmZmZmZyT+amZmZmZnJP5qZmZmZmck/mpmZmZmZyT+amZmZmZnJP5qZmZmZmck/",
          "dtype": "f8"
         },
         "xaxis": "x",
         "y": {
          "_inputArray": {
           "0": 0.05629695151107747,
           "1": 0.0696002550994605,
           "10": 0.1825307140607814,
           "11": 0.18586321515725776,
           "12": 0.19022799066884802,
           "13": 0.19032543343563554,
           "14": 0.19640581632954782,
           "15": 0.2284729694572998,
           "16": 0.26998769274958956,
           "17": 0.28131910624418,
           "2": 0.09399152174889921,
           "3": 0.09519684699860478,
           "4": 0.10584852776088158,
           "5": 0.13423118543720583,
           "6": 0.13807104320962474,
           "7": 0.16063520981035925,
           "8": 0.16561073525371975,
           "9": 0.16642000288506556,
           "bdata": "7Io1O/TSrD9cCHKDUtGxP4ZGAxDUD7g/KpSKENJeuD9eDxCd4xi7P6Eux8t8LsE/jRKO20+swT8bXVzOsY/EP7H/44m7MsU/kVLlKkBNxT/tCrSbKl3HP2OeUKddysc/cW5aC2RZyD+D/hl0lVzIP22W8GbTI8k/8WfrLZo+zT+epat1ekfRP8jBQ9ohAdI/",
           "dtype": "f8",
           "shape": "18"
          },
          "bdata": "7Io1O/TSrD9cCHKDUtGxP4ZGAxDUD7g/KpSKENJeuD9eDxCd4xi7P6Eux8t8LsE/jRKO20+swT8bXVzOsY/EP7H/44m7MsU/kVLlKkBNxT/tCrSbKl3HP2OeUKddysc/cW5aC2RZyD+D/hl0lVzIP22W8GbTI8k/8WfrLZo+zT+epat1ekfRP8jBQ9ohAdI/",
          "dtype": "f8"
         },
         "yaxis": "y"
        },
        {
         "customdata": [
          [
           "100_010_04",
           1,
           "100_010"
          ],
          [
           "100_010_18",
           1,
           "100_010"
          ],
          [
           "100_010_08",
           1,
           "100_010"
          ],
          [
           "100_010_06",
           1,
           "100_010"
          ],
          [
           "100_010_15",
           1,
           "100_010"
          ],
          [
           "100_010_20",
           1,
           "100_010"
          ],
          [
           "100_010_17",
           1,
           "100_010"
          ],
          [
           "100_010_13",
           1,
           "100_010"
          ],
          [
           "100_010_19",
           1,
           "100_010"
          ],
          [
           "100_010_09",
           1,
           "100_010"
          ],
          [
           "100_010_11",
           1,
           "100_010"
          ],
          [
           "100_010_10",
           1,
           "100_010"
          ],
          [
           "100_010_07",
           1,
           "100_010"
          ],
          [
           "100_010_16",
           1,
           "100_010"
          ],
          [
           "100_010_14",
           1,
           "100_010"
          ],
          [
           "100_010_12",
           1,
           "100_010"
          ],
          [
           "100_010_03",
           1,
           "100_010"
          ],
          [
           "100_010_05",
           1,
           "100_010"
          ]
         ],
         "hovertemplate": "e (excentricidad)=%{x:.2f}<br>Distancia manhattan=%{y:.4f}<br>id=%{customdata[0]}<br>q_float=%{customdata[1]:.2f}<extra></extra>",
         "legendgroup": "100_010",
         "marker": {
          "color": "#FF6692",
          "symbol": "circle"
         },
         "mode": "markers",
         "name": "100_010",
         "orientation": "v",
         "showlegend": true,
         "type": "scatter",
         "x": {
          "_inputArray": {
           "0": 0.1,
           "1": 0.1,
           "10": 0.1,
           "11": 0.1,
           "12": 0.1,
           "13": 0.1,
           "14": 0.1,
           "15": 0.1,
           "16": 0.1,
           "17": 0.1,
           "2": 0.1,
           "3": 0.1,
           "4": 0.1,
           "5": 0.1,
           "6": 0.1,
           "7": 0.1,
           "8": 0.1,
           "9": 0.1,
           "bdata": "mpmZmZmZuT+amZmZmZm5P5qZmZmZmbk/mpmZmZmZuT+amZmZmZm5P5qZmZmZmbk/mpmZmZmZuT+amZmZmZm5P5qZmZmZmbk/mpmZmZmZuT+amZmZmZm5P5qZmZmZmbk/mpmZmZmZuT+amZmZmZm5P5qZmZmZmbk/mpmZmZmZuT+amZmZmZm5P5qZmZmZmbk/",
           "dtype": "f8",
           "shape": "18"
          },
          "bdata": "mpmZmZmZuT+amZmZmZm5P5qZmZmZmbk/mpmZmZmZuT+amZmZmZm5P5qZmZmZmbk/mpmZmZmZuT+amZmZmZm5P5qZmZmZmbk/mpmZmZmZuT+amZmZmZm5P5qZmZmZmbk/mpmZmZmZuT+amZmZmZm5P5qZmZmZmbk/mpmZmZmZuT+amZmZmZm5P5qZmZmZmbk/",
          "dtype": "f8"
         },
         "xaxis": "x",
         "y": {
          "_inputArray": {
           "0": 0.07602212989513268,
           "1": 0.08018268732813191,
           "10": 0.16858809113480586,
           "11": 0.17785950481990812,
           "12": 0.1881397002048293,
           "13": 0.25214760574601414,
           "14": 0.2646059688179131,
           "15": 0.27224320154069825,
           "16": 0.27922994346258956,
           "17": 0.47756139248033125,
           "2": 0.08367635242231711,
           "3": 0.09315663444145442,
           "4": 0.11304850980102252,
           "5": 0.11706438715194586,
           "6": 0.13408852440161936,
           "7": 0.13614954796179132,
           "8": 0.14613627996712839,
           "9": 0.1502443713374144,
           "bdata": "8P6rsS92sz++m8dD2oa0P1o4Gj3Qa7U/ettU+hzZtz8u+XREv/C8Py4JWILu970/BXSJEdApwT/HN+4vWW3BP6/km/eXtMI/77CmIjU7wz+3o/VoS5TFPzn8PaoZxMY/EcC6MfYUyD/AZxy2LyPQP6qOmd9N79A/nj3Lv25s0T+MFs9E597RP2xBoqhdkN4/",
           "dtype": "f8",
           "shape": "18"
          },
          "bdata": "8P6rsS92sz++m8dD2oa0P1o4Gj3Qa7U/ettU+hzZtz8u+XREv/C8Py4JWILu970/BXSJEdApwT/HN+4vWW3BP6/km/eXtMI/77CmIjU7wz+3o/VoS5TFPzn8PaoZxMY/EcC6MfYUyD/AZxy2LyPQP6qOmd9N79A/nj3Lv25s0T+MFs9E597RP2xBoqhdkN4/",
          "dtype": "f8"
         },
         "yaxis": "y"
        },
        {
         "customdata": [
          [
           "050_000_11",
           0.5,
           "050_000"
          ],
          [
           "050_000_04",
           0.5,
           "050_000"
          ],
          [
           "050_000_18",
           0.5,
           "050_000"
          ],
          [
           "050_000_17",
           0.5,
           "050_000"
          ],
          [
           "050_000_08",
           0.5,
           "050_000"
          ],
          [
           "050_000_20",
           0.5,
           "050_000"
          ],
          [
           "050_000_16",
           0.5,
           "050_000"
          ],
          [
           "050_000_13",
           0.5,
           "050_000"
          ],
          [
           "050_000_19",
           0.5,
           "050_000"
          ],
          [
           "050_000_10",
           0.5,
           "050_000"
          ],
          [
           "050_000_05",
           0.5,
           "050_000"
          ],
          [
           "050_000_06",
           0.5,
           "050_000"
          ],
          [
           "050_000_14",
           0.5,
           "050_000"
          ],
          [
           "050_000_09",
           0.5,
           "050_000"
          ],
          [
           "050_000_15",
           0.5,
           "050_000"
          ],
          [
           "050_000_07",
           0.5,
           "050_000"
          ],
          [
           "050_000_03",
           0.5,
           "050_000"
          ],
          [
           "050_000_12",
           0.5,
           "050_000"
          ]
         ],
         "hovertemplate": "e (excentricidad)=%{x:.2f}<br>Distancia manhattan=%{y:.4f}<br>id=%{customdata[0]}<br>q_float=%{customdata[1]:.2f}<extra></extra>",
         "legendgroup": "050_000",
         "marker": {
          "color": "#B6E880",
          "symbol": "circle"
         },
         "mode": "markers",
         "name": "050_000",
         "orientation": "v",
         "showlegend": true,
         "type": "scatter",
         "x": {
          "_inputArray": {
           "0": 0,
           "1": 0,
           "10": 0,
           "11": 0,
           "12": 0,
           "13": 0,
           "14": 0,
           "15": 0,
           "16": 0,
           "17": 0,
           "2": 0,
           "3": 0,
           "4": 0,
           "5": 0,
           "6": 0,
           "7": 0,
           "8": 0,
           "9": 0,
           "bdata": "AAAAAAAAAAAAAAAAAAAAAAAAAAAAAAAAAAAAAAAAAAAAAAAAAAAAAAAAAAAAAAAAAAAAAAAAAAAAAAAAAAAAAAAAAAAAAAAAAAAAAAAAAAAAAAAAAAAAAAAAAAAAAAAAAAAAAAAAAAAAAAAAAAAAAAAAAAAAAAAAAAAAAAAAAAAAAAAAAAAAAAAAAAAAAAAA",
           "dtype": "f8",
           "shape": "18"
          },
          "bdata": "AAAAAAAAAAAAAAAAAAAAAAAAAAAAAAAAAAAAAAAAAAAAAAAAAAAAAAAAAAAAAAAAAAAAAAAAAAAAAAAAAAAAAAAAAAAAAAAAAAAAAAAAAAAAAAAAAAAAAAAAAAAAAAAAAAAAAAAAAAAAAAAAAAAAAAAAAAAAAAAAAAAAAAAAAAAAAAAAAAAAAAAAAAAAAAAA",
          "dtype": "f8"
         },
         "xaxis": "x",
         "y": {
          "_inputArray": {
           "0": 0.07647679926743212,
           "1": 0.09682194767587768,
           "10": 0.2014186430057999,
           "11": 0.21690960156924052,
           "12": 0.22185537233027922,
           "13": 0.23397121682378033,
           "14": 0.23613933846033894,
           "15": 0.2549686828785781,
           "16": 0.26808924547211654,
           "17": 0.28190810761523666,
           "2": 0.10529220492897587,
           "3": 0.11068683356670297,
           "4": 0.13244756936312888,
           "5": 0.17149898756686835,
           "6": 0.17835637607788893,
           "7": 0.17893161009421263,
           "8": 0.18139363851861937,
           "9": 0.18223562063422574,
           "bdata": "+KHBx/uTsz8GjM26Usm4PxqVsRBu9Lo/+ktE6vhVvD/Ztmy9CvTAP63Kcset88U/ZdAkuWHUxj9XoskiO+fGP8XokSDoN8c/USdlL39Txz+73kEKFsjJP9PRdp6xw8s/odtMwMFlzD+1UjvSxPLNP888/lfQOc4/mu6dKmhR0D9Wkm3LXyjRP/bRq03ICtI/",
           "dtype": "f8",
           "shape": "18"
          },
          "bdata": "+KHBx/uTsz8GjM26Usm4PxqVsRBu9Lo/+ktE6vhVvD/Ztmy9CvTAP63Kcset88U/ZdAkuWHUxj9XoskiO+fGP8XokSDoN8c/USdlL39Txz+73kEKFsjJP9PRdp6xw8s/odtMwMFlzD+1UjvSxPLNP888/lfQOc4/mu6dKmhR0D9Wkm3LXyjRP/bRq03ICtI/",
          "dtype": "f8"
         },
         "yaxis": "y"
        },
        {
         "customdata": [
          [
           "025_000_14",
           0.25,
           "025_000"
          ],
          [
           "025_000_04",
           0.25,
           "025_000"
          ],
          [
           "025_000_18",
           0.25,
           "025_000"
          ],
          [
           "025_000_12",
           0.25,
           "025_000"
          ],
          [
           "025_000_20",
           0.25,
           "025_000"
          ],
          [
           "025_000_15",
           0.25,
           "025_000"
          ],
          [
           "025_000_19",
           0.25,
           "025_000"
          ],
          [
           "025_000_11",
           0.25,
           "025_000"
          ],
          [
           "025_000_16",
           0.25,
           "025_000"
          ],
          [
           "025_000_10",
           0.25,
           "025_000"
          ],
          [
           "025_000_05",
           0.25,
           "025_000"
          ],
          [
           "025_000_06",
           0.25,
           "025_000"
          ],
          [
           "025_000_17",
           0.25,
           "025_000"
          ],
          [
           "025_000_08",
           0.25,
           "025_000"
          ],
          [
           "025_000_03",
           0.25,
           "025_000"
          ],
          [
           "025_000_09",
           0.25,
           "025_000"
          ],
          [
           "025_000_13",
           0.25,
           "025_000"
          ],
          [
           "025_000_07",
           0.25,
           "025_000"
          ]
         ],
         "hovertemplate": "e (excentricidad)=%{x:.2f}<br>Distancia manhattan=%{y:.4f}<br>id=%{customdata[0]}<br>q_float=%{customdata[1]:.2f}<extra></extra>",
         "legendgroup": "025_000",
         "marker": {
          "color": "#FF97FF",
          "symbol": "circle"
         },
         "mode": "markers",
         "name": "025_000",
         "orientation": "v",
         "showlegend": true,
         "type": "scatter",
         "x": {
          "_inputArray": {
           "0": 0,
           "1": 0,
           "10": 0,
           "11": 0,
           "12": 0,
           "13": 0,
           "14": 0,
           "15": 0,
           "16": 0,
           "17": 0,
           "2": 0,
           "3": 0,
           "4": 0,
           "5": 0,
           "6": 0,
           "7": 0,
           "8": 0,
           "9": 0,
           "bdata": "AAAAAAAAAAAAAAAAAAAAAAAAAAAAAAAAAAAAAAAAAAAAAAAAAAAAAAAAAAAAAAAAAAAAAAAAAAAAAAAAAAAAAAAAAAAAAAAAAAAAAAAAAAAAAAAAAAAAAAAAAAAAAAAAAAAAAAAAAAAAAAAAAAAAAAAAAAAAAAAAAAAAAAAAAAAAAAAAAAAAAAAAAAAAAAAA",
           "dtype": "f8",
           "shape": "18"
          },
          "bdata": "AAAAAAAAAAAAAAAAAAAAAAAAAAAAAAAAAAAAAAAAAAAAAAAAAAAAAAAAAAAAAAAAAAAAAAAAAAAAAAAAAAAAAAAAAAAAAAAAAAAAAAAAAAAAAAAAAAAAAAAAAAAAAAAAAAAAAAAAAAAAAAAAAAAAAAAAAAAAAAAAAAAAAAAAAAAAAAAAAAAAAAAAAAAAAAAA",
          "dtype": "f8"
         },
         "xaxis": "x",
         "y": {
          "_inputArray": {
           "0": 0.09150361135060694,
           "1": 0.1175281160488105,
           "10": 0.21411316928644072,
           "11": 0.23000598642114792,
           "12": 0.23700294177903078,
           "13": 0.2514100093129531,
           "14": 0.25740012878897134,
           "15": 0.26114739262274345,
           "16": 0.27024426724624917,
           "17": 0.30599585965506515,
           "2": 0.14777701500702803,
           "3": 0.1480262543884339,
           "4": 0.14997624731376155,
           "5": 0.15912272013707449,
           "6": 0.18132647124441773,
           "7": 0.19500762783166128,
           "8": 0.20084106512586422,
           "9": 0.2041846162657003,
           "bdata": "An032sdstz82RsqWUha+P70gR3Nb6sI/CRvGOIbywj9P2LHyazLDP6MHhR8iXsQ/9Wnyr7Q1xz+R9gCMAvbIP/1mNPcotck/HY+atLgiyj/TNN1xD2jLPwkSyA7WcM0/05T/xRxWzj9St/gBGhfQP+SgyGM+edA/0AWwjaO20D+SQ3CcrkvRP6iDe6hvldM/",
           "dtype": "f8",
           "shape": "18"
          },
          "bdata": "An032sdstz82RsqWUha+P70gR3Nb6sI/CRvGOIbywj9P2LHyazLDP6MHhR8iXsQ/9Wnyr7Q1xz+R9gCMAvbIP/1mNPcotck/HY+atLgiyj/TNN1xD2jLPwkSyA7WcM0/05T/xRxWzj9St/gBGhfQP+SgyGM+edA/0AWwjaO20D+SQ3CcrkvRP6iDe6hvldM/",
          "dtype": "f8"
         },
         "yaxis": "y"
        },
        {
         "customdata": [
          [
           "010_000_18",
           0.1,
           "010_000"
          ],
          [
           "010_000_10",
           0.1,
           "010_000"
          ],
          [
           "010_000_05",
           0.1,
           "010_000"
          ],
          [
           "010_000_13",
           0.1,
           "010_000"
          ],
          [
           "010_000_17",
           0.1,
           "010_000"
          ],
          [
           "010_000_16",
           0.1,
           "010_000"
          ],
          [
           "010_000_11",
           0.1,
           "010_000"
          ],
          [
           "010_000_15",
           0.1,
           "010_000"
          ],
          [
           "010_000_03",
           0.1,
           "010_000"
          ],
          [
           "010_000_19",
           0.1,
           "010_000"
          ],
          [
           "010_000_04",
           0.1,
           "010_000"
          ],
          [
           "010_000_20",
           0.1,
           "010_000"
          ],
          [
           "010_000_14",
           0.1,
           "010_000"
          ],
          [
           "010_000_07",
           0.1,
           "010_000"
          ],
          [
           "010_000_09",
           0.1,
           "010_000"
          ],
          [
           "010_000_12",
           0.1,
           "010_000"
          ],
          [
           "010_000_06",
           0.1,
           "010_000"
          ],
          [
           "010_000_08",
           0.1,
           "010_000"
          ]
         ],
         "hovertemplate": "e (excentricidad)=%{x:.2f}<br>Distancia manhattan=%{y:.4f}<br>id=%{customdata[0]}<br>q_float=%{customdata[1]:.2f}<extra></extra>",
         "legendgroup": "010_000",
         "marker": {
          "color": "#FECB52",
          "symbol": "circle"
         },
         "mode": "markers",
         "name": "010_000",
         "orientation": "v",
         "showlegend": true,
         "type": "scatter",
         "x": {
          "_inputArray": {
           "0": 0,
           "1": 0,
           "10": 0,
           "11": 0,
           "12": 0,
           "13": 0,
           "14": 0,
           "15": 0,
           "16": 0,
           "17": 0,
           "2": 0,
           "3": 0,
           "4": 0,
           "5": 0,
           "6": 0,
           "7": 0,
           "8": 0,
           "9": 0,
           "bdata": "AAAAAAAAAAAAAAAAAAAAAAAAAAAAAAAAAAAAAAAAAAAAAAAAAAAAAAAAAAAAAAAAAAAAAAAAAAAAAAAAAAAAAAAAAAAAAAAAAAAAAAAAAAAAAAAAAAAAAAAAAAAAAAAAAAAAAAAAAAAAAAAAAAAAAAAAAAAAAAAAAAAAAAAAAAAAAAAAAAAAAAAAAAAAAAAA",
           "dtype": "f8",
           "shape": "18"
          },
          "bdata": "AAAAAAAAAAAAAAAAAAAAAAAAAAAAAAAAAAAAAAAAAAAAAAAAAAAAAAAAAAAAAAAAAAAAAAAAAAAAAAAAAAAAAAAAAAAAAAAAAAAAAAAAAAAAAAAAAAAAAAAAAAAAAAAAAAAAAAAAAAAAAAAAAAAAAAAAAAAAAAAAAAAAAAAAAAAAAAAAAAAAAAAAAAAAAAAA",
          "dtype": "f8"
         },
         "xaxis": "x",
         "y": {
          "_inputArray": {
           "0": 0.13490917942082079,
           "1": 0.13737395813340222,
           "10": 0.23086187873027894,
           "11": 0.23557034987291772,
           "12": 0.23614906762276747,
           "13": 0.23922274979825534,
           "14": 0.273492636540261,
           "15": 0.29546328874763594,
           "16": 0.31582957192204175,
           "17": 0.3481714292147692,
           "2": 0.14530551896192087,
           "3": 0.16219798985119396,
           "4": 0.17232256222211215,
           "5": 0.19217616633810305,
           "6": 0.19986675771928217,
           "7": 0.20711913260695744,
           "8": 0.20942430634279582,
           "9": 0.22159170963274846,
           "bdata": "n3TFOLREwT8DpcBIeJXBPztU7wlfmcI/BaTxWufCxD/Lro1sqg7GP1sUv4Y6mcg/ox774TuVyT9PHXY24YLKP99pXWlqzso/Kfz3/B1dzD/HE4XN4YzNP01ETlIrJ84/zdg19SE6zj+B3Wvf2Z7OP3jIaELngNE/qr2V2t7o0j9K86A8jTbUP75BeNFwSNY/",
           "dtype": "f8",
           "shape": "18"
          },
          "bdata": "n3TFOLREwT8DpcBIeJXBPztU7wlfmcI/BaTxWufCxD/Lro1sqg7GP1sUv4Y6mcg/ox774TuVyT9PHXY24YLKP99pXWlqzso/Kfz3/B1dzD/HE4XN4YzNP01ETlIrJ84/zdg19SE6zj+B3Wvf2Z7OP3jIaELngNE/qr2V2t7o0j9K86A8jTbUP75BeNFwSNY/",
          "dtype": "f8"
         },
         "yaxis": "y"
        },
        {
         "customdata": [
          [
           "100_070_15",
           1,
           "100_070"
          ],
          [
           "100_070_18",
           1,
           "100_070"
          ],
          [
           "100_070_12",
           1,
           "100_070"
          ],
          [
           "100_070_10",
           1,
           "100_070"
          ],
          [
           "100_070_17",
           1,
           "100_070"
          ],
          [
           "100_070_09",
           1,
           "100_070"
          ],
          [
           "100_070_06",
           1,
           "100_070"
          ],
          [
           "100_070_07",
           1,
           "100_070"
          ],
          [
           "100_070_11",
           1,
           "100_070"
          ],
          [
           "100_070_16",
           1,
           "100_070"
          ],
          [
           "100_070_20",
           1,
           "100_070"
          ],
          [
           "100_070_14",
           1,
           "100_070"
          ],
          [
           "100_070_13",
           1,
           "100_070"
          ],
          [
           "100_070_08",
           1,
           "100_070"
          ],
          [
           "100_070_19",
           1,
           "100_070"
          ],
          [
           "100_070_04",
           1,
           "100_070"
          ],
          [
           "100_070_05",
           1,
           "100_070"
          ],
          [
           "100_070_03",
           1,
           "100_070"
          ]
         ],
         "hovertemplate": "e (excentricidad)=%{x:.2f}<br>Distancia manhattan=%{y:.4f}<br>id=%{customdata[0]}<br>q_float=%{customdata[1]:.2f}<extra></extra>",
         "legendgroup": "100_070",
         "marker": {
          "color": "#636EFA",
          "symbol": "circle"
         },
         "mode": "markers",
         "name": "100_070",
         "orientation": "v",
         "showlegend": true,
         "type": "scatter",
         "x": {
          "_inputArray": {
           "0": 0.7,
           "1": 0.7,
           "10": 0.7,
           "11": 0.7,
           "12": 0.7,
           "13": 0.7,
           "14": 0.7,
           "15": 0.7,
           "16": 0.7,
           "17": 0.7,
           "2": 0.7,
           "3": 0.7,
           "4": 0.7,
           "5": 0.7,
           "6": 0.7,
           "7": 0.7,
           "8": 0.7,
           "9": 0.7,
           "bdata": "ZmZmZmZm5j9mZmZmZmbmP2ZmZmZmZuY/ZmZmZmZm5j9mZmZmZmbmP2ZmZmZmZuY/ZmZmZmZm5j9mZmZmZmbmP2ZmZmZmZuY/ZmZmZmZm5j9mZmZmZmbmP2ZmZmZmZuY/ZmZmZmZm5j9mZmZmZmbmP2ZmZmZmZuY/ZmZmZmZm5j9mZmZmZmbmP2ZmZmZmZuY/",
           "dtype": "f8",
           "shape": "18"
          },
          "bdata": "ZmZmZmZm5j9mZmZmZmbmP2ZmZmZmZuY/ZmZmZmZm5j9mZmZmZmbmP2ZmZmZmZuY/ZmZmZmZm5j9mZmZmZmbmP2ZmZmZmZuY/ZmZmZmZm5j9mZmZmZmbmP2ZmZmZmZuY/ZmZmZmZm5j9mZmZmZmbmP2ZmZmZmZuY/ZmZmZmZm5j9mZmZmZmbmP2ZmZmZmZuY/",
          "dtype": "f8"
         },
         "xaxis": "x",
         "y": {
          "_inputArray": {
           "0": 0.13652056234038304,
           "1": 0.17572187898637562,
           "10": 0.3646597179746973,
           "11": 0.4845592915095419,
           "12": 0.49986990422784816,
           "13": 0.5125009897470081,
           "14": 0.5554648437140268,
           "15": 0.5716704252716355,
           "16": 0.9350410241488232,
           "17": 1,
           "2": 0.2227844236698843,
           "3": 0.2608964946641563,
           "4": 0.26384012310516114,
           "5": 0.26693424920259856,
           "6": 0.271697689955372,
           "7": 0.2746291609289857,
           "8": 0.28255914689687744,
           "9": 0.34280428407122243,
           "bdata": "feI9e4F5wT9lFbj1DX7GP8003DIzhMw/TE8ONoey0D92/gavweLQP3h6oGNzFdE/2HMwtX5j0T9Q8i0whpPRP1rlxvVyFdI/HO9AYYHw1T+UrLe2lVbXPxJpgPkEA98/2nK6Vt793z9oMcR5aGbgPzyLOjVexuE/DTqUxh9L4j++ZmQn2+vtPwAAAAAAAPA/",
           "dtype": "f8",
           "shape": "18"
          },
          "bdata": "feI9e4F5wT9lFbj1DX7GP8003DIzhMw/TE8ONoey0D92/gavweLQP3h6oGNzFdE/2HMwtX5j0T9Q8i0whpPRP1rlxvVyFdI/HO9AYYHw1T+UrLe2lVbXPxJpgPkEA98/2nK6Vt793z9oMcR5aGbgPzyLOjVexuE/DTqUxh9L4j++ZmQn2+vtPwAAAAAAAPA/",
          "dtype": "f8"
         },
         "yaxis": "y"
        },
        {
         "hovertemplate": "<b>Objetivo</b><br>id: 100_050_20<br>q: 1.00<br>e: 0.50<br>manhattan: 0",
         "marker": {
          "color": "black",
          "line": {
           "color": "white",
           "width": 1
          },
          "size": 14,
          "symbol": "star"
         },
         "mode": "markers",
         "name": "Objetivo 100_050_20",
         "showlegend": true,
         "type": "scatter",
         "x": [
          0.5
         ],
         "y": [
          0
         ]
        }
       ],
       "layout": {
        "autosize": true,
        "legend": {
         "title": {
          "text": "q_e"
         },
         "tracegroupgap": 0
        },
        "template": {
         "data": {
          "bar": [
           {
            "error_x": {
             "color": "#2a3f5f"
            },
            "error_y": {
             "color": "#2a3f5f"
            },
            "marker": {
             "line": {
              "color": "white",
              "width": 0.5
             },
             "pattern": {
              "fillmode": "overlay",
              "size": 10,
              "solidity": 0.2
             }
            },
            "type": "bar"
           }
          ],
          "barpolar": [
           {
            "marker": {
             "line": {
              "color": "white",
              "width": 0.5
             },
             "pattern": {
              "fillmode": "overlay",
              "size": 10,
              "solidity": 0.2
             }
            },
            "type": "barpolar"
           }
          ],
          "carpet": [
           {
            "aaxis": {
             "endlinecolor": "#2a3f5f",
             "gridcolor": "#C8D4E3",
             "linecolor": "#C8D4E3",
             "minorgridcolor": "#C8D4E3",
             "startlinecolor": "#2a3f5f"
            },
            "baxis": {
             "endlinecolor": "#2a3f5f",
             "gridcolor": "#C8D4E3",
             "linecolor": "#C8D4E3",
             "minorgridcolor": "#C8D4E3",
             "startlinecolor": "#2a3f5f"
            },
            "type": "carpet"
           }
          ],
          "choropleth": [
           {
            "colorbar": {
             "outlinewidth": 0,
             "ticks": ""
            },
            "type": "choropleth"
           }
          ],
          "contour": [
           {
            "colorbar": {
             "outlinewidth": 0,
             "ticks": ""
            },
            "colorscale": [
             [
              0,
              "#0d0887"
             ],
             [
              0.1111111111111111,
              "#46039f"
             ],
             [
              0.2222222222222222,
              "#7201a8"
             ],
             [
              0.3333333333333333,
              "#9c179e"
             ],
             [
              0.4444444444444444,
              "#bd3786"
             ],
             [
              0.5555555555555556,
              "#d8576b"
             ],
             [
              0.6666666666666666,
              "#ed7953"
             ],
             [
              0.7777777777777778,
              "#fb9f3a"
             ],
             [
              0.8888888888888888,
              "#fdca26"
             ],
             [
              1,
              "#f0f921"
             ]
            ],
            "type": "contour"
           }
          ],
          "contourcarpet": [
           {
            "colorbar": {
             "outlinewidth": 0,
             "ticks": ""
            },
            "type": "contourcarpet"
           }
          ],
          "heatmap": [
           {
            "colorbar": {
             "outlinewidth": 0,
             "ticks": ""
            },
            "colorscale": [
             [
              0,
              "#0d0887"
             ],
             [
              0.1111111111111111,
              "#46039f"
             ],
             [
              0.2222222222222222,
              "#7201a8"
             ],
             [
              0.3333333333333333,
              "#9c179e"
             ],
             [
              0.4444444444444444,
              "#bd3786"
             ],
             [
              0.5555555555555556,
              "#d8576b"
             ],
             [
              0.6666666666666666,
              "#ed7953"
             ],
             [
              0.7777777777777778,
              "#fb9f3a"
             ],
             [
              0.8888888888888888,
              "#fdca26"
             ],
             [
              1,
              "#f0f921"
             ]
            ],
            "type": "heatmap"
           }
          ],
          "histogram": [
           {
            "marker": {
             "pattern": {
              "fillmode": "overlay",
              "size": 10,
              "solidity": 0.2
             }
            },
            "type": "histogram"
           }
          ],
          "histogram2d": [
           {
            "colorbar": {
             "outlinewidth": 0,
             "ticks": ""
            },
            "colorscale": [
             [
              0,
              "#0d0887"
             ],
             [
              0.1111111111111111,
              "#46039f"
             ],
             [
              0.2222222222222222,
              "#7201a8"
             ],
             [
              0.3333333333333333,
              "#9c179e"
             ],
             [
              0.4444444444444444,
              "#bd3786"
             ],
             [
              0.5555555555555556,
              "#d8576b"
             ],
             [
              0.6666666666666666,
              "#ed7953"
             ],
             [
              0.7777777777777778,
              "#fb9f3a"
             ],
             [
              0.8888888888888888,
              "#fdca26"
             ],
             [
              1,
              "#f0f921"
             ]
            ],
            "type": "histogram2d"
           }
          ],
          "histogram2dcontour": [
           {
            "colorbar": {
             "outlinewidth": 0,
             "ticks": ""
            },
            "colorscale": [
             [
              0,
              "#0d0887"
             ],
             [
              0.1111111111111111,
              "#46039f"
             ],
             [
              0.2222222222222222,
              "#7201a8"
             ],
             [
              0.3333333333333333,
              "#9c179e"
             ],
             [
              0.4444444444444444,
              "#bd3786"
             ],
             [
              0.5555555555555556,
              "#d8576b"
             ],
             [
              0.6666666666666666,
              "#ed7953"
             ],
             [
              0.7777777777777778,
              "#fb9f3a"
             ],
             [
              0.8888888888888888,
              "#fdca26"
             ],
             [
              1,
              "#f0f921"
             ]
            ],
            "type": "histogram2dcontour"
           }
          ],
          "mesh3d": [
           {
            "colorbar": {
             "outlinewidth": 0,
             "ticks": ""
            },
            "type": "mesh3d"
           }
          ],
          "parcoords": [
           {
            "line": {
             "colorbar": {
              "outlinewidth": 0,
              "ticks": ""
             }
            },
            "type": "parcoords"
           }
          ],
          "pie": [
           {
            "automargin": true,
            "type": "pie"
           }
          ],
          "scatter": [
           {
            "fillpattern": {
             "fillmode": "overlay",
             "size": 10,
             "solidity": 0.2
            },
            "type": "scatter"
           }
          ],
          "scatter3d": [
           {
            "line": {
             "colorbar": {
              "outlinewidth": 0,
              "ticks": ""
             }
            },
            "marker": {
             "colorbar": {
              "outlinewidth": 0,
              "ticks": ""
             }
            },
            "type": "scatter3d"
           }
          ],
          "scattercarpet": [
           {
            "marker": {
             "colorbar": {
              "outlinewidth": 0,
              "ticks": ""
             }
            },
            "type": "scattercarpet"
           }
          ],
          "scattergeo": [
           {
            "marker": {
             "colorbar": {
              "outlinewidth": 0,
              "ticks": ""
             }
            },
            "type": "scattergeo"
           }
          ],
          "scattergl": [
           {
            "marker": {
             "colorbar": {
              "outlinewidth": 0,
              "ticks": ""
             }
            },
            "type": "scattergl"
           }
          ],
          "scattermap": [
           {
            "marker": {
             "colorbar": {
              "outlinewidth": 0,
              "ticks": ""
             }
            },
            "type": "scattermap"
           }
          ],
          "scattermapbox": [
           {
            "marker": {
             "colorbar": {
              "outlinewidth": 0,
              "ticks": ""
             }
            },
            "type": "scattermapbox"
           }
          ],
          "scatterpolar": [
           {
            "marker": {
             "colorbar": {
              "outlinewidth": 0,
              "ticks": ""
             }
            },
            "type": "scatterpolar"
           }
          ],
          "scatterpolargl": [
           {
            "marker": {
             "colorbar": {
              "outlinewidth": 0,
              "ticks": ""
             }
            },
            "type": "scatterpolargl"
           }
          ],
          "scatterternary": [
           {
            "marker": {
             "colorbar": {
              "outlinewidth": 0,
              "ticks": ""
             }
            },
            "type": "scatterternary"
           }
          ],
          "surface": [
           {
            "colorbar": {
             "outlinewidth": 0,
             "ticks": ""
            },
            "colorscale": [
             [
              0,
              "#0d0887"
             ],
             [
              0.1111111111111111,
              "#46039f"
             ],
             [
              0.2222222222222222,
              "#7201a8"
             ],
             [
              0.3333333333333333,
              "#9c179e"
             ],
             [
              0.4444444444444444,
              "#bd3786"
             ],
             [
              0.5555555555555556,
              "#d8576b"
             ],
             [
              0.6666666666666666,
              "#ed7953"
             ],
             [
              0.7777777777777778,
              "#fb9f3a"
             ],
             [
              0.8888888888888888,
              "#fdca26"
             ],
             [
              1,
              "#f0f921"
             ]
            ],
            "type": "surface"
           }
          ],
          "table": [
           {
            "cells": {
             "fill": {
              "color": "#EBF0F8"
             },
             "line": {
              "color": "white"
             }
            },
            "header": {
             "fill": {
              "color": "#C8D4E3"
             },
             "line": {
              "color": "white"
             }
            },
            "type": "table"
           }
          ]
         },
         "layout": {
          "annotationdefaults": {
           "arrowcolor": "#2a3f5f",
           "arrowhead": 0,
           "arrowwidth": 1
          },
          "autotypenumbers": "strict",
          "coloraxis": {
           "colorbar": {
            "outlinewidth": 0,
            "ticks": ""
           }
          },
          "colorscale": {
           "diverging": [
            [
             0,
             "#8e0152"
            ],
            [
             0.1,
             "#c51b7d"
            ],
            [
             0.2,
             "#de77ae"
            ],
            [
             0.3,
             "#f1b6da"
            ],
            [
             0.4,
             "#fde0ef"
            ],
            [
             0.5,
             "#f7f7f7"
            ],
            [
             0.6,
             "#e6f5d0"
            ],
            [
             0.7,
             "#b8e186"
            ],
            [
             0.8,
             "#7fbc41"
            ],
            [
             0.9,
             "#4d9221"
            ],
            [
             1,
             "#276419"
            ]
           ],
           "sequential": [
            [
             0,
             "#0d0887"
            ],
            [
             0.1111111111111111,
             "#46039f"
            ],
            [
             0.2222222222222222,
             "#7201a8"
            ],
            [
             0.3333333333333333,
             "#9c179e"
            ],
            [
             0.4444444444444444,
             "#bd3786"
            ],
            [
             0.5555555555555556,
             "#d8576b"
            ],
            [
             0.6666666666666666,
             "#ed7953"
            ],
            [
             0.7777777777777778,
             "#fb9f3a"
            ],
            [
             0.8888888888888888,
             "#fdca26"
            ],
            [
             1,
             "#f0f921"
            ]
           ],
           "sequentialminus": [
            [
             0,
             "#0d0887"
            ],
            [
             0.1111111111111111,
             "#46039f"
            ],
            [
             0.2222222222222222,
             "#7201a8"
            ],
            [
             0.3333333333333333,
             "#9c179e"
            ],
            [
             0.4444444444444444,
             "#bd3786"
            ],
            [
             0.5555555555555556,
             "#d8576b"
            ],
            [
             0.6666666666666666,
             "#ed7953"
            ],
            [
             0.7777777777777778,
             "#fb9f3a"
            ],
            [
             0.8888888888888888,
             "#fdca26"
            ],
            [
             1,
             "#f0f921"
            ]
           ]
          },
          "colorway": [
           "#636efa",
           "#EF553B",
           "#00cc96",
           "#ab63fa",
           "#FFA15A",
           "#19d3f3",
           "#FF6692",
           "#B6E880",
           "#FF97FF",
           "#FECB52"
          ],
          "font": {
           "color": "#2a3f5f"
          },
          "geo": {
           "bgcolor": "white",
           "lakecolor": "white",
           "landcolor": "white",
           "showlakes": true,
           "showland": true,
           "subunitcolor": "#C8D4E3"
          },
          "hoverlabel": {
           "align": "left"
          },
          "hovermode": "closest",
          "mapbox": {
           "style": "light"
          },
          "paper_bgcolor": "white",
          "plot_bgcolor": "white",
          "polar": {
           "angularaxis": {
            "gridcolor": "#EBF0F8",
            "linecolor": "#EBF0F8",
            "ticks": ""
           },
           "bgcolor": "white",
           "radialaxis": {
            "gridcolor": "#EBF0F8",
            "linecolor": "#EBF0F8",
            "ticks": ""
           }
          },
          "scene": {
           "xaxis": {
            "backgroundcolor": "white",
            "gridcolor": "#DFE8F3",
            "gridwidth": 2,
            "linecolor": "#EBF0F8",
            "showbackground": true,
            "ticks": "",
            "zerolinecolor": "#EBF0F8"
           },
           "yaxis": {
            "backgroundcolor": "white",
            "gridcolor": "#DFE8F3",
            "gridwidth": 2,
            "linecolor": "#EBF0F8",
            "showbackground": true,
            "ticks": "",
            "zerolinecolor": "#EBF0F8"
           },
           "zaxis": {
            "backgroundcolor": "white",
            "gridcolor": "#DFE8F3",
            "gridwidth": 2,
            "linecolor": "#EBF0F8",
            "showbackground": true,
            "ticks": "",
            "zerolinecolor": "#EBF0F8"
           }
          },
          "shapedefaults": {
           "line": {
            "color": "#2a3f5f"
           }
          },
          "ternary": {
           "aaxis": {
            "gridcolor": "#DFE8F3",
            "linecolor": "#A2B1C6",
            "ticks": ""
           },
           "baxis": {
            "gridcolor": "#DFE8F3",
            "linecolor": "#A2B1C6",
            "ticks": ""
           },
           "bgcolor": "white",
           "caxis": {
            "gridcolor": "#DFE8F3",
            "linecolor": "#A2B1C6",
            "ticks": ""
           }
          },
          "title": {
           "x": 0.05
          },
          "xaxis": {
           "automargin": true,
           "gridcolor": "#EBF0F8",
           "linecolor": "#EBF0F8",
           "ticks": "",
           "title": {
            "standoff": 15
           },
           "zerolinecolor": "#EBF0F8",
           "zerolinewidth": 2
          },
          "yaxis": {
           "automargin": true,
           "gridcolor": "#EBF0F8",
           "linecolor": "#EBF0F8",
           "ticks": "",
           "title": {
            "standoff": 15
           },
           "zerolinecolor": "#EBF0F8",
           "zerolinewidth": 2
          }
         }
        },
        "title": {
         "text": "Manhattan vs e"
        },
        "xaxis": {
         "anchor": "y",
         "autorange": true,
         "domain": [
          0,
          1
         ],
         "range": [
          -0.042891450528338135,
          0.742891450528338
         ],
         "title": {
          "text": "e (excentricidad)"
         },
         "type": "linear"
        },
        "yaxis": {
         "anchor": "x",
         "autorange": true,
         "domain": [
          0,
          1
         ],
         "range": [
          -0.11872909698996656,
          1.085284280936455
         ],
         "title": {
          "text": "Distancia manhattan"
         },
         "type": "linear"
        }
       }
      },
      "image/png": "[encoded data removed]"
     },
     "metadata": {},
     "output_type": "display_data"
    }
   ],
   "source": [
    "manual  = {}\n",
    "\n",
    "plot_distance_vs_e_interactive(\n",
    "    distances,\n",
    "    distance=\"manhattan\",\n",
    "    manual_colors=manual,\n",
    "    title=\"Manhattan vs e\"\n",
    ")"
   ]
  },
  {
   "cell_type": "code",
   "execution_count": 24,
   "id": "d9274701-d336-44ce-82ff-809d50943697",
   "metadata": {},
   "outputs": [
    {
     "data": {
      "application/vnd.plotly.v1+json": {
       "config": {
        "plotlyServerURL": "https://plot.ly"
       },
       "data": [
        {
         "customdata": [
          [
           "100_060_10",
           1,
           "100_060"
          ],
          [
           "100_060_09",
           1,
           "100_060"
          ],
          [
           "100_060_13",
           1,
           "100_060"
          ],
          [
           "100_060_20",
           1,
           "100_060"
          ],
          [
           "100_060_05",
           1,
           "100_060"
          ],
          [
           "100_060_17",
           1,
           "100_060"
          ],
          [
           "100_060_14",
           1,
           "100_060"
          ],
          [
           "100_060_06",
           1,
           "100_060"
          ],
          [
           "100_060_11",
           1,
           "100_060"
          ],
          [
           "100_060_15",
           1,
           "100_060"
          ],
          [
           "100_060_08",
           1,
           "100_060"
          ],
          [
           "100_060_18",
           1,
           "100_060"
          ],
          [
           "100_060_16",
           1,
           "100_060"
          ],
          [
           "100_060_12",
           1,
           "100_060"
          ],
          [
           "100_060_03",
           1,
           "100_060"
          ],
          [
           "100_060_19",
           1,
           "100_060"
          ],
          [
           "100_060_07",
           1,
           "100_060"
          ],
          [
           "100_060_04",
           1,
           "100_060"
          ]
         ],
         "hovertemplate": "e (excentricidad)=%{x:.2f}<br>Distancia euclidean=%{y:.4f}<br>id=%{customdata[0]}<br>q_float=%{customdata[1]:.2f}<extra></extra>",
         "legendgroup": "100_060",
         "marker": {
          "color": "#636EFA",
          "symbol": "circle"
         },
         "mode": "markers",
         "name": "100_060",
         "orientation": "v",
         "showlegend": true,
         "type": "scatter",
         "x": {
          "_inputArray": {
           "0": 0.6,
           "1": 0.6,
           "10": 0.6,
           "11": 0.6,
           "12": 0.6,
           "13": 0.6,
           "14": 0.6,
           "15": 0.6,
           "16": 0.6,
           "17": 0.6,
           "2": 0.6,
           "3": 0.6,
           "4": 0.6,
           "5": 0.6,
           "6": 0.6,
           "7": 0.6,
           "8": 0.6,
           "9": 0.6,
           "bdata": "MzMzMzMz4z8zMzMzMzPjPzMzMzMzM+M/MzMzMzMz4z8zMzMzMzPjPzMzMzMzM+M/MzMzMzMz4z8zMzMzMzPjPzMzMzMzM+M/MzMzMzMz4z8zMzMzMzPjPzMzMzMzM+M/MzMzMzMz4z8zMzMzMzPjPzMzMzMzM+M/MzMzMzMz4z8zMzMzMzPjPzMzMzMzM+M/",
           "dtype": "f8",
           "shape": "18"
          },
          "bdata": "MzMzMzMz4z8zMzMzMzPjPzMzMzMzM+M/MzMzMzMz4z8zMzMzMzPjPzMzMzMzM+M/MzMzMzMz4z8zMzMzMzPjPzMzMzMzM+M/MzMzMzMz4z8zMzMzMzPjPzMzMzMzM+M/MzMzMzMz4z8zMzMzMzPjPzMzMzMzM+M/MzMzMzMz4z8zMzMzMzPjPzMzMzMzM+M/",
          "dtype": "f8"
         },
         "xaxis": "x",
         "y": {
          "_inputArray": {
           "0": 0.013207239309438457,
           "1": 0.03586261406769442,
           "10": 0.22890082990977012,
           "11": 0.19630239758593288,
           "12": 0.34371323875566906,
           "13": 0.24239819736080742,
           "14": 0.2608058141911893,
           "15": 0.2868485546038767,
           "16": 0.3083580563279258,
           "17": 0.39939723537475313,
           "2": 0.05895393823035322,
           "3": 0.1531699787042552,
           "4": 0.05134794577321483,
           "5": 0.17648200395116026,
           "6": 0.09800936775013908,
           "7": 0.08711530153496899,
           "8": 0.0975264716066852,
           "9": 0.18907588101175132,
           "bdata": "AGI8p2UMiz8QvyOllVyiP0DsVuk1L64/9MOh6BKbwz9YH6AnR0qqP17Bpln2lsY/hEAwVSQXuT8s6RI7ME22PyyEC65+97g/vDS0cqMzyD8wrz5Vn0zNPzIF4dxvIMk/Bhrqz2X/1T8iEyN15wbPPyyzo94KsdA/4mw7Crpb0j+EvdhtI7zTP0IIA2y5j9k/",
           "dtype": "f8",
           "shape": "18"
          },
          "bdata": "AGI8p2UMiz8QvyOllVyiP0DsVuk1L64/9MOh6BKbwz9YH6AnR0qqP17Bpln2lsY/hEAwVSQXuT8s6RI7ME22PyyEC65+97g/vDS0cqMzyD8wrz5Vn0zNPzIF4dxvIMk/Bhrqz2X/1T8iEyN15wbPPyyzo94KsdA/4mw7Crpb0j+EvdhtI7zTP0IIA2y5j9k/",
          "dtype": "f8"
         },
         "yaxis": "y"
        },
        {
         "customdata": [
          [
           "100_050_19",
           1,
           "100_050"
          ],
          [
           "100_050_12",
           1,
           "100_050"
          ],
          [
           "100_050_15",
           1,
           "100_050"
          ],
          [
           "100_050_09",
           1,
           "100_050"
          ],
          [
           "100_050_08",
           1,
           "100_050"
          ],
          [
           "100_050_16",
           1,
           "100_050"
          ],
          [
           "100_050_07",
           1,
           "100_050"
          ],
          [
           "100_050_18",
           1,
           "100_050"
          ],
          [
           "100_050_13",
           1,
           "100_050"
          ],
          [
           "100_050_04",
           1,
           "100_050"
          ],
          [
           "100_050_06",
           1,
           "100_050"
          ],
          [
           "100_050_11",
           1,
           "100_050"
          ],
          [
           "100_050_14",
           1,
           "100_050"
          ],
          [
           "100_050_05",
           1,
           "100_050"
          ],
          [
           "100_050_10",
           1,
           "100_050"
          ],
          [
           "100_050_17",
           1,
           "100_050"
          ],
          [
           "100_050_03",
           1,
           "100_050"
          ]
         ],
         "hovertemplate": "e (excentricidad)=%{x:.2f}<br>Distancia euclidean=%{y:.4f}<br>id=%{customdata[0]}<br>q_float=%{customdata[1]:.2f}<extra></extra>",
         "legendgroup": "100_050",
         "marker": {
          "color": "#EF553B",
          "symbol": "circle"
         },
         "mode": "markers",
         "name": "100_050",
         "orientation": "v",
         "showlegend": true,
         "type": "scatter",
         "x": {
          "_inputArray": {
           "0": 0.5,
           "1": 0.5,
           "10": 0.5,
           "11": 0.5,
           "12": 0.5,
           "13": 0.5,
           "14": 0.5,
           "15": 0.5,
           "16": 0.5,
           "2": 0.5,
           "3": 0.5,
           "4": 0.5,
           "5": 0.5,
           "6": 0.5,
           "7": 0.5,
           "8": 0.5,
           "9": 0.5,
           "bdata": "AAAAAAAA4D8AAAAAAADgPwAAAAAAAOA/AAAAAAAA4D8AAAAAAADgPwAAAAAAAOA/AAAAAAAA4D8AAAAAAADgPwAAAAAAAOA/AAAAAAAA4D8AAAAAAADgPwAAAAAAAOA/AAAAAAAA4D8AAAAAAADgPwAAAAAAAOA/AAAAAAAA4D8AAAAAAADgPw==",
           "dtype": "f8",
           "shape": "17"
          },
          "bdata": "AAAAAAAA4D8AAAAAAADgPwAAAAAAAOA/AAAAAAAA4D8AAAAAAADgPwAAAAAAAOA/AAAAAAAA4D8AAAAAAADgPwAAAAAAAOA/AAAAAAAA4D8AAAAAAADgPwAAAAAAAOA/AAAAAAAA4D8AAAAAAADgPwAAAAAAAOA/AAAAAAAA4D8AAAAAAADgPw==",
          "dtype": "f8"
         },
         "xaxis": "x",
         "y": {
          "_inputArray": {
           "0": 0.022166289027880565,
           "1": 0.05979908532609424,
           "10": 0.1129691692005656,
           "11": 0.18008450287023448,
           "12": 0.24675324485450711,
           "13": 0.17422179346085032,
           "14": 0.19547575285069457,
           "15": 0.20165896992603344,
           "16": 0.3420380113480378,
           "2": 0.04053797857237895,
           "3": 0.03169160965918677,
           "4": 0.084259004491686,
           "5": 0.060158664633421344,
           "6": 0.11317075041322,
           "7": 0.06634140734447924,
           "8": 0.10690357481336787,
           "9": 0.10221350979340316,
           "bdata": "aDHLecKylj/Q0ZxX/J2uP+C6bdhkwaQ/mG0W9uE5oD9gcK+E/5G1P+DYV9Idza4/kHjjH8L4vD9wR+oewPuwP5gepl0IXrs/kKTFIaoquj9cNywnjOu8P6gKLE0CDcc/mH5qPpyVzz/IGJVU5kzGP5rN03ZZBck/koBjDPbPyT8Coy5m8+PVPw==",
           "dtype": "f8",
           "shape": "17"
          },
          "bdata": "aDHLecKylj/Q0ZxX/J2uP+C6bdhkwaQ/mG0W9uE5oD9gcK+E/5G1P+DYV9Idza4/kHjjH8L4vD9wR+oewPuwP5gepl0IXrs/kKTFIaoquj9cNywnjOu8P6gKLE0CDcc/mH5qPpyVzz/IGJVU5kzGP5rN03ZZBck/koBjDPbPyT8Coy5m8+PVPw==",
          "dtype": "f8"
         },
         "yaxis": "y"
        },
        {
         "customdata": [
          [
           "100_000_03",
           1,
           "100_000"
          ],
          [
           "100_000_14",
           1,
           "100_000"
          ],
          [
           "100_000_17",
           1,
           "100_000"
          ],
          [
           "100_000_04",
           1,
           "100_000"
          ],
          [
           "100_000_06",
           1,
           "100_000"
          ],
          [
           "100_000_18",
           1,
           "100_000"
          ],
          [
           "100_000_05",
           1,
           "100_000"
          ],
          [
           "100_000_19",
           1,
           "100_000"
          ],
          [
           "100_000_07",
           1,
           "100_000"
          ],
          [
           "100_000_10",
           1,
           "100_000"
          ],
          [
           "100_000_09",
           1,
           "100_000"
          ],
          [
           "100_000_20",
           1,
           "100_000"
          ],
          [
           "100_000_16",
           1,
           "100_000"
          ],
          [
           "100_000_15",
           1,
           "100_000"
          ],
          [
           "100_000_13",
           1,
           "100_000"
          ],
          [
           "100_000_11",
           1,
           "100_000"
          ],
          [
           "100_000_12",
           1,
           "100_000"
          ],
          [
           "100_000_08",
           1,
           "100_000"
          ]
         ],
         "hovertemplate": "e (excentricidad)=%{x:.2f}<br>Distancia euclidean=%{y:.4f}<br>id=%{customdata[0]}<br>q_float=%{customdata[1]:.2f}<extra></extra>",
         "legendgroup": "100_000",
         "marker": {
          "color": "#00CC96",
          "symbol": "circle"
         },
         "mode": "markers",
         "name": "100_000",
         "orientation": "v",
         "showlegend": true,
         "type": "scatter",
         "x": {
          "_inputArray": {
           "0": 0,
           "1": 0,
           "10": 0,
           "11": 0,
           "12": 0,
           "13": 0,
           "14": 0,
           "15": 0,
           "16": 0,
           "17": 0,
           "2": 0,
           "3": 0,
           "4": 0,
           "5": 0,
           "6": 0,
           "7": 0,
           "8": 0,
           "9": 0,
           "bdata": "AAAAAAAAAAAAAAAAAAAAAAAAAAAAAAAAAAAAAAAAAAAAAAAAAAAAAAAAAAAAAAAAAAAAAAAAAAAAAAAAAAAAAAAAAAAAAAAAAAAAAAAAAAAAAAAAAAAAAAAAAAAAAAAAAAAAAAAAAAAAAAAAAAAAAAAAAAAAAAAAAAAAAAAAAAAAAAAAAAAAAAAAAAAAAAAA",
           "dtype": "f8",
           "shape": "18"
          },
          "bdata": "AAAAAAAAAAAAAAAAAAAAAAAAAAAAAAAAAAAAAAAAAAAAAAAAAAAAAAAAAAAAAAAAAAAAAAAAAAAAAAAAAAAAAAAAAAAAAAAAAAAAAAAAAAAAAAAAAAAAAAAAAAAAAAAAAAAAAAAAAAAAAAAAAAAAAAAAAAAAAAAAAAAAAAAAAAAAAAAAAAAAAAAAAAAAAAAA",
          "dtype": "f8"
         },
         "xaxis": "x",
         "y": {
          "_inputArray": {
           "0": 0,
           "1": 0.03995069721336053,
           "10": 0.1329632293622981,
           "11": 0.1715255225056005,
           "12": 0.17902321139905242,
           "13": 0.1853502632103129,
           "14": 0.19396650807349086,
           "15": 0.20490043981451062,
           "16": 0.22346784899649824,
           "17": 0.234111240361986,
           "2": 0.08212253478672332,
           "3": 0.08006930188021533,
           "4": 0.06547509225690307,
           "5": 0.07455165601222552,
           "6": 0.07828147081514297,
           "7": 0.15151878105969446,
           "8": 0.1222308392137419,
           "9": 0.10867646388537389,
           "bdata": "AAAAAAAAAABAsvfzanSkP/xwLIH7BbU/GDT9+Gt/tD/YK/LD+cKwPwRmbzzRFbM/RKgIJUEKtD8+yrCo92TDP/BT/DCFSr8/EIw7gjjSuz88P9do8ATBP4Chy16M9MU/kIcXizvqxj9kimWzjrnHP470WADl08g/Rjz4dy06yj/e3pIvmJrMP2aIfWxb980/",
           "dtype": "f8",
           "shape": "18"
          },
          "bdata": "AAAAAAAAAABAsvfzanSkP/xwLIH7BbU/GDT9+Gt/tD/YK/LD+cKwPwRmbzzRFbM/RKgIJUEKtD8+yrCo92TDP/BT/DCFSr8/EIw7gjjSuz88P9do8ATBP4Chy16M9MU/kIcXizvqxj9kimWzjrnHP470WADl08g/Rjz4dy06yj/e3pIvmJrMP2aIfWxb980/",
          "dtype": "f8"
         },
         "yaxis": "y"
        },
        {
         "customdata": [
          [
           "100_040_09",
           1,
           "100_040"
          ],
          [
           "100_040_19",
           1,
           "100_040"
          ],
          [
           "100_040_14",
           1,
           "100_040"
          ],
          [
           "100_040_15",
           1,
           "100_040"
          ],
          [
           "100_040_18",
           1,
           "100_040"
          ],
          [
           "100_040_17",
           1,
           "100_040"
          ],
          [
           "100_040_12",
           1,
           "100_040"
          ],
          [
           "100_040_20",
           1,
           "100_040"
          ],
          [
           "100_040_11",
           1,
           "100_040"
          ],
          [
           "100_040_10",
           1,
           "100_040"
          ],
          [
           "100_040_16",
           1,
           "100_040"
          ],
          [
           "100_040_05",
           1,
           "100_040"
          ],
          [
           "100_040_06",
           1,
           "100_040"
          ],
          [
           "100_040_03",
           1,
           "100_040"
          ],
          [
           "100_040_04",
           1,
           "100_040"
          ],
          [
           "100_040_13",
           1,
           "100_040"
          ],
          [
           "100_040_07",
           1,
           "100_040"
          ],
          [
           "100_040_08",
           1,
           "100_040"
          ]
         ],
         "hovertemplate": "e (excentricidad)=%{x:.2f}<br>Distancia euclidean=%{y:.4f}<br>id=%{customdata[0]}<br>q_float=%{customdata[1]:.2f}<extra></extra>",
         "legendgroup": "100_040",
         "marker": {
          "color": "#AB63FA",
          "symbol": "circle"
         },
         "mode": "markers",
         "name": "100_040",
         "orientation": "v",
         "showlegend": true,
         "type": "scatter",
         "x": {
          "_inputArray": {
           "0": 0.4,
           "1": 0.4,
           "10": 0.4,
           "11": 0.4,
           "12": 0.4,
           "13": 0.4,
           "14": 0.4,
           "15": 0.4,
           "16": 0.4,
           "17": 0.4,
           "2": 0.4,
           "3": 0.4,
           "4": 0.4,
           "5": 0.4,
           "6": 0.4,
           "7": 0.4,
           "8": 0.4,
           "9": 0.4,
           "bdata": "mpmZmZmZ2T+amZmZmZnZP5qZmZmZmdk/mpmZmZmZ2T+amZmZmZnZP5qZmZmZmdk/mpmZmZmZ2T+amZmZmZnZP5qZmZmZmdk/mpmZmZmZ2T+amZmZmZnZP5qZmZmZmdk/mpmZmZmZ2T+amZmZmZnZP5qZmZmZmdk/mpmZmZmZ2T+amZmZmZnZP5qZmZmZmdk/",
           "dtype": "f8",
           "shape": "18"
          },
          "bdata": "mpmZmZmZ2T+amZmZmZnZP5qZmZmZmdk/mpmZmZmZ2T+amZmZmZnZP5qZmZmZmdk/mpmZmZmZ2T+amZmZmZnZP5qZmZmZmdk/mpmZmZmZ2T+amZmZmZnZP5qZmZmZmdk/mpmZmZmZ2T+amZmZmZnZP5qZmZmZmdk/mpmZmZmZ2T+amZmZmZnZP5qZmZmZmdk/",
          "dtype": "f8"
         },
         "xaxis": "x",
         "y": {
          "_inputArray": {
           "0": 0.05465624688204329,
           "1": 0.07953411651209397,
           "10": 0.13105041137332019,
           "11": 0.16785975353731325,
           "12": 0.13508429178975134,
           "13": 0.18483335281603858,
           "14": 0.15981478046588027,
           "15": 0.1805206327380841,
           "16": 0.20143636387369512,
           "17": 0.16982531634433184,
           "2": 0.06731234012106962,
           "3": 0.0802327220703567,
           "4": 0.0818127404849664,
           "5": 0.07337591426033091,
           "6": 0.134225607276377,
           "7": 0.05869345445066243,
           "8": 0.0978813098392996,
           "9": 0.13299105685418916,
           "bdata": "AM7CUef7qz9A8FUNWVy0P9Ttb6thO7E/MHpctSGKtD/ccMcErvG0P7ztD5DDyLI/8NXEAE4uwT9QsLWGEQ2uP1xBpuC/Drk/NrPs19kFwT+Y5XyHQsbAP9rx4KttfMU/3Fu4K3FKwT92B8eKnqjHPyBawovPdMQ/joDu0kwbxz/IBYixqsjJP0yq3QHWvMU/",
           "dtype": "f8",
           "shape": "18"
          },
          "bdata": "AM7CUef7qz9A8FUNWVy0P9Ttb6thO7E/MHpctSGKtD/ccMcErvG0P7ztD5DDyLI/8NXEAE4uwT9QsLWGEQ2uP1xBpuC/Drk/NrPs19kFwT+Y5XyHQsbAP9rx4KttfMU/3Fu4K3FKwT92B8eKnqjHPyBawovPdMQ/joDu0kwbxz/IBYixqsjJP0yq3QHWvMU/",
          "dtype": "f8"
         },
         "yaxis": "y"
        },
        {
         "customdata": [
          [
           "100_030_14",
           1,
           "100_030"
          ],
          [
           "100_030_05",
           1,
           "100_030"
          ],
          [
           "100_030_17",
           1,
           "100_030"
          ],
          [
           "100_030_11",
           1,
           "100_030"
          ],
          [
           "100_030_10",
           1,
           "100_030"
          ],
          [
           "100_030_04",
           1,
           "100_030"
          ],
          [
           "100_030_12",
           1,
           "100_030"
          ],
          [
           "100_030_08",
           1,
           "100_030"
          ],
          [
           "100_030_13",
           1,
           "100_030"
          ],
          [
           "100_030_06",
           1,
           "100_030"
          ],
          [
           "100_030_18",
           1,
           "100_030"
          ],
          [
           "100_030_16",
           1,
           "100_030"
          ],
          [
           "100_030_20",
           1,
           "100_030"
          ],
          [
           "100_030_15",
           1,
           "100_030"
          ],
          [
           "100_030_19",
           1,
           "100_030"
          ],
          [
           "100_030_07",
           1,
           "100_030"
          ],
          [
           "100_030_03",
           1,
           "100_030"
          ],
          [
           "100_030_09",
           1,
           "100_030"
          ]
         ],
         "hovertemplate": "e (excentricidad)=%{x:.2f}<br>Distancia euclidean=%{y:.4f}<br>id=%{customdata[0]}<br>q_float=%{customdata[1]:.2f}<extra></extra>",
         "legendgroup": "100_030",
         "marker": {
          "color": "#FFA15A",
          "symbol": "circle"
         },
         "mode": "markers",
         "name": "100_030",
         "orientation": "v",
         "showlegend": true,
         "type": "scatter",
         "x": {
          "_inputArray": {
           "0": 0.3,
           "1": 0.3,
           "10": 0.3,
           "11": 0.3,
           "12": 0.3,
           "13": 0.3,
           "14": 0.3,
           "15": 0.3,
           "16": 0.3,
           "17": 0.3,
           "2": 0.3,
           "3": 0.3,
           "4": 0.3,
           "5": 0.3,
           "6": 0.3,
           "7": 0.3,
           "8": 0.3,
           "9": 0.3,
           "bdata": "MzMzMzMz0z8zMzMzMzPTPzMzMzMzM9M/MzMzMzMz0z8zMzMzMzPTPzMzMzMzM9M/MzMzMzMz0z8zMzMzMzPTPzMzMzMzM9M/MzMzMzMz0z8zMzMzMzPTPzMzMzMzM9M/MzMzMzMz0z8zMzMzMzPTPzMzMzMzM9M/MzMzMzMz0z8zMzMzMzPTPzMzMzMzM9M/",
           "dtype": "f8",
           "shape": "18"
          },
          "bdata": "MzMzMzMz0z8zMzMzMzPTPzMzMzMzM9M/MzMzMzMz0z8zMzMzMzPTPzMzMzMzM9M/MzMzMzMz0z8zMzMzMzPTPzMzMzMzM9M/MzMzMzMz0z8zMzMzMzPTPzMzMzMzM9M/MzMzMzMz0z8zMzMzMzPTPzMzMzMzM9M/MzMzMzMz0z8zMzMzMzPTPzMzMzMzM9M/",
          "dtype": "f8"
         },
         "xaxis": "x",
         "y": {
          "_inputArray": {
           "0": 0.008047865590351672,
           "1": 0.06301677658641397,
           "10": 0.10302243174229175,
           "11": 0.10909652375232937,
           "12": 0.11206853677026268,
           "13": 0.08599138358195907,
           "14": 0.16268368984777704,
           "15": 0.19668728028765675,
           "16": 0.13868907528677427,
           "17": 0.21467891856440796,
           "2": 0.07054589285193363,
           "3": 0.05479983860122428,
           "4": 0.06174368636593808,
           "5": 0.056672840029320826,
           "6": 0.09075422990469012,
           "7": 0.07673429224690714,
           "8": 0.09664836212977984,
           "9": 0.11653220601444692,
           "bdata": "0PUaPGZ7gD98uYkS3iGwP3SKqq5LD7I/oJY8dbkOrD/wNFpT3pyvP6Cn/vQ4BK0/LBBqUas7tz/coq7L26SzP9Qyj3Lyvbg/0EXD/Q3VvT+4aBaXrV+6P3Cgn/G/7bs//L5WDIawvD8E6TgEiAO2P1CRvrPR0sQ/OvUvfgwtyT+ap1VJkMDBP8b4L0uZess/",
           "dtype": "f8",
           "shape": "18"
          },
          "bdata": "0PUaPGZ7gD98uYkS3iGwP3SKqq5LD7I/oJY8dbkOrD/wNFpT3pyvP6Cn/vQ4BK0/LBBqUas7tz/coq7L26SzP9Qyj3Lyvbg/0EXD/Q3VvT+4aBaXrV+6P3Cgn/G/7bs//L5WDIawvD8E6TgEiAO2P1CRvrPR0sQ/OvUvfgwtyT+ap1VJkMDBP8b4L0uZess/",
          "dtype": "f8"
         },
         "yaxis": "y"
        },
        {
         "customdata": [
          [
           "100_020_03",
           1,
           "100_020"
          ],
          [
           "100_020_06",
           1,
           "100_020"
          ],
          [
           "100_020_14",
           1,
           "100_020"
          ],
          [
           "100_020_08",
           1,
           "100_020"
          ],
          [
           "100_020_07",
           1,
           "100_020"
          ],
          [
           "100_020_15",
           1,
           "100_020"
          ],
          [
           "100_020_09",
           1,
           "100_020"
          ],
          [
           "100_020_18",
           1,
           "100_020"
          ],
          [
           "100_020_16",
           1,
           "100_020"
          ],
          [
           "100_020_17",
           1,
           "100_020"
          ],
          [
           "100_020_19",
           1,
           "100_020"
          ],
          [
           "100_020_12",
           1,
           "100_020"
          ],
          [
           "100_020_04",
           1,
           "100_020"
          ],
          [
           "100_020_13",
           1,
           "100_020"
          ],
          [
           "100_020_10",
           1,
           "100_020"
          ],
          [
           "100_020_20",
           1,
           "100_020"
          ],
          [
           "100_020_05",
           1,
           "100_020"
          ],
          [
           "100_020_11",
           1,
           "100_020"
          ]
         ],
         "hovertemplate": "e (excentricidad)=%{x:.2f}<br>Distancia euclidean=%{y:.4f}<br>id=%{customdata[0]}<br>q_float=%{customdata[1]:.2f}<extra></extra>",
         "legendgroup": "100_020",
         "marker": {
          "color": "#19D3F3",
          "symbol": "circle"
         },
         "mode": "markers",
         "name": "100_020",
         "orientation": "v",
         "showlegend": true,
         "type": "scatter",
         "x": {
          "_inputArray": {
           "0": 0.2,
           "1": 0.2,
           "10": 0.2,
           "11": 0.2,
           "12": 0.2,
           "13": 0.2,
           "14": 0.2,
           "15": 0.2,
           "16": 0.2,
           "17": 0.2,
           "2": 0.2,
           "3": 0.2,
           "4": 0.2,
           "5": 0.2,
           "6": 0.2,
           "7": 0.2,
           "8": 0.2,
           "9": 0.2,
           "bdata": "mpmZmZmZyT+amZmZmZnJP5qZmZmZmck/mpmZmZmZyT+amZmZmZnJP5qZmZmZmck/mpmZmZmZyT+amZmZmZnJP5qZmZmZmck/mpmZmZmZyT+amZmZmZnJP5qZmZmZmck/mpmZmZmZyT+amZmZmZnJP5qZmZmZmck/mpmZmZmZyT+amZmZmZnJP5qZmZmZmck/",
           "dtype": "f8",
           "shape": "18"
          },
          "bdata": "mpmZmZmZyT+amZmZmZnJP5qZmZmZmck/mpmZmZmZyT+amZmZmZnJP5qZmZmZmck/mpmZmZmZyT+amZmZmZnJP5qZmZmZmck/mpmZmZmZyT+amZmZmZnJP5qZmZmZmck/mpmZmZmZyT+amZmZmZnJP5qZmZmZmck/mpmZmZmZyT+amZmZmZnJP5qZmZmZmck/",
          "dtype": "f8"
         },
         "xaxis": "x",
         "y": {
          "_inputArray": {
           "0": 0.030455917247730835,
           "1": 0.04099401970337996,
           "10": 0.13808393788548573,
           "11": 0.14209310907730777,
           "12": 0.18800268018186866,
           "13": 0.16146762022197209,
           "14": 0.15997678623617667,
           "15": 0.16590782492160522,
           "16": 0.2478545237446969,
           "17": 0.233108153868829,
           "2": 0.07234253386909412,
           "3": 0.08110618522077795,
           "4": 0.08812305857085656,
           "5": 0.09421129646288379,
           "6": 0.14361478793561205,
           "7": 0.12002460363296613,
           "8": 0.1574527563872199,
           "9": 0.12855789279300123,
           "bdata": "0NoxAtYvnz8YSuoLK/2kPxzZE1EKhbI/oMwG/V/DtD+g15WWO4+2P+zKOEU7Hrg/GuWzKPhhwj/cplGz7rm+P6iQrHNpJ8Q/hCSYxJV0wD9iGKkGvKzBP/SrPGQbMMI/MoJ4yXgQyD9SsBuS+KrEP7Z0gIweesQ/NioYtXc8xT+mFtNwsrnPP1QWpux81s0/",
           "dtype": "f8",
           "shape": "18"
          },
          "bdata": "0NoxAtYvnz8YSuoLK/2kPxzZE1EKhbI/oMwG/V/DtD+g15WWO4+2P+zKOEU7Hrg/GuWzKPhhwj/cplGz7rm+P6iQrHNpJ8Q/hCSYxJV0wD9iGKkGvKzBP/SrPGQbMMI/MoJ4yXgQyD9SsBuS+KrEP7Z0gIweesQ/NioYtXc8xT+mFtNwsrnPP1QWpux81s0/",
          "dtype": "f8"
         },
         "yaxis": "y"
        },
        {
         "customdata": [
          [
           "100_010_04",
           1,
           "100_010"
          ],
          [
           "100_010_18",
           1,
           "100_010"
          ],
          [
           "100_010_08",
           1,
           "100_010"
          ],
          [
           "100_010_06",
           1,
           "100_010"
          ],
          [
           "100_010_15",
           1,
           "100_010"
          ],
          [
           "100_010_20",
           1,
           "100_010"
          ],
          [
           "100_010_17",
           1,
           "100_010"
          ],
          [
           "100_010_13",
           1,
           "100_010"
          ],
          [
           "100_010_19",
           1,
           "100_010"
          ],
          [
           "100_010_09",
           1,
           "100_010"
          ],
          [
           "100_010_11",
           1,
           "100_010"
          ],
          [
           "100_010_10",
           1,
           "100_010"
          ],
          [
           "100_010_07",
           1,
           "100_010"
          ],
          [
           "100_010_16",
           1,
           "100_010"
          ],
          [
           "100_010_14",
           1,
           "100_010"
          ],
          [
           "100_010_12",
           1,
           "100_010"
          ],
          [
           "100_010_03",
           1,
           "100_010"
          ],
          [
           "100_010_05",
           1,
           "100_010"
          ]
         ],
         "hovertemplate": "e (excentricidad)=%{x:.2f}<br>Distancia euclidean=%{y:.4f}<br>id=%{customdata[0]}<br>q_float=%{customdata[1]:.2f}<extra></extra>",
         "legendgroup": "100_010",
         "marker": {
          "color": "#FF6692",
          "symbol": "circle"
         },
         "mode": "markers",
         "name": "100_010",
         "orientation": "v",
         "showlegend": true,
         "type": "scatter",
         "x": {
          "_inputArray": {
           "0": 0.1,
           "1": 0.1,
           "10": 0.1,
           "11": 0.1,
           "12": 0.1,
           "13": 0.1,
           "14": 0.1,
           "15": 0.1,
           "16": 0.1,
           "17": 0.1,
           "2": 0.1,
           "3": 0.1,
           "4": 0.1,
           "5": 0.1,
           "6": 0.1,
           "7": 0.1,
           "8": 0.1,
           "9": 0.1,
           "bdata": "mpmZmZmZuT+amZmZmZm5P5qZmZmZmbk/mpmZmZmZuT+amZmZmZm5P5qZmZmZmbk/mpmZmZmZuT+amZmZmZm5P5qZmZmZmbk/mpmZmZmZuT+amZmZmZm5P5qZmZmZmbk/mpmZmZmZuT+amZmZmZm5P5qZmZmZmbk/mpmZmZmZuT+amZmZmZm5P5qZmZmZmbk/",
           "dtype": "f8",
           "shape": "18"
          },
          "bdata": "mpmZmZmZuT+amZmZmZm5P5qZmZmZmbk/mpmZmZmZuT+amZmZmZm5P5qZmZmZmbk/mpmZmZmZuT+amZmZmZm5P5qZmZmZmbk/mpmZmZmZuT+amZmZmZm5P5qZmZmZmbk/mpmZmZmZuT+amZmZmZm5P5qZmZmZmbk/mpmZmZmZuT+amZmZmZm5P5qZmZmZmbk/",
          "dtype": "f8"
         },
         "xaxis": "x",
         "y": {
          "_inputArray": {
           "0": 0.08722431823230098,
           "1": 0.03400266333266261,
           "10": 0.1645624108627205,
           "11": 0.1468477516965594,
           "12": 0.26177004804528714,
           "13": 0.261053557883175,
           "14": 0.28693937808643477,
           "15": 0.262542274736111,
           "16": 0.21580132094084697,
           "17": 0.8820149690629387,
           "2": 0.03977546909727431,
           "3": 0.06678331883923855,
           "4": 0.07480115523842923,
           "5": 0.08002214028668952,
           "6": 0.1408243037335739,
           "7": 0.20075440138098144,
           "8": 0.10675383145506878,
           "9": 0.12608749784044726,
           "bdata": "xD85OlVUtj/4OvsNzGihP2hl6UVzXaQ//DZVKrYYsT8Iu3MjKyazP8i8fLtUfLQ/CEOC4YcGwj+4zDr6UbLJP8h80hY4VLs/ZGDUl6IjwD/UNGeOYRDFP6CQgznoy8I/oFHbKNfA0D8lNmf7GbXQP1Y2NPs2XdI/YMfzHH7N0D/a8O+vYJ/LPxWm1nR3Oew/",
           "dtype": "f8",
           "shape": "18"
          },
          "bdata": "xD85OlVUtj/4OvsNzGihP2hl6UVzXaQ//DZVKrYYsT8Iu3MjKyazP8i8fLtUfLQ/CEOC4YcGwj+4zDr6UbLJP8h80hY4VLs/ZGDUl6IjwD/UNGeOYRDFP6CQgznoy8I/oFHbKNfA0D8lNmf7GbXQP1Y2NPs2XdI/YMfzHH7N0D/a8O+vYJ/LPxWm1nR3Oew/",
          "dtype": "f8"
         },
         "yaxis": "y"
        },
        {
         "customdata": [
          [
           "050_000_11",
           0.5,
           "050_000"
          ],
          [
           "050_000_04",
           0.5,
           "050_000"
          ],
          [
           "050_000_18",
           0.5,
           "050_000"
          ],
          [
           "050_000_17",
           0.5,
           "050_000"
          ],
          [
           "050_000_08",
           0.5,
           "050_000"
          ],
          [
           "050_000_20",
           0.5,
           "050_000"
          ],
          [
           "050_000_16",
           0.5,
           "050_000"
          ],
          [
           "050_000_13",
           0.5,
           "050_000"
          ],
          [
           "050_000_19",
           0.5,
           "050_000"
          ],
          [
           "050_000_10",
           0.5,
           "050_000"
          ],
          [
           "050_000_05",
           0.5,
           "050_000"
          ],
          [
           "050_000_06",
           0.5,
           "050_000"
          ],
          [
           "050_000_14",
           0.5,
           "050_000"
          ],
          [
           "050_000_09",
           0.5,
           "050_000"
          ],
          [
           "050_000_15",
           0.5,
           "050_000"
          ],
          [
           "050_000_07",
           0.5,
           "050_000"
          ],
          [
           "050_000_03",
           0.5,
           "050_000"
          ],
          [
           "050_000_12",
           0.5,
           "050_000"
          ]
         ],
         "hovertemplate": "e (excentricidad)=%{x:.2f}<br>Distancia euclidean=%{y:.4f}<br>id=%{customdata[0]}<br>q_float=%{customdata[1]:.2f}<extra></extra>",
         "legendgroup": "050_000",
         "marker": {
          "color": "#B6E880",
          "symbol": "circle"
         },
         "mode": "markers",
         "name": "050_000",
         "orientation": "v",
         "showlegend": true,
         "type": "scatter",
         "x": {
          "_inputArray": {
           "0": 0,
           "1": 0,
           "10": 0,
           "11": 0,
           "12": 0,
           "13": 0,
           "14": 0,
           "15": 0,
           "16": 0,
           "17": 0,
           "2": 0,
           "3": 0,
           "4": 0,
           "5": 0,
           "6": 0,
           "7": 0,
           "8": 0,
           "9": 0,
           "bdata": "AAAAAAAAAAAAAAAAAAAAAAAAAAAAAAAAAAAAAAAAAAAAAAAAAAAAAAAAAAAAAAAAAAAAAAAAAAAAAAAAAAAAAAAAAAAAAAAAAAAAAAAAAAAAAAAAAAAAAAAAAAAAAAAAAAAAAAAAAAAAAAAAAAAAAAAAAAAAAAAAAAAAAAAAAAAAAAAAAAAAAAAAAAAAAAAA",
           "dtype": "f8",
           "shape": "18"
          },
          "bdata": "AAAAAAAAAAAAAAAAAAAAAAAAAAAAAAAAAAAAAAAAAAAAAAAAAAAAAAAAAAAAAAAAAAAAAAAAAAAAAAAAAAAAAAAAAAAAAAAAAAAAAAAAAAAAAAAAAAAAAAAAAAAAAAAAAAAAAAAAAAAAAAAAAAAAAAAAAAAAAAAAAAAAAAAAAAAAAAAAAAAAAAAAAAAAAAAA",
          "dtype": "f8"
         },
         "xaxis": "x",
         "y": {
          "_inputArray": {
           "0": 0.03306265568038011,
           "1": 0.05843035931408369,
           "10": 0.15956920176868683,
           "11": 0.1681029548459636,
           "12": 0.20682066968459845,
           "13": 0.18796073718149697,
           "14": 0.20302443941584308,
           "15": 0.23838503248063142,
           "16": 0.233578034956623,
           "17": 0.2269271469220966,
           "2": 0.07574499952028274,
           "3": 0.07401407246344865,
           "4": 0.08870308235757757,
           "5": 0.11573821861542477,
           "6": 0.11634151466704623,
           "7": 0.16313708264330878,
           "8": 0.1459786624957432,
           "9": 0.1513351206932857,
           "bdata": "3Ha7oZbtoD/w7bGEleqtPzxwxjcGZLM/BJ6sFJbysj+MusfFPrW2P4C92RcFob0/SH2puI7IvT/a4lsJreHEPwShqsZtr8I/dJMOAfNewz+MzYV7w2zEPwhStsplhMU/UFE3hhl5yj/MM5DxGA/IPzY2ym+0/Mk/Whsul2aDzj8g8JmS4uXNP2BwTeHyC80/",
           "dtype": "f8",
           "shape": "18"
          },
          "bdata": "3Ha7oZbtoD/w7bGEleqtPzxwxjcGZLM/BJ6sFJbysj+MusfFPrW2P4C92RcFob0/SH2puI7IvT/a4lsJreHEPwShqsZtr8I/dJMOAfNewz+MzYV7w2zEPwhStsplhMU/UFE3hhl5yj/MM5DxGA/IPzY2ym+0/Mk/Whsul2aDzj8g8JmS4uXNP2BwTeHyC80/",
          "dtype": "f8"
         },
         "yaxis": "y"
        },
        {
         "customdata": [
          [
           "025_000_14",
           0.25,
           "025_000"
          ],
          [
           "025_000_04",
           0.25,
           "025_000"
          ],
          [
           "025_000_18",
           0.25,
           "025_000"
          ],
          [
           "025_000_12",
           0.25,
           "025_000"
          ],
          [
           "025_000_20",
           0.25,
           "025_000"
          ],
          [
           "025_000_15",
           0.25,
           "025_000"
          ],
          [
           "025_000_19",
           0.25,
           "025_000"
          ],
          [
           "025_000_11",
           0.25,
           "025_000"
          ],
          [
           "025_000_16",
           0.25,
           "025_000"
          ],
          [
           "025_000_10",
           0.25,
           "025_000"
          ],
          [
           "025_000_05",
           0.25,
           "025_000"
          ],
          [
           "025_000_06",
           0.25,
           "025_000"
          ],
          [
           "025_000_17",
           0.25,
           "025_000"
          ],
          [
           "025_000_08",
           0.25,
           "025_000"
          ],
          [
           "025_000_03",
           0.25,
           "025_000"
          ],
          [
           "025_000_09",
           0.25,
           "025_000"
          ],
          [
           "025_000_13",
           0.25,
           "025_000"
          ],
          [
           "025_000_07",
           0.25,
           "025_000"
          ]
         ],
         "hovertemplate": "e (excentricidad)=%{x:.2f}<br>Distancia euclidean=%{y:.4f}<br>id=%{customdata[0]}<br>q_float=%{customdata[1]:.2f}<extra></extra>",
         "legendgroup": "025_000",
         "marker": {
          "color": "#FF97FF",
          "symbol": "circle"
         },
         "mode": "markers",
         "name": "025_000",
         "orientation": "v",
         "showlegend": true,
         "type": "scatter",
         "x": {
          "_inputArray": {
           "0": 0,
           "1": 0,
           "10": 0,
           "11": 0,
           "12": 0,
           "13": 0,
           "14": 0,
           "15": 0,
           "16": 0,
           "17": 0,
           "2": 0,
           "3": 0,
           "4": 0,
           "5": 0,
           "6": 0,
           "7": 0,
           "8": 0,
           "9": 0,
           "bdata": "AAAAAAAAAAAAAAAAAAAAAAAAAAAAAAAAAAAAAAAAAAAAAAAAAAAAAAAAAAAAAAAAAAAAAAAAAAAAAAAAAAAAAAAAAAAAAAAAAAAAAAAAAAAAAAAAAAAAAAAAAAAAAAAAAAAAAAAAAAAAAAAAAAAAAAAAAAAAAAAAAAAAAAAAAAAAAAAAAAAAAAAAAAAAAAAA",
           "dtype": "f8",
           "shape": "18"
          },
          "bdata": "AAAAAAAAAAAAAAAAAAAAAAAAAAAAAAAAAAAAAAAAAAAAAAAAAAAAAAAAAAAAAAAAAAAAAAAAAAAAAAAAAAAAAAAAAAAAAAAAAAAAAAAAAAAAAAAAAAAAAAAAAAAAAAAAAAAAAAAAAAAAAAAAAAAAAAAAAAAAAAAAAAAAAAAAAAAAAAAAAAAAAAAAAAAAAAAA",
          "dtype": "f8"
         },
         "xaxis": "x",
         "y": {
          "_inputArray": {
           "0": 0.060364678591820375,
           "1": 0.09448721171777857,
           "10": 0.18280235574727793,
           "11": 0.21572998864494775,
           "12": 0.20585288014847136,
           "13": 0.22900193207039943,
           "14": 0.224332502356707,
           "15": 0.22916851754976908,
           "16": 0.245891955504561,
           "17": 0.27369188622813273,
           "2": 0.11898052811904564,
           "3": 0.09691987825489867,
           "4": 0.12102289244315445,
           "5": 0.1460316117301379,
           "6": 0.1413288040738675,
           "7": 0.17686950755609143,
           "8": 0.16723752943358167,
           "9": 0.18127147352500622,
           "bdata": "wFXFgB7orj+M1DdcUDC4P+zRIQWCdb4/OOVvu73PuD8gVRw1W/u+PxAUSPIpscI/XHK97w8Xwj8EeE73qKPGP4ZgyhMKaMU/tmo+Veczxz8OfchNEWbHP2CN/04Kncs/ODYDHmNZyj90SXtw70/NP6Skhmzttsw/aBQT3GRVzT/86545Y3nPP8vxIfkqhNE/",
           "dtype": "f8",
           "shape": "18"
          },
          "bdata": "wFXFgB7orj+M1DdcUDC4P+zRIQWCdb4/OOVvu73PuD8gVRw1W/u+PxAUSPIpscI/XHK97w8Xwj8EeE73qKPGP4ZgyhMKaMU/tmo+Veczxz8OfchNEWbHP2CN/04Kncs/ODYDHmNZyj90SXtw70/NP6Skhmzttsw/aBQT3GRVzT/86545Y3nPP8vxIfkqhNE/",
          "dtype": "f8"
         },
         "yaxis": "y"
        },
        {
         "customdata": [
          [
           "010_000_18",
           0.1,
           "010_000"
          ],
          [
           "010_000_10",
           0.1,
           "010_000"
          ],
          [
           "010_000_05",
           0.1,
           "010_000"
          ],
          [
           "010_000_13",
           0.1,
           "010_000"
          ],
          [
           "010_000_17",
           0.1,
           "010_000"
          ],
          [
           "010_000_16",
           0.1,
           "010_000"
          ],
          [
           "010_000_11",
           0.1,
           "010_000"
          ],
          [
           "010_000_15",
           0.1,
           "010_000"
          ],
          [
           "010_000_03",
           0.1,
           "010_000"
          ],
          [
           "010_000_19",
           0.1,
           "010_000"
          ],
          [
           "010_000_04",
           0.1,
           "010_000"
          ],
          [
           "010_000_20",
           0.1,
           "010_000"
          ],
          [
           "010_000_14",
           0.1,
           "010_000"
          ],
          [
           "010_000_07",
           0.1,
           "010_000"
          ],
          [
           "010_000_09",
           0.1,
           "010_000"
          ],
          [
           "010_000_12",
           0.1,
           "010_000"
          ],
          [
           "010_000_06",
           0.1,
           "010_000"
          ],
          [
           "010_000_08",
           0.1,
           "010_000"
          ]
         ],
         "hovertemplate": "e (excentricidad)=%{x:.2f}<br>Distancia euclidean=%{y:.4f}<br>id=%{customdata[0]}<br>q_float=%{customdata[1]:.2f}<extra></extra>",
         "legendgroup": "010_000",
         "marker": {
          "color": "#FECB52",
          "symbol": "circle"
         },
         "mode": "markers",
         "name": "010_000",
         "orientation": "v",
         "showlegend": true,
         "type": "scatter",
         "x": {
          "_inputArray": {
           "0": 0,
           "1": 0,
           "10": 0,
           "11": 0,
           "12": 0,
           "13": 0,
           "14": 0,
           "15": 0,
           "16": 0,
           "17": 0,
           "2": 0,
           "3": 0,
           "4": 0,
           "5": 0,
           "6": 0,
           "7": 0,
           "8": 0,
           "9": 0,
           "bdata": "AAAAAAAAAAAAAAAAAAAAAAAAAAAAAAAAAAAAAAAAAAAAAAAAAAAAAAAAAAAAAAAAAAAAAAAAAAAAAAAAAAAAAAAAAAAAAAAAAAAAAAAAAAAAAAAAAAAAAAAAAAAAAAAAAAAAAAAAAAAAAAAAAAAAAAAAAAAAAAAAAAAAAAAAAAAAAAAAAAAAAAAAAAAAAAAA",
           "dtype": "f8",
           "shape": "18"
          },
          "bdata": "AAAAAAAAAAAAAAAAAAAAAAAAAAAAAAAAAAAAAAAAAAAAAAAAAAAAAAAAAAAAAAAAAAAAAAAAAAAAAAAAAAAAAAAAAAAAAAAAAAAAAAAAAAAAAAAAAAAAAAAAAAAAAAAAAAAAAAAAAAAAAAAAAAAAAAAAAAAAAAAAAAAAAAAAAAAAAAAAAAAAAAAAAAAAAAAA",
          "dtype": "f8"
         },
         "xaxis": "x",
         "y": {
          "_inputArray": {
           "0": 0.12411636798829306,
           "1": 0.11553589073924603,
           "10": 0.20418814494943993,
           "11": 0.20150797843017465,
           "12": 0.1933132551077406,
           "13": 0.20634292875082588,
           "14": 0.23914167644039536,
           "15": 0.2533355789803262,
           "16": 0.2542783734699317,
           "17": 0.35129722284427445,
           "2": 0.12995575721758046,
           "3": 0.12434371836660929,
           "4": 0.11909738748673526,
           "5": 0.1536333539489802,
           "6": 0.16471448423606255,
           "7": 0.1854462081044147,
           "8": 0.14413146515000008,
           "9": 0.20411813833243098,
           "bdata": "AHRoHRfGvz8sQj2YwpO9PxCVludjosA/uP3Ya/3Uvz/IaEuYKn2+P5aQZPtBqsM/tlZ8PV0VxT/M4nyLs7zHP4BoklzmcsI/vD9UDIsgyj/U9WRO1iLKP2TOnnADy8k/MhhJHn2+yD+icV/xcWnKP8IHtscxnM4/+I6obqY20D8hiojMGEbQP5Ks0line9Y/",
           "dtype": "f8",
           "shape": "18"
          },
          "bdata": "AHRoHRfGvz8sQj2YwpO9PxCVludjosA/uP3Ya/3Uvz/IaEuYKn2+P5aQZPtBqsM/tlZ8PV0VxT/M4nyLs7zHP4BoklzmcsI/vD9UDIsgyj/U9WRO1iLKP2TOnnADy8k/MhhJHn2+yD+icV/xcWnKP8IHtscxnM4/+I6obqY20D8hiojMGEbQP5Ks0line9Y/",
          "dtype": "f8"
         },
         "yaxis": "y"
        },
        {
         "customdata": [
          [
           "100_070_15",
           1,
           "100_070"
          ],
          [
           "100_070_18",
           1,
           "100_070"
          ],
          [
           "100_070_12",
           1,
           "100_070"
          ],
          [
           "100_070_10",
           1,
           "100_070"
          ],
          [
           "100_070_17",
           1,
           "100_070"
          ],
          [
           "100_070_09",
           1,
           "100_070"
          ],
          [
           "100_070_06",
           1,
           "100_070"
          ],
          [
           "100_070_07",
           1,
           "100_070"
          ],
          [
           "100_070_11",
           1,
           "100_070"
          ],
          [
           "100_070_16",
           1,
           "100_070"
          ],
          [
           "100_070_20",
           1,
           "100_070"
          ],
          [
           "100_070_14",
           1,
           "100_070"
          ],
          [
           "100_070_13",
           1,
           "100_070"
          ],
          [
           "100_070_08",
           1,
           "100_070"
          ],
          [
           "100_070_19",
           1,
           "100_070"
          ],
          [
           "100_070_04",
           1,
           "100_070"
          ],
          [
           "100_070_05",
           1,
           "100_070"
          ],
          [
           "100_070_03",
           1,
           "100_070"
          ]
         ],
         "hovertemplate": "e (excentricidad)=%{x:.2f}<br>Distancia euclidean=%{y:.4f}<br>id=%{customdata[0]}<br>q_float=%{customdata[1]:.2f}<extra></extra>",
         "legendgroup": "100_070",
         "marker": {
          "color": "#636EFA",
          "symbol": "circle"
         },
         "mode": "markers",
         "name": "100_070",
         "orientation": "v",
         "showlegend": true,
         "type": "scatter",
         "x": {
          "_inputArray": {
           "0": 0.7,
           "1": 0.7,
           "10": 0.7,
           "11": 0.7,
           "12": 0.7,
           "13": 0.7,
           "14": 0.7,
           "15": 0.7,
           "16": 0.7,
           "17": 0.7,
           "2": 0.7,
           "3": 0.7,
           "4": 0.7,
           "5": 0.7,
           "6": 0.7,
           "7": 0.7,
           "8": 0.7,
           "9": 0.7,
           "bdata": "ZmZmZmZm5j9mZmZmZmbmP2ZmZmZmZuY/ZmZmZmZm5j9mZmZmZmbmP2ZmZmZmZuY/ZmZmZmZm5j9mZmZmZmbmP2ZmZmZmZuY/ZmZmZmZm5j9mZmZmZmbmP2ZmZmZmZuY/ZmZmZmZm5j9mZmZmZmbmP2ZmZmZmZuY/ZmZmZmZm5j9mZmZmZmbmP2ZmZmZmZuY/",
           "dtype": "f8",
           "shape": "18"
          },
          "bdata": "ZmZmZmZm5j9mZmZmZmbmP2ZmZmZmZuY/ZmZmZmZm5j9mZmZmZmbmP2ZmZmZmZuY/ZmZmZmZm5j9mZmZmZmbmP2ZmZmZmZuY/ZmZmZmZm5j9mZmZmZmbmP2ZmZmZmZuY/ZmZmZmZm5j9mZmZmZmbmP2ZmZmZmZuY/ZmZmZmZm5j9mZmZmZmbmP2ZmZmZmZuY/",
          "dtype": "f8"
         },
         "xaxis": "x",
         "y": {
          "_inputArray": {
           "0": 0.16549041521607855,
           "1": 0.16293152809491523,
           "10": 0.35251813338372573,
           "11": 0.45594398680990955,
           "12": 0.42576221072420295,
           "13": 0.4846243128849549,
           "14": 0.49846438104192436,
           "15": 0.6323455240816697,
           "16": 1,
           "17": 0.9262976791252729,
           "2": 0.19569453204155296,
           "3": 0.24477627387607526,
           "4": 0.24841017304308372,
           "5": 0.260574509892868,
           "6": 0.2554683406635845,
           "7": 0.2688156340626174,
           "8": 0.235302638221915,
           "9": 0.3107049172388676,
           "bdata": "QMeTOMouxT/u1VO48NrEP2zvj7eEDMk/uDaRNdRUzz8CXJuQ58vPP2hPirVArdA/GBAU4pdZ0D/d9Dx9RjTRP7iu6ZdlHs4/JNSP4Jbi0z8IU4g3qI/WP7wCCrAvLt0/HLi7JLA/2z+W/auxFQTfP87wsiXX5t8/8Xw2riw85D8AAAAAAADwPx2Fxgc7pO0/",
           "dtype": "f8",
           "shape": "18"
          },
          "bdata": "QMeTOMouxT/u1VO48NrEP2zvj7eEDMk/uDaRNdRUzz8CXJuQ58vPP2hPirVArdA/GBAU4pdZ0D/d9Dx9RjTRP7iu6ZdlHs4/JNSP4Jbi0z8IU4g3qI/WP7wCCrAvLt0/HLi7JLA/2z+W/auxFQTfP87wsiXX5t8/8Xw2riw85D8AAAAAAADwPx2Fxgc7pO0/",
          "dtype": "f8"
         },
         "yaxis": "y"
        },
        {
         "hovertemplate": "<b>Objetivo</b><br>id: 100_050_20<br>q: 1.00<br>e: 0.50<br>euclidean: 0",
         "marker": {
          "color": "black",
          "line": {
           "color": "white",
           "width": 1
          },
          "size": 14,
          "symbol": "star"
         },
         "mode": "markers",
         "name": "Objetivo 100_050_20",
         "showlegend": true,
         "type": "scatter",
         "x": [
          0.5
         ],
         "y": [
          0
         ]
        }
       ],
       "layout": {
        "autosize": true,
        "legend": {
         "title": {
          "text": "q_e"
         },
         "tracegroupgap": 0
        },
        "template": {
         "data": {
          "bar": [
           {
            "error_x": {
             "color": "#2a3f5f"
            },
            "error_y": {
             "color": "#2a3f5f"
            },
            "marker": {
             "line": {
              "color": "white",
              "width": 0.5
             },
             "pattern": {
              "fillmode": "overlay",
              "size": 10,
              "solidity": 0.2
             }
            },
            "type": "bar"
           }
          ],
          "barpolar": [
           {
            "marker": {
             "line": {
              "color": "white",
              "width": 0.5
             },
             "pattern": {
              "fillmode": "overlay",
              "size": 10,
              "solidity": 0.2
             }
            },
            "type": "barpolar"
           }
          ],
          "carpet": [
           {
            "aaxis": {
             "endlinecolor": "#2a3f5f",
             "gridcolor": "#C8D4E3",
             "linecolor": "#C8D4E3",
             "minorgridcolor": "#C8D4E3",
             "startlinecolor": "#2a3f5f"
            },
            "baxis": {
             "endlinecolor": "#2a3f5f",
             "gridcolor": "#C8D4E3",
             "linecolor": "#C8D4E3",
             "minorgridcolor": "#C8D4E3",
             "startlinecolor": "#2a3f5f"
            },
            "type": "carpet"
           }
          ],
          "choropleth": [
           {
            "colorbar": {
             "outlinewidth": 0,
             "ticks": ""
            },
            "type": "choropleth"
           }
          ],
          "contour": [
           {
            "colorbar": {
             "outlinewidth": 0,
             "ticks": ""
            },
            "colorscale": [
             [
              0,
              "#0d0887"
             ],
             [
              0.1111111111111111,
              "#46039f"
             ],
             [
              0.2222222222222222,
              "#7201a8"
             ],
             [
              0.3333333333333333,
              "#9c179e"
             ],
             [
              0.4444444444444444,
              "#bd3786"
             ],
             [
              0.5555555555555556,
              "#d8576b"
             ],
             [
              0.6666666666666666,
              "#ed7953"
             ],
             [
              0.7777777777777778,
              "#fb9f3a"
             ],
             [
              0.8888888888888888,
              "#fdca26"
             ],
             [
              1,
              "#f0f921"
             ]
            ],
            "type": "contour"
           }
          ],
          "contourcarpet": [
           {
            "colorbar": {
             "outlinewidth": 0,
             "ticks": ""
            },
            "type": "contourcarpet"
           }
          ],
          "heatmap": [
           {
            "colorbar": {
             "outlinewidth": 0,
             "ticks": ""
            },
            "colorscale": [
             [
              0,
              "#0d0887"
             ],
             [
              0.1111111111111111,
              "#46039f"
             ],
             [
              0.2222222222222222,
              "#7201a8"
             ],
             [
              0.3333333333333333,
              "#9c179e"
             ],
             [
              0.4444444444444444,
              "#bd3786"
             ],
             [
              0.5555555555555556,
              "#d8576b"
             ],
             [
              0.6666666666666666,
              "#ed7953"
             ],
             [
              0.7777777777777778,
              "#fb9f3a"
             ],
             [
              0.8888888888888888,
              "#fdca26"
             ],
             [
              1,
              "#f0f921"
             ]
            ],
            "type": "heatmap"
           }
          ],
          "histogram": [
           {
            "marker": {
             "pattern": {
              "fillmode": "overlay",
              "size": 10,
              "solidity": 0.2
             }
            },
            "type": "histogram"
           }
          ],
          "histogram2d": [
           {
            "colorbar": {
             "outlinewidth": 0,
             "ticks": ""
            },
            "colorscale": [
             [
              0,
              "#0d0887"
             ],
             [
              0.1111111111111111,
              "#46039f"
             ],
             [
              0.2222222222222222,
              "#7201a8"
             ],
             [
              0.3333333333333333,
              "#9c179e"
             ],
             [
              0.4444444444444444,
              "#bd3786"
             ],
             [
              0.5555555555555556,
              "#d8576b"
             ],
             [
              0.6666666666666666,
              "#ed7953"
             ],
             [
              0.7777777777777778,
              "#fb9f3a"
             ],
             [
              0.8888888888888888,
              "#fdca26"
             ],
             [
              1,
              "#f0f921"
             ]
            ],
            "type": "histogram2d"
           }
          ],
          "histogram2dcontour": [
           {
            "colorbar": {
             "outlinewidth": 0,
             "ticks": ""
            },
            "colorscale": [
             [
              0,
              "#0d0887"
             ],
             [
              0.1111111111111111,
              "#46039f"
             ],
             [
              0.2222222222222222,
              "#7201a8"
             ],
             [
              0.3333333333333333,
              "#9c179e"
             ],
             [
              0.4444444444444444,
              "#bd3786"
             ],
             [
              0.5555555555555556,
              "#d8576b"
             ],
             [
              0.6666666666666666,
              "#ed7953"
             ],
             [
              0.7777777777777778,
              "#fb9f3a"
             ],
             [
              0.8888888888888888,
              "#fdca26"
             ],
             [
              1,
              "#f0f921"
             ]
            ],
            "type": "histogram2dcontour"
           }
          ],
          "mesh3d": [
           {
            "colorbar": {
             "outlinewidth": 0,
             "ticks": ""
            },
            "type": "mesh3d"
           }
          ],
          "parcoords": [
           {
            "line": {
             "colorbar": {
              "outlinewidth": 0,
              "ticks": ""
             }
            },
            "type": "parcoords"
           }
          ],
          "pie": [
           {
            "automargin": true,
            "type": "pie"
           }
          ],
          "scatter": [
           {
            "fillpattern": {
             "fillmode": "overlay",
             "size": 10,
             "solidity": 0.2
            },
            "type": "scatter"
           }
          ],
          "scatter3d": [
           {
            "line": {
             "colorbar": {
              "outlinewidth": 0,
              "ticks": ""
             }
            },
            "marker": {
             "colorbar": {
              "outlinewidth": 0,
              "ticks": ""
             }
            },
            "type": "scatter3d"
           }
          ],
          "scattercarpet": [
           {
            "marker": {
             "colorbar": {
              "outlinewidth": 0,
              "ticks": ""
             }
            },
            "type": "scattercarpet"
           }
          ],
          "scattergeo": [
           {
            "marker": {
             "colorbar": {
              "outlinewidth": 0,
              "ticks": ""
             }
            },
            "type": "scattergeo"
           }
          ],
          "scattergl": [
           {
            "marker": {
             "colorbar": {
              "outlinewidth": 0,
              "ticks": ""
             }
            },
            "type": "scattergl"
           }
          ],
          "scattermap": [
           {
            "marker": {
             "colorbar": {
              "outlinewidth": 0,
              "ticks": ""
             }
            },
            "type": "scattermap"
           }
          ],
          "scattermapbox": [
           {
            "marker": {
             "colorbar": {
              "outlinewidth": 0,
              "ticks": ""
             }
            },
            "type": "scattermapbox"
           }
          ],
          "scatterpolar": [
           {
            "marker": {
             "colorbar": {
              "outlinewidth": 0,
              "ticks": ""
             }
            },
            "type": "scatterpolar"
           }
          ],
          "scatterpolargl": [
           {
            "marker": {
             "colorbar": {
              "outlinewidth": 0,
              "ticks": ""
             }
            },
            "type": "scatterpolargl"
           }
          ],
          "scatterternary": [
           {
            "marker": {
             "colorbar": {
              "outlinewidth": 0,
              "ticks": ""
             }
            },
            "type": "scatterternary"
           }
          ],
          "surface": [
           {
            "colorbar": {
             "outlinewidth": 0,
             "ticks": ""
            },
            "colorscale": [
             [
              0,
              "#0d0887"
             ],
             [
              0.1111111111111111,
              "#46039f"
             ],
             [
              0.2222222222222222,
              "#7201a8"
             ],
             [
              0.3333333333333333,
              "#9c179e"
             ],
             [
              0.4444444444444444,
              "#bd3786"
             ],
             [
              0.5555555555555556,
              "#d8576b"
             ],
             [
              0.6666666666666666,
              "#ed7953"
             ],
             [
              0.7777777777777778,
              "#fb9f3a"
             ],
             [
              0.8888888888888888,
              "#fdca26"
             ],
             [
              1,
              "#f0f921"
             ]
            ],
            "type": "surface"
           }
          ],
          "table": [
           {
            "cells": {
             "fill": {
              "color": "#EBF0F8"
             },
             "line": {
              "color": "white"
             }
            },
            "header": {
             "fill": {
              "color": "#C8D4E3"
             },
             "line": {
              "color": "white"
             }
            },
            "type": "table"
           }
          ]
         },
         "layout": {
          "annotationdefaults": {
           "arrowcolor": "#2a3f5f",
           "arrowhead": 0,
           "arrowwidth": 1
          },
          "autotypenumbers": "strict",
          "coloraxis": {
           "colorbar": {
            "outlinewidth": 0,
            "ticks": ""
           }
          },
          "colorscale": {
           "diverging": [
            [
             0,
             "#8e0152"
            ],
            [
             0.1,
             "#c51b7d"
            ],
            [
             0.2,
             "#de77ae"
            ],
            [
             0.3,
             "#f1b6da"
            ],
            [
             0.4,
             "#fde0ef"
            ],
            [
             0.5,
             "#f7f7f7"
            ],
            [
             0.6,
             "#e6f5d0"
            ],
            [
             0.7,
             "#b8e186"
            ],
            [
             0.8,
             "#7fbc41"
            ],
            [
             0.9,
             "#4d9221"
            ],
            [
             1,
             "#276419"
            ]
           ],
           "sequential": [
            [
             0,
             "#0d0887"
            ],
            [
             0.1111111111111111,
             "#46039f"
            ],
            [
             0.2222222222222222,
             "#7201a8"
            ],
            [
             0.3333333333333333,
             "#9c179e"
            ],
            [
             0.4444444444444444,
             "#bd3786"
            ],
            [
             0.5555555555555556,
             "#d8576b"
            ],
            [
             0.6666666666666666,
             "#ed7953"
            ],
            [
             0.7777777777777778,
             "#fb9f3a"
            ],
            [
             0.8888888888888888,
             "#fdca26"
            ],
            [
             1,
             "#f0f921"
            ]
           ],
           "sequentialminus": [
            [
             0,
             "#0d0887"
            ],
            [
             0.1111111111111111,
             "#46039f"
            ],
            [
             0.2222222222222222,
             "#7201a8"
            ],
            [
             0.3333333333333333,
             "#9c179e"
            ],
            [
             0.4444444444444444,
             "#bd3786"
            ],
            [
             0.5555555555555556,
             "#d8576b"
            ],
            [
             0.6666666666666666,
             "#ed7953"
            ],
            [
             0.7777777777777778,
             "#fb9f3a"
            ],
            [
             0.8888888888888888,
             "#fdca26"
            ],
            [
             1,
             "#f0f921"
            ]
           ]
          },
          "colorway": [
           "#636efa",
           "#EF553B",
           "#00cc96",
           "#ab63fa",
           "#FFA15A",
           "#19d3f3",
           "#FF6692",
           "#B6E880",
           "#FF97FF",
           "#FECB52"
          ],
          "font": {
           "color": "#2a3f5f"
          },
          "geo": {
           "bgcolor": "white",
           "lakecolor": "white",
           "landcolor": "white",
           "showlakes": true,
           "showland": true,
           "subunitcolor": "#C8D4E3"
          },
          "hoverlabel": {
           "align": "left"
          },
          "hovermode": "closest",
          "mapbox": {
           "style": "light"
          },
          "paper_bgcolor": "white",
          "plot_bgcolor": "white",
          "polar": {
           "angularaxis": {
            "gridcolor": "#EBF0F8",
            "linecolor": "#EBF0F8",
            "ticks": ""
           },
           "bgcolor": "white",
           "radialaxis": {
            "gridcolor": "#EBF0F8",
            "linecolor": "#EBF0F8",
            "ticks": ""
           }
          },
          "scene": {
           "xaxis": {
            "backgroundcolor": "white",
            "gridcolor": "#DFE8F3",
            "gridwidth": 2,
            "linecolor": "#EBF0F8",
            "showbackground": true,
            "ticks": "",
            "zerolinecolor": "#EBF0F8"
           },
           "yaxis": {
            "backgroundcolor": "white",
            "gridcolor": "#DFE8F3",
            "gridwidth": 2,
            "linecolor": "#EBF0F8",
            "showbackground": true,
            "ticks": "",
            "zerolinecolor": "#EBF0F8"
           },
           "zaxis": {
            "backgroundcolor": "white",
            "gridcolor": "#DFE8F3",
            "gridwidth": 2,
            "linecolor": "#EBF0F8",
            "showbackground": true,
            "ticks": "",
            "zerolinecolor": "#EBF0F8"
           }
          },
          "shapedefaults": {
           "line": {
            "color": "#2a3f5f"
           }
          },
          "ternary": {
           "aaxis": {
            "gridcolor": "#DFE8F3",
            "linecolor": "#A2B1C6",
            "ticks": ""
           },
           "baxis": {
            "gridcolor": "#DFE8F3",
            "linecolor": "#A2B1C6",
            "ticks": ""
           },
           "bgcolor": "white",
           "caxis": {
            "gridcolor": "#DFE8F3",
            "linecolor": "#A2B1C6",
            "ticks": ""
           }
          },
          "title": {
           "x": 0.05
          },
          "xaxis": {
           "automargin": true,
           "gridcolor": "#EBF0F8",
           "linecolor": "#EBF0F8",
           "ticks": "",
           "title": {
            "standoff": 15
           },
           "zerolinecolor": "#EBF0F8",
           "zerolinewidth": 2
          },
          "yaxis": {
           "automargin": true,
           "gridcolor": "#EBF0F8",
           "linecolor": "#EBF0F8",
           "ticks": "",
           "title": {
            "standoff": 15
           },
           "zerolinecolor": "#EBF0F8",
           "zerolinewidth": 2
          }
         }
        },
        "title": {
         "text": "eucledian vs e"
        },
        "xaxis": {
         "anchor": "y",
         "autorange": true,
         "domain": [
          0,
          1
         ],
         "range": [
          -0.042891450528338135,
          0.742891450528338
         ],
         "title": {
          "text": "e (excentricidad)"
         },
         "type": "linear"
        },
        "yaxis": {
         "anchor": "x",
         "autorange": true,
         "domain": [
          0,
          1
         ],
         "range": [
          -0.11872909698996656,
          1.085284280936455
         ],
         "title": {
          "text": "Distancia euclidean"
         },
         "type": "linear"
        }
       }
      },
      "image/png": "[encoded data removed]"
     },
     "metadata": {},
     "output_type": "display_data"
    }
   ],
   "source": [
    "plot_distance_vs_e_interactive(\n",
    "    distances,\n",
    "    distance=\"euclidean\",\n",
    "    manual_colors=manual,\n",
    "    title=\"eucledian vs e\"\n",
    ")"
   ]
  },
  {
   "cell_type": "code",
   "execution_count": 25,
   "id": "567c2b57-94b1-4593-a52f-a4f398f8f674",
   "metadata": {
    "scrolled": true
   },
   "outputs": [
    {
     "data": {
      "application/vnd.plotly.v1+json": {
       "config": {
        "plotlyServerURL": "https://plot.ly"
       },
       "data": [
        {
         "customdata": [
          [
           "100_060_10",
           1,
           "100_060"
          ],
          [
           "100_060_09",
           1,
           "100_060"
          ],
          [
           "100_060_13",
           1,
           "100_060"
          ],
          [
           "100_060_20",
           1,
           "100_060"
          ],
          [
           "100_060_05",
           1,
           "100_060"
          ],
          [
           "100_060_17",
           1,
           "100_060"
          ],
          [
           "100_060_14",
           1,
           "100_060"
          ],
          [
           "100_060_06",
           1,
           "100_060"
          ],
          [
           "100_060_11",
           1,
           "100_060"
          ],
          [
           "100_060_15",
           1,
           "100_060"
          ],
          [
           "100_060_08",
           1,
           "100_060"
          ],
          [
           "100_060_18",
           1,
           "100_060"
          ],
          [
           "100_060_16",
           1,
           "100_060"
          ],
          [
           "100_060_12",
           1,
           "100_060"
          ],
          [
           "100_060_03",
           1,
           "100_060"
          ],
          [
           "100_060_19",
           1,
           "100_060"
          ],
          [
           "100_060_07",
           1,
           "100_060"
          ],
          [
           "100_060_04",
           1,
           "100_060"
          ]
         ],
         "hovertemplate": "e (excentricidad)=%{x:.2f}<br>Distancia mahalanobis=%{y:.4f}<br>id=%{customdata[0]}<br>q_float=%{customdata[1]:.2f}<extra></extra>",
         "legendgroup": "100_060",
         "marker": {
          "color": "#636EFA",
          "symbol": "circle"
         },
         "mode": "markers",
         "name": "100_060",
         "orientation": "v",
         "showlegend": true,
         "type": "scatter",
         "x": {
          "_inputArray": {
           "0": 0.6,
           "1": 0.6,
           "10": 0.6,
           "11": 0.6,
           "12": 0.6,
           "13": 0.6,
           "14": 0.6,
           "15": 0.6,
           "16": 0.6,
           "17": 0.6,
           "2": 0.6,
           "3": 0.6,
           "4": 0.6,
           "5": 0.6,
           "6": 0.6,
           "7": 0.6,
           "8": 0.6,
           "9": 0.6,
           "bdata": "MzMzMzMz4z8zMzMzMzPjPzMzMzMzM+M/MzMzMzMz4z8zMzMzMzPjPzMzMzMzM+M/MzMzMzMz4z8zMzMzMzPjPzMzMzMzM+M/MzMzMzMz4z8zMzMzMzPjPzMzMzMzM+M/MzMzMzMz4z8zMzMzMzPjPzMzMzMzM+M/MzMzMzMz4z8zMzMzMzPjPzMzMzMzM+M/",
           "dtype": "f8",
           "shape": "18"
          },
          "bdata": "MzMzMzMz4z8zMzMzMzPjPzMzMzMzM+M/MzMzMzMz4z8zMzMzMzPjPzMzMzMzM+M/MzMzMzMz4z8zMzMzMzPjPzMzMzMzM+M/MzMzMzMz4z8zMzMzMzPjPzMzMzMzM+M/MzMzMzMz4z8zMzMzMzPjPzMzMzMzM+M/MzMzMzMz4z8zMzMzMzPjPzMzMzMzM+M/",
          "dtype": "f8"
         },
         "xaxis": "x",
         "y": {
          "_inputArray": {
           "0": 0.10637515080211551,
           "1": 0,
           "10": 0.19834711092604834,
           "11": 0.1642163140175737,
           "12": 0.4205124626595977,
           "13": 0.23011685501251972,
           "14": 0.29836130058154336,
           "15": 0.30561055858418457,
           "16": 0.2751194496270815,
           "17": 0.572446271010375,
           "2": 0.09325504315325156,
           "3": 0.2140407764406705,
           "4": 0.01583813109395288,
           "5": 0.25223686897030567,
           "6": 0.10741952007564765,
           "7": 0.09019789314269039,
           "8": 0.026334216068109095,
           "9": 0.15695894186397857,
           "bdata": "/FnN4WY7uz8AAAAAAAAAALTAhwCQ37c/OlxpK7Blyz/QKlD83jeQP2WqxBumJNA/xEqtfdh/uz8ESTeJNRe3P5ABHVNb95o/Sm4PCTsXxD+ue1cpcGPJPyprFkkKBcU/t7yrGq3p2j8ywUQXeHTNP73xGP9ZGNM/e5ublh+P0z/RE6mbjpvRP2adltd6UeI/",
           "dtype": "f8",
           "shape": "18"
          },
          "bdata": "/FnN4WY7uz8AAAAAAAAAALTAhwCQ37c/OlxpK7Blyz/QKlD83jeQP2WqxBumJNA/xEqtfdh/uz8ESTeJNRe3P5ABHVNb95o/Sm4PCTsXxD+ue1cpcGPJPyprFkkKBcU/t7yrGq3p2j8ywUQXeHTNP73xGP9ZGNM/e5ublh+P0z/RE6mbjpvRP2adltd6UeI/",
          "dtype": "f8"
         },
         "yaxis": "y"
        },
        {
         "customdata": [
          [
           "100_050_19",
           1,
           "100_050"
          ],
          [
           "100_050_12",
           1,
           "100_050"
          ],
          [
           "100_050_15",
           1,
           "100_050"
          ],
          [
           "100_050_09",
           1,
           "100_050"
          ],
          [
           "100_050_08",
           1,
           "100_050"
          ],
          [
           "100_050_16",
           1,
           "100_050"
          ],
          [
           "100_050_07",
           1,
           "100_050"
          ],
          [
           "100_050_18",
           1,
           "100_050"
          ],
          [
           "100_050_13",
           1,
           "100_050"
          ],
          [
           "100_050_04",
           1,
           "100_050"
          ],
          [
           "100_050_06",
           1,
           "100_050"
          ],
          [
           "100_050_11",
           1,
           "100_050"
          ],
          [
           "100_050_14",
           1,
           "100_050"
          ],
          [
           "100_050_05",
           1,
           "100_050"
          ],
          [
           "100_050_10",
           1,
           "100_050"
          ],
          [
           "100_050_17",
           1,
           "100_050"
          ],
          [
           "100_050_03",
           1,
           "100_050"
          ]
         ],
         "hovertemplate": "e (excentricidad)=%{x:.2f}<br>Distancia mahalanobis=%{y:.4f}<br>id=%{customdata[0]}<br>q_float=%{customdata[1]:.2f}<extra></extra>",
         "legendgroup": "100_050",
         "marker": {
          "color": "#EF553B",
          "symbol": "circle"
         },
         "mode": "markers",
         "name": "100_050",
         "orientation": "v",
         "showlegend": true,
         "type": "scatter",
         "x": {
          "_inputArray": {
           "0": 0.5,
           "1": 0.5,
           "10": 0.5,
           "11": 0.5,
           "12": 0.5,
           "13": 0.5,
           "14": 0.5,
           "15": 0.5,
           "16": 0.5,
           "2": 0.5,
           "3": 0.5,
           "4": 0.5,
           "5": 0.5,
           "6": 0.5,
           "7": 0.5,
           "8": 0.5,
           "9": 0.5,
           "bdata": "AAAAAAAA4D8AAAAAAADgPwAAAAAAAOA/AAAAAAAA4D8AAAAAAADgPwAAAAAAAOA/AAAAAAAA4D8AAAAAAADgPwAAAAAAAOA/AAAAAAAA4D8AAAAAAADgPwAAAAAAAOA/AAAAAAAA4D8AAAAAAADgPwAAAAAAAOA/AAAAAAAA4D8AAAAAAADgPw==",
           "dtype": "f8",
           "shape": "17"
          },
          "bdata": "AAAAAAAA4D8AAAAAAADgPwAAAAAAAOA/AAAAAAAA4D8AAAAAAADgPwAAAAAAAOA/AAAAAAAA4D8AAAAAAADgPwAAAAAAAOA/AAAAAAAA4D8AAAAAAADgPwAAAAAAAOA/AAAAAAAA4D8AAAAAAADgPwAAAAAAAOA/AAAAAAAA4D8AAAAAAADgPw==",
          "dtype": "f8"
         },
         "xaxis": "x",
         "y": {
          "_inputArray": {
           "0": 0.09239692479637646,
           "1": 0.12018692906472744,
           "10": 0.10959745486707412,
           "11": 0.2489116595671847,
           "12": 0.22990097978243335,
           "13": 0.2470842001336056,
           "14": 0.28401120084606496,
           "15": 0.1919464890366584,
           "16": 0.3671163273938332,
           "2": 0.12468892683104443,
           "3": 0.10620623841764981,
           "4": 0.08410704331989294,
           "5": 0.1441997879096623,
           "6": 0.1419519803537374,
           "7": 0.07093985908566158,
           "8": 0.1435039818494362,
           "9": 0.030976099647733513,
           "bdata": "TFxAKlOntz9sW70RksS+P+yk6Q6d678/XI6iAFUwuz8AFWwICoi1P97AlH4jdcI/3mGchHsrwj/QecFWHSmyPzrOcaZWXsI/AFPH2zK4nz/cAGEslA68PwaSt1ZW3M8/tvC9MmVtzT/aUHd/dKDPP+U31VA9LdI/zkp/2rORyD8x/P561X7XPw==",
           "dtype": "f8",
           "shape": "17"
          },
          "bdata": "TFxAKlOntz9sW70RksS+P+yk6Q6d678/XI6iAFUwuz8AFWwICoi1P97AlH4jdcI/3mGchHsrwj/QecFWHSmyPzrOcaZWXsI/AFPH2zK4nz/cAGEslA68PwaSt1ZW3M8/tvC9MmVtzT/aUHd/dKDPP+U31VA9LdI/zkp/2rORyD8x/P561X7XPw==",
          "dtype": "f8"
         },
         "yaxis": "y"
        },
        {
         "customdata": [
          [
           "100_000_03",
           1,
           "100_000"
          ],
          [
           "100_000_14",
           1,
           "100_000"
          ],
          [
           "100_000_17",
           1,
           "100_000"
          ],
          [
           "100_000_04",
           1,
           "100_000"
          ],
          [
           "100_000_06",
           1,
           "100_000"
          ],
          [
           "100_000_18",
           1,
           "100_000"
          ],
          [
           "100_000_05",
           1,
           "100_000"
          ],
          [
           "100_000_19",
           1,
           "100_000"
          ],
          [
           "100_000_07",
           1,
           "100_000"
          ],
          [
           "100_000_10",
           1,
           "100_000"
          ],
          [
           "100_000_09",
           1,
           "100_000"
          ],
          [
           "100_000_20",
           1,
           "100_000"
          ],
          [
           "100_000_16",
           1,
           "100_000"
          ],
          [
           "100_000_15",
           1,
           "100_000"
          ],
          [
           "100_000_13",
           1,
           "100_000"
          ],
          [
           "100_000_11",
           1,
           "100_000"
          ],
          [
           "100_000_12",
           1,
           "100_000"
          ],
          [
           "100_000_08",
           1,
           "100_000"
          ]
         ],
         "hovertemplate": "e (excentricidad)=%{x:.2f}<br>Distancia mahalanobis=%{y:.4f}<br>id=%{customdata[0]}<br>q_float=%{customdata[1]:.2f}<extra></extra>",
         "legendgroup": "100_000",
         "marker": {
          "color": "#00CC96",
          "symbol": "circle"
         },
         "mode": "markers",
         "name": "100_000",
         "orientation": "v",
         "showlegend": true,
         "type": "scatter",
         "x": {
          "_inputArray": {
           "0": 0,
           "1": 0,
           "10": 0,
           "11": 0,
           "12": 0,
           "13": 0,
           "14": 0,
           "15": 0,
           "16": 0,
           "17": 0,
           "2": 0,
           "3": 0,
           "4": 0,
           "5": 0,
           "6": 0,
           "7": 0,
           "8": 0,
           "9": 0,
           "bdata": "AAAAAAAAAAAAAAAAAAAAAAAAAAAAAAAAAAAAAAAAAAAAAAAAAAAAAAAAAAAAAAAAAAAAAAAAAAAAAAAAAAAAAAAAAAAAAAAAAAAAAAAAAAAAAAAAAAAAAAAAAAAAAAAAAAAAAAAAAAAAAAAAAAAAAAAAAAAAAAAAAAAAAAAAAAAAAAAAAAAAAAAAAAAAAAAA",
           "dtype": "f8",
           "shape": "18"
          },
          "bdata": "AAAAAAAAAAAAAAAAAAAAAAAAAAAAAAAAAAAAAAAAAAAAAAAAAAAAAAAAAAAAAAAAAAAAAAAAAAAAAAAAAAAAAAAAAAAAAAAAAAAAAAAAAAAAAAAAAAAAAAAAAAAAAAAAAAAAAAAAAAAAAAAAAAAAAAAAAAAAAAAAAAAAAAAAAAAAAAAAAAAAAAAAAAAAAAAA",
          "dtype": "f8"
         },
         "xaxis": "x",
         "y": {
          "_inputArray": {
           "0": 0.12516676060512028,
           "1": 0.041574907769406644,
           "10": 0.19086705328873438,
           "11": 0.13123408158098088,
           "12": 0.21796120005382663,
           "13": 0.1424177602601729,
           "14": 0.16232820021093758,
           "15": 0.24887019058257503,
           "16": 0.21705725271621928,
           "17": 0.2382365490260428,
           "2": 0.1089171582006439,
           "3": 0.1752580882307357,
           "4": 0.056363260884834565,
           "5": 0.026777012563364677,
           "6": 0.2153921192173403,
           "7": 0.1802237843566396,
           "8": 0.1838989113827128,
           "9": 0.10990867752147943,
           "bdata": "PjGs43YFwD/QWmhqTkmlPxTtcbD+4bs/Nr6nZttuxj/gfmQ0pdusPxAY+uRua5s/2mPtDfiRyz+29eKtkhHHPwpSFOH/icc/bFmAn/kivD8GJ+HjVG7IP3ZlQURHzMA/vpgDESfmyz/671fDvjrCPy7wj6Mrx8Q/ai/AePrazz9mTOM0iMjLPzquYwWJfs4/",
           "dtype": "f8",
           "shape": "18"
          },
          "bdata": "PjGs43YFwD/QWmhqTkmlPxTtcbD+4bs/Nr6nZttuxj/gfmQ0pdusPxAY+uRua5s/2mPtDfiRyz+29eKtkhHHPwpSFOH/icc/bFmAn/kivD8GJ+HjVG7IP3ZlQURHzMA/vpgDESfmyz/671fDvjrCPy7wj6Mrx8Q/ai/AePrazz9mTOM0iMjLPzquYwWJfs4/",
          "dtype": "f8"
         },
         "yaxis": "y"
        },
        {
         "customdata": [
          [
           "100_040_09",
           1,
           "100_040"
          ],
          [
           "100_040_19",
           1,
           "100_040"
          ],
          [
           "100_040_14",
           1,
           "100_040"
          ],
          [
           "100_040_15",
           1,
           "100_040"
          ],
          [
           "100_040_18",
           1,
           "100_040"
          ],
          [
           "100_040_17",
           1,
           "100_040"
          ],
          [
           "100_040_12",
           1,
           "100_040"
          ],
          [
           "100_040_20",
           1,
           "100_040"
          ],
          [
           "100_040_11",
           1,
           "100_040"
          ],
          [
           "100_040_10",
           1,
           "100_040"
          ],
          [
           "100_040_16",
           1,
           "100_040"
          ],
          [
           "100_040_05",
           1,
           "100_040"
          ],
          [
           "100_040_06",
           1,
           "100_040"
          ],
          [
           "100_040_03",
           1,
           "100_040"
          ],
          [
           "100_040_04",
           1,
           "100_040"
          ],
          [
           "100_040_13",
           1,
           "100_040"
          ],
          [
           "100_040_07",
           1,
           "100_040"
          ],
          [
           "100_040_08",
           1,
           "100_040"
          ]
         ],
         "hovertemplate": "e (excentricidad)=%{x:.2f}<br>Distancia mahalanobis=%{y:.4f}<br>id=%{customdata[0]}<br>q_float=%{customdata[1]:.2f}<extra></extra>",
         "legendgroup": "100_040",
         "marker": {
          "color": "#AB63FA",
          "symbol": "circle"
         },
         "mode": "markers",
         "name": "100_040",
         "orientation": "v",
         "showlegend": true,
         "type": "scatter",
         "x": {
          "_inputArray": {
           "0": 0.4,
           "1": 0.4,
           "10": 0.4,
           "11": 0.4,
           "12": 0.4,
           "13": 0.4,
           "14": 0.4,
           "15": 0.4,
           "16": 0.4,
           "17": 0.4,
           "2": 0.4,
           "3": 0.4,
           "4": 0.4,
           "5": 0.4,
           "6": 0.4,
           "7": 0.4,
           "8": 0.4,
           "9": 0.4,
           "bdata": "mpmZmZmZ2T+amZmZmZnZP5qZmZmZmdk/mpmZmZmZ2T+amZmZmZnZP5qZmZmZmdk/mpmZmZmZ2T+amZmZmZnZP5qZmZmZmdk/mpmZmZmZ2T+amZmZmZnZP5qZmZmZmdk/mpmZmZmZ2T+amZmZmZnZP5qZmZmZmdk/mpmZmZmZ2T+amZmZmZnZP5qZmZmZmdk/",
           "dtype": "f8",
           "shape": "18"
          },
          "bdata": "mpmZmZmZ2T+amZmZmZnZP5qZmZmZmdk/mpmZmZmZ2T+amZmZmZnZP5qZmZmZmdk/mpmZmZmZ2T+amZmZmZnZP5qZmZmZmdk/mpmZmZmZ2T+amZmZmZnZP5qZmZmZmdk/mpmZmZmZ2T+amZmZmZnZP5qZmZmZmdk/mpmZmZmZ2T+amZmZmZnZP5qZmZmZmdk/",
          "dtype": "f8"
         },
         "xaxis": "x",
         "y": {
          "_inputArray": {
           "0": 0.10092644579277604,
           "1": 0.2086854011527723,
           "10": 0.237602041146395,
           "11": 0.1329339063937673,
           "12": 0.17445007336308754,
           "13": 0.16185119149178945,
           "14": 0.24004979168394797,
           "15": 0.19998484162285574,
           "16": 0.3002239478357082,
           "17": 0.198010243440144,
           "2": 0.04240023294253942,
           "3": 0.01650335849624851,
           "4": 0.15622691289184437,
           "5": 0.17026772834304688,
           "6": 0.08644990366437755,
           "7": 0.1909281589050505,
           "8": 0.14648575474947473,
           "9": 0.22817161295338834,
           "bdata": "7EL7x1DWuT8+SY0GNLbKP1h3qbt7taU/oOwPpEHmkD/KENBUPv/DP7YXZjpVy8U/IBn7tJQhtj/C+zB7VXDIP6JL/ZILwMI/5lPBN7o0zT/u4hdivmnOPxbRPm76A8E/povwR2FUxj+uTyMzirfEP4raWJrzuc4/xqI7cRqZyT9Li1uB3jbTP+6Y7E9mWMk/",
           "dtype": "f8",
           "shape": "18"
          },
          "bdata": "7EL7x1DWuT8+SY0GNLbKP1h3qbt7taU/oOwPpEHmkD/KENBUPv/DP7YXZjpVy8U/IBn7tJQhtj/C+zB7VXDIP6JL/ZILwMI/5lPBN7o0zT/u4hdivmnOPxbRPm76A8E/povwR2FUxj+uTyMzirfEP4raWJrzuc4/xqI7cRqZyT9Li1uB3jbTP+6Y7E9mWMk/",
          "dtype": "f8"
         },
         "yaxis": "y"
        },
        {
         "customdata": [
          [
           "100_030_14",
           1,
           "100_030"
          ],
          [
           "100_030_05",
           1,
           "100_030"
          ],
          [
           "100_030_17",
           1,
           "100_030"
          ],
          [
           "100_030_11",
           1,
           "100_030"
          ],
          [
           "100_030_10",
           1,
           "100_030"
          ],
          [
           "100_030_04",
           1,
           "100_030"
          ],
          [
           "100_030_12",
           1,
           "100_030"
          ],
          [
           "100_030_08",
           1,
           "100_030"
          ],
          [
           "100_030_13",
           1,
           "100_030"
          ],
          [
           "100_030_06",
           1,
           "100_030"
          ],
          [
           "100_030_18",
           1,
           "100_030"
          ],
          [
           "100_030_16",
           1,
           "100_030"
          ],
          [
           "100_030_20",
           1,
           "100_030"
          ],
          [
           "100_030_15",
           1,
           "100_030"
          ],
          [
           "100_030_19",
           1,
           "100_030"
          ],
          [
           "100_030_07",
           1,
           "100_030"
          ],
          [
           "100_030_03",
           1,
           "100_030"
          ],
          [
           "100_030_09",
           1,
           "100_030"
          ]
         ],
         "hovertemplate": "e (excentricidad)=%{x:.2f}<br>Distancia mahalanobis=%{y:.4f}<br>id=%{customdata[0]}<br>q_float=%{customdata[1]:.2f}<extra></extra>",
         "legendgroup": "100_030",
         "marker": {
          "color": "#FFA15A",
          "symbol": "circle"
         },
         "mode": "markers",
         "name": "100_030",
         "orientation": "v",
         "showlegend": true,
         "type": "scatter",
         "x": {
          "_inputArray": {
           "0": 0.3,
           "1": 0.3,
           "10": 0.3,
           "11": 0.3,
           "12": 0.3,
           "13": 0.3,
           "14": 0.3,
           "15": 0.3,
           "16": 0.3,
           "17": 0.3,
           "2": 0.3,
           "3": 0.3,
           "4": 0.3,
           "5": 0.3,
           "6": 0.3,
           "7": 0.3,
           "8": 0.3,
           "9": 0.3,
           "bdata": "MzMzMzMz0z8zMzMzMzPTPzMzMzMzM9M/MzMzMzMz0z8zMzMzMzPTPzMzMzMzM9M/MzMzMzMz0z8zMzMzMzPTPzMzMzMzM9M/MzMzMzMz0z8zMzMzMzPTPzMzMzMzM9M/MzMzMzMz0z8zMzMzMzPTPzMzMzMzM9M/MzMzMzMz0z8zMzMzMzPTPzMzMzMzM9M/",
           "dtype": "f8",
           "shape": "18"
          },
          "bdata": "MzMzMzMz0z8zMzMzMzPTPzMzMzMzM9M/MzMzMzMz0z8zMzMzMzPTPzMzMzMzM9M/MzMzMzMz0z8zMzMzMzPTPzMzMzMzM9M/MzMzMzMz0z8zMzMzMzPTPzMzMzMzM9M/MzMzMzMz0z8zMzMzMzPTPzMzMzMzM9M/MzMzMzMz0z8zMzMzMzPTPzMzMzMzM9M/",
          "dtype": "f8"
         },
         "xaxis": "x",
         "y": {
          "_inputArray": {
           "0": 0.11073552448099172,
           "1": 0.07165477251710578,
           "10": 0.21792805979301672,
           "11": 0.11810303985077725,
           "12": 0.12727307495215284,
           "13": 0.0636878078924098,
           "14": 0.27548807761482114,
           "15": 0.26955377043087186,
           "16": 0.19780495090822287,
           "17": 0.1953817229252594,
           "2": 0.13001169826923792,
           "3": 0.1329298841881748,
           "4": 0.08381121781841122,
           "5": 0.14941260244390203,
           "6": 0.1310387289422847,
           "7": 0.10095713473014384,
           "8": 0.10947654358448872,
           "9": 0.09779387899348241,
           "bdata": "bLkm0ClZvD+0M5CY91eyP0r3FCw5pMA/WuifsNgDwT8EaZHnpnS1P+qrjcDzH8M/xoOoh+DFwD/MvfanU9i5PxTfX56nBrw/LKcGCAUJuT/qitgQEeXLPzSftzUAPL4/ZllK73tKwD/IRA0c2E2wP8vJ8r6YodE/y+YgdV5A0T8+oJExrFHJP56dGa9EAsk/",
           "dtype": "f8",
           "shape": "18"
          },
          "bdata": "bLkm0ClZvD+0M5CY91eyP0r3FCw5pMA/WuifsNgDwT8EaZHnpnS1P+qrjcDzH8M/xoOoh+DFwD/MvfanU9i5PxTfX56nBrw/LKcGCAUJuT/qitgQEeXLPzSftzUAPL4/ZllK73tKwD/IRA0c2E2wP8vJ8r6YodE/y+YgdV5A0T8+oJExrFHJP56dGa9EAsk/",
          "dtype": "f8"
         },
         "yaxis": "y"
        },
        {
         "customdata": [
          [
           "100_020_03",
           1,
           "100_020"
          ],
          [
           "100_020_06",
           1,
           "100_020"
          ],
          [
           "100_020_14",
           1,
           "100_020"
          ],
          [
           "100_020_08",
           1,
           "100_020"
          ],
          [
           "100_020_07",
           1,
           "100_020"
          ],
          [
           "100_020_15",
           1,
           "100_020"
          ],
          [
           "100_020_09",
           1,
           "100_020"
          ],
          [
           "100_020_18",
           1,
           "100_020"
          ],
          [
           "100_020_16",
           1,
           "100_020"
          ],
          [
           "100_020_17",
           1,
           "100_020"
          ],
          [
           "100_020_19",
           1,
           "100_020"
          ],
          [
           "100_020_12",
           1,
           "100_020"
          ],
          [
           "100_020_04",
           1,
           "100_020"
          ],
          [
           "100_020_13",
           1,
           "100_020"
          ],
          [
           "100_020_10",
           1,
           "100_020"
          ],
          [
           "100_020_20",
           1,
           "100_020"
          ],
          [
           "100_020_05",
           1,
           "100_020"
          ],
          [
           "100_020_11",
           1,
           "100_020"
          ]
         ],
         "hovertemplate": "e (excentricidad)=%{x:.2f}<br>Distancia mahalanobis=%{y:.4f}<br>id=%{customdata[0]}<br>q_float=%{customdata[1]:.2f}<extra></extra>",
         "legendgroup": "100_020",
         "marker": {
          "color": "#19D3F3",
          "symbol": "circle"
         },
         "mode": "markers",
         "name": "100_020",
         "orientation": "v",
         "showlegend": true,
         "type": "scatter",
         "x": {
          "_inputArray": {
           "0": 0.2,
           "1": 0.2,
           "10": 0.2,
           "11": 0.2,
           "12": 0.2,
           "13": 0.2,
           "14": 0.2,
           "15": 0.2,
           "16": 0.2,
           "17": 0.2,
           "2": 0.2,
           "3": 0.2,
           "4": 0.2,
           "5": 0.2,
           "6": 0.2,
           "7": 0.2,
           "8": 0.2,
           "9": 0.2,
           "bdata": "mpmZmZmZyT+amZmZmZnJP5qZmZmZmck/mpmZmZmZyT+amZmZmZnJP5qZmZmZmck/mpmZmZmZyT+amZmZmZnJP5qZmZmZmck/mpmZmZmZyT+amZmZmZnJP5qZmZmZmck/mpmZmZmZyT+amZmZmZnJP5qZmZmZmck/mpmZmZmZyT+amZmZmZnJP5qZmZmZmck/",
           "dtype": "f8",
           "shape": "18"
          },
          "bdata": "mpmZmZmZyT+amZmZmZnJP5qZmZmZmck/mpmZmZmZyT+amZmZmZnJP5qZmZmZmck/mpmZmZmZyT+amZmZmZnJP5qZmZmZmck/mpmZmZmZyT+amZmZmZnJP5qZmZmZmck/mpmZmZmZyT+amZmZmZnJP5qZmZmZmck/mpmZmZmZyT+amZmZmZnJP5qZmZmZmck/",
          "dtype": "f8"
         },
         "xaxis": "x",
         "y": {
          "_inputArray": {
           "0": 0.09242891103509904,
           "1": 0.11286862344829934,
           "10": 0.19919076929185303,
           "11": 0.21123549086197352,
           "12": 0.24802679052475557,
           "13": 0.0701615466131274,
           "14": 0.21624867898449235,
           "15": 0.18336821447740342,
           "16": 0.3642972496228279,
           "17": 0.3158897313346916,
           "2": 0.17783231477191158,
           "3": 0.20467665343922065,
           "4": 0.022464416372429463,
           "5": 0.09705486090907295,
           "6": 0.1857225439009081,
           "7": 0.10715735792046649,
           "8": 0.30920603051825285,
           "9": 0.24224851317403212,
           "bdata": "zMMZzmuptz/ceXRG9eS8P+4ED5Q1w8Y/0lljNtgyyj9AwJJ26QCXP0S1hV2W2Lg/8pcXnsHFxz+8Tssjqm67P+dRMxcIytM/3iXL0P8Bzz/+BONHFX/JP/7agLrDCcs/KvfqhFe/zz+k4SNsG/axPw5TBWYJrss/2jYnEpx4xz9hx0lppVDXP+1hTpCJN9Q/",
           "dtype": "f8",
           "shape": "18"
          },
          "bdata": "zMMZzmuptz/ceXRG9eS8P+4ED5Q1w8Y/0lljNtgyyj9AwJJ26QCXP0S1hV2W2Lg/8pcXnsHFxz+8Tssjqm67P+dRMxcIytM/3iXL0P8Bzz/+BONHFX/JP/7agLrDCcs/KvfqhFe/zz+k4SNsG/axPw5TBWYJrss/2jYnEpx4xz9hx0lppVDXP+1hTpCJN9Q/",
          "dtype": "f8"
         },
         "yaxis": "y"
        },
        {
         "customdata": [
          [
           "100_010_04",
           1,
           "100_010"
          ],
          [
           "100_010_18",
           1,
           "100_010"
          ],
          [
           "100_010_08",
           1,
           "100_010"
          ],
          [
           "100_010_06",
           1,
           "100_010"
          ],
          [
           "100_010_15",
           1,
           "100_010"
          ],
          [
           "100_010_20",
           1,
           "100_010"
          ],
          [
           "100_010_17",
           1,
           "100_010"
          ],
          [
           "100_010_13",
           1,
           "100_010"
          ],
          [
           "100_010_19",
           1,
           "100_010"
          ],
          [
           "100_010_09",
           1,
           "100_010"
          ],
          [
           "100_010_11",
           1,
           "100_010"
          ],
          [
           "100_010_10",
           1,
           "100_010"
          ],
          [
           "100_010_07",
           1,
           "100_010"
          ],
          [
           "100_010_16",
           1,
           "100_010"
          ],
          [
           "100_010_14",
           1,
           "100_010"
          ],
          [
           "100_010_12",
           1,
           "100_010"
          ],
          [
           "100_010_03",
           1,
           "100_010"
          ],
          [
           "100_010_05",
           1,
           "100_010"
          ]
         ],
         "hovertemplate": "e (excentricidad)=%{x:.2f}<br>Distancia mahalanobis=%{y:.4f}<br>id=%{customdata[0]}<br>q_float=%{customdata[1]:.2f}<extra></extra>",
         "legendgroup": "100_010",
         "marker": {
          "color": "#FF6692",
          "symbol": "circle"
         },
         "mode": "markers",
         "name": "100_010",
         "orientation": "v",
         "showlegend": true,
         "type": "scatter",
         "x": {
          "_inputArray": {
           "0": 0.1,
           "1": 0.1,
           "10": 0.1,
           "11": 0.1,
           "12": 0.1,
           "13": 0.1,
           "14": 0.1,
           "15": 0.1,
           "16": 0.1,
           "17": 0.1,
           "2": 0.1,
           "3": 0.1,
           "4": 0.1,
           "5": 0.1,
           "6": 0.1,
           "7": 0.1,
           "8": 0.1,
           "9": 0.1,
           "bdata": "mpmZmZmZuT+amZmZmZm5P5qZmZmZmbk/mpmZmZmZuT+amZmZmZm5P5qZmZmZmbk/mpmZmZmZuT+amZmZmZm5P5qZmZmZmbk/mpmZmZmZuT+amZmZmZm5P5qZmZmZmbk/mpmZmZmZuT+amZmZmZm5P5qZmZmZmbk/mpmZmZmZuT+amZmZmZm5P5qZmZmZmbk/",
           "dtype": "f8",
           "shape": "18"
          },
          "bdata": "mpmZmZmZuT+amZmZmZm5P5qZmZmZmbk/mpmZmZmZuT+amZmZmZm5P5qZmZmZmbk/mpmZmZmZuT+amZmZmZm5P5qZmZmZmbk/mpmZmZmZuT+amZmZmZm5P5qZmZmZmbk/mpmZmZmZuT+amZmZmZm5P5qZmZmZmbk/mpmZmZmZuT+amZmZmZm5P5qZmZmZmbk/",
          "dtype": "f8"
         },
         "xaxis": "x",
         "y": {
          "_inputArray": {
           "0": 0.20192898558859068,
           "1": 0.05072642625328355,
           "10": 0.1549566328131084,
           "11": 0.12262647798869036,
           "12": 0.2294710423171305,
           "13": 0.31946517335447927,
           "14": 0.2999869943166202,
           "15": 0.2029069657559091,
           "16": 0.1729225863111032,
           "17": 1,
           "2": 0.032540844590387696,
           "3": 0.1394828696818861,
           "4": 0.15886672296355558,
           "5": 0.09407648457072965,
           "6": 0.2531117687898711,
           "7": 0.2536086355749559,
           "8": 0.1457971599822963,
           "9": 0.13558289281738528,
           "bdata": "etWbGs/YyT+YA5pr0PipP+iQmY4xqaA/LmbRHZPawT+GjMapvlXEP4TOjYBlFbg/e9pLtPsy0D99xPG2HzvQP1Kg/Dh7qcI/chxGvcdawT+ugx1zntXDP2TIlehyZL8/IsgQn05fzT9vLvENHnLUP5csdKb8MtM/Mq8G/9r4yT8WFHnKUyLGPwAAAAAAAPA/",
           "dtype": "f8",
           "shape": "18"
          },
          "bdata": "etWbGs/YyT+YA5pr0PipP+iQmY4xqaA/LmbRHZPawT+GjMapvlXEP4TOjYBlFbg/e9pLtPsy0D99xPG2HzvQP1Kg/Dh7qcI/chxGvcdawT+ugx1zntXDP2TIlehyZL8/IsgQn05fzT9vLvENHnLUP5csdKb8MtM/Mq8G/9r4yT8WFHnKUyLGPwAAAAAAAPA/",
          "dtype": "f8"
         },
         "yaxis": "y"
        },
        {
         "customdata": [
          [
           "050_000_11",
           0.5,
           "050_000"
          ],
          [
           "050_000_04",
           0.5,
           "050_000"
          ],
          [
           "050_000_18",
           0.5,
           "050_000"
          ],
          [
           "050_000_17",
           0.5,
           "050_000"
          ],
          [
           "050_000_08",
           0.5,
           "050_000"
          ],
          [
           "050_000_20",
           0.5,
           "050_000"
          ],
          [
           "050_000_16",
           0.5,
           "050_000"
          ],
          [
           "050_000_13",
           0.5,
           "050_000"
          ],
          [
           "050_000_19",
           0.5,
           "050_000"
          ],
          [
           "050_000_10",
           0.5,
           "050_000"
          ],
          [
           "050_000_05",
           0.5,
           "050_000"
          ],
          [
           "050_000_06",
           0.5,
           "050_000"
          ],
          [
           "050_000_14",
           0.5,
           "050_000"
          ],
          [
           "050_000_09",
           0.5,
           "050_000"
          ],
          [
           "050_000_15",
           0.5,
           "050_000"
          ],
          [
           "050_000_07",
           0.5,
           "050_000"
          ],
          [
           "050_000_03",
           0.5,
           "050_000"
          ],
          [
           "050_000_12",
           0.5,
           "050_000"
          ]
         ],
         "hovertemplate": "e (excentricidad)=%{x:.2f}<br>Distancia mahalanobis=%{y:.4f}<br>id=%{customdata[0]}<br>q_float=%{customdata[1]:.2f}<extra></extra>",
         "legendgroup": "050_000",
         "marker": {
          "color": "#B6E880",
          "symbol": "circle"
         },
         "mode": "markers",
         "name": "050_000",
         "orientation": "v",
         "showlegend": true,
         "type": "scatter",
         "x": {
          "_inputArray": {
           "0": 0,
           "1": 0,
           "10": 0,
           "11": 0,
           "12": 0,
           "13": 0,
           "14": 0,
           "15": 0,
           "16": 0,
           "17": 0,
           "2": 0,
           "3": 0,
           "4": 0,
           "5": 0,
           "6": 0,
           "7": 0,
           "8": 0,
           "9": 0,
           "bdata": "AAAAAAAAAAAAAAAAAAAAAAAAAAAAAAAAAAAAAAAAAAAAAAAAAAAAAAAAAAAAAAAAAAAAAAAAAAAAAAAAAAAAAAAAAAAAAAAAAAAAAAAAAAAAAAAAAAAAAAAAAAAAAAAAAAAAAAAAAAAAAAAAAAAAAAAAAAAAAAAAAAAAAAAAAAAAAAAAAAAAAAAAAAAAAAAA",
           "dtype": "f8",
           "shape": "18"
          },
          "bdata": "AAAAAAAAAAAAAAAAAAAAAAAAAAAAAAAAAAAAAAAAAAAAAAAAAAAAAAAAAAAAAAAAAAAAAAAAAAAAAAAAAAAAAAAAAAAAAAAAAAAAAAAAAAAAAAAAAAAAAAAAAAAAAAAAAAAAAAAAAAAAAAAAAAAAAAAAAAAAAAAAAAAAAAAAAAAAAAAAAAAAAAAAAAAAAAAA",
          "dtype": "f8"
         },
         "xaxis": "x",
         "y": {
          "_inputArray": {
           "0": 0.07386921940755897,
           "1": 0.14028747625934884,
           "10": 0.15536564640822853,
           "11": 0.12997501507286896,
           "12": 0.17462637550874255,
           "13": 0.124104326550388,
           "14": 0.21906579876630788,
           "15": 0.24816691243248085,
           "16": 0.17561675887236422,
           "17": 0.2740369457282296,
           "2": 0.11871057530002321,
           "3": 0.03933431879302407,
           "4": 0.10999947137002636,
           "5": 0.16460781336580504,
           "6": 0.1234660108214845,
           "7": 0.29816723153814667,
           "8": 0.18668983350817187,
           "9": 0.18269140262261135,
           "bdata": "AFmJ2Rfpsj92QEml8PTBP5xamvbQY74/8CenuaAjpD+kjhzk7Ci8P/49iWveEcU/9Fal7nebvz8nfgwDLBXTP3bmtNRz5cc/TiLDj25ixz8SZB+BBePDP3p9hHMFo8A/yh7qNShaxj8cdtMXTcW/P+LLrxxZCsw/+mNs8u7Dzz/OP/4lnHrGPy8a80HSidE/",
           "dtype": "f8",
           "shape": "18"
          },
          "bdata": "AFmJ2Rfpsj92QEml8PTBP5xamvbQY74/8CenuaAjpD+kjhzk7Ci8P/49iWveEcU/9Fal7nebvz8nfgwDLBXTP3bmtNRz5cc/TiLDj25ixz8SZB+BBePDP3p9hHMFo8A/yh7qNShaxj8cdtMXTcW/P+LLrxxZCsw/+mNs8u7Dzz/OP/4lnHrGPy8a80HSidE/",
          "dtype": "f8"
         },
         "yaxis": "y"
        },
        {
         "customdata": [
          [
           "025_000_14",
           0.25,
           "025_000"
          ],
          [
           "025_000_04",
           0.25,
           "025_000"
          ],
          [
           "025_000_18",
           0.25,
           "025_000"
          ],
          [
           "025_000_12",
           0.25,
           "025_000"
          ],
          [
           "025_000_20",
           0.25,
           "025_000"
          ],
          [
           "025_000_15",
           0.25,
           "025_000"
          ],
          [
           "025_000_19",
           0.25,
           "025_000"
          ],
          [
           "025_000_11",
           0.25,
           "025_000"
          ],
          [
           "025_000_16",
           0.25,
           "025_000"
          ],
          [
           "025_000_10",
           0.25,
           "025_000"
          ],
          [
           "025_000_05",
           0.25,
           "025_000"
          ],
          [
           "025_000_06",
           0.25,
           "025_000"
          ],
          [
           "025_000_17",
           0.25,
           "025_000"
          ],
          [
           "025_000_08",
           0.25,
           "025_000"
          ],
          [
           "025_000_03",
           0.25,
           "025_000"
          ],
          [
           "025_000_09",
           0.25,
           "025_000"
          ],
          [
           "025_000_13",
           0.25,
           "025_000"
          ],
          [
           "025_000_07",
           0.25,
           "025_000"
          ]
         ],
         "hovertemplate": "e (excentricidad)=%{x:.2f}<br>Distancia mahalanobis=%{y:.4f}<br>id=%{customdata[0]}<br>q_float=%{customdata[1]:.2f}<extra></extra>",
         "legendgroup": "025_000",
         "marker": {
          "color": "#FF97FF",
          "symbol": "circle"
         },
         "mode": "markers",
         "name": "025_000",
         "orientation": "v",
         "showlegend": true,
         "type": "scatter",
         "x": {
          "_inputArray": {
           "0": 0,
           "1": 0,
           "10": 0,
           "11": 0,
           "12": 0,
           "13": 0,
           "14": 0,
           "15": 0,
           "16": 0,
           "17": 0,
           "2": 0,
           "3": 0,
           "4": 0,
           "5": 0,
           "6": 0,
           "7": 0,
           "8": 0,
           "9": 0,
           "bdata": "AAAAAAAAAAAAAAAAAAAAAAAAAAAAAAAAAAAAAAAAAAAAAAAAAAAAAAAAAAAAAAAAAAAAAAAAAAAAAAAAAAAAAAAAAAAAAAAAAAAAAAAAAAAAAAAAAAAAAAAAAAAAAAAAAAAAAAAAAAAAAAAAAAAAAAAAAAAAAAAAAAAAAAAAAAAAAAAAAAAAAAAAAAAAAAAA",
           "dtype": "f8",
           "shape": "18"
          },
          "bdata": "AAAAAAAAAAAAAAAAAAAAAAAAAAAAAAAAAAAAAAAAAAAAAAAAAAAAAAAAAAAAAAAAAAAAAAAAAAAAAAAAAAAAAAAAAAAAAAAAAAAAAAAAAAAAAAAAAAAAAAAAAAAAAAAAAAAAAAAAAAAAAAAAAAAAAAAAAAAAAAAAAAAAAAAAAAAAAAAAAAAAAAAAAAAAAAAA",
          "dtype": "f8"
         },
         "xaxis": "x",
         "y": {
          "_inputArray": {
           "0": 0.06151370610635032,
           "1": 0.08045012719073685,
           "10": 0.14723853029777795,
           "11": 0.18103375476364986,
           "12": 0.19628137733674683,
           "13": 0.23782878875604224,
           "14": 0.19659247922986328,
           "15": 0.20534312296785223,
           "16": 0.16585399995308397,
           "17": 0.3398425538188988,
           "2": 0.12155324883718382,
           "3": 0.06978419048198398,
           "4": 0.12703277391542517,
           "5": 0.24913970153761927,
           "6": 0.27829838013350244,
           "7": 0.09013943939850272,
           "8": 0.12180598258636027,
           "9": 0.18538182812754095,
           "bdata": "MA73d7l+rz/4RT4pYZi0P+RuehwdHr8/bODlb2DdsT8qU74knELAP5agHkvP488/uQBNAqTP0T8k3UvYYBO3P1RiqketLr8/Nk2KfJe6xz8ihytQttjCP3pKFzQdLMc/JtI8iL8fyT9Ck+B6LHHOP/JFdz7xKck/yn7N9q5Iyj+6ydowtDrFPxk+nPv6v9U/",
           "dtype": "f8",
           "shape": "18"
          },
          "bdata": "MA73d7l+rz/4RT4pYZi0P+RuehwdHr8/bODlb2DdsT8qU74knELAP5agHkvP488/uQBNAqTP0T8k3UvYYBO3P1RiqketLr8/Nk2KfJe6xz8ihytQttjCP3pKFzQdLMc/JtI8iL8fyT9Ck+B6LHHOP/JFdz7xKck/yn7N9q5Iyj+6ydowtDrFPxk+nPv6v9U/",
          "dtype": "f8"
         },
         "yaxis": "y"
        },
        {
         "customdata": [
          [
           "010_000_18",
           0.1,
           "010_000"
          ],
          [
           "010_000_10",
           0.1,
           "010_000"
          ],
          [
           "010_000_05",
           0.1,
           "010_000"
          ],
          [
           "010_000_13",
           0.1,
           "010_000"
          ],
          [
           "010_000_17",
           0.1,
           "010_000"
          ],
          [
           "010_000_16",
           0.1,
           "010_000"
          ],
          [
           "010_000_11",
           0.1,
           "010_000"
          ],
          [
           "010_000_15",
           0.1,
           "010_000"
          ],
          [
           "010_000_03",
           0.1,
           "010_000"
          ],
          [
           "010_000_19",
           0.1,
           "010_000"
          ],
          [
           "010_000_04",
           0.1,
           "010_000"
          ],
          [
           "010_000_20",
           0.1,
           "010_000"
          ],
          [
           "010_000_14",
           0.1,
           "010_000"
          ],
          [
           "010_000_07",
           0.1,
           "010_000"
          ],
          [
           "010_000_09",
           0.1,
           "010_000"
          ],
          [
           "010_000_12",
           0.1,
           "010_000"
          ],
          [
           "010_000_06",
           0.1,
           "010_000"
          ],
          [
           "010_000_08",
           0.1,
           "010_000"
          ]
         ],
         "hovertemplate": "e (excentricidad)=%{x:.2f}<br>Distancia mahalanobis=%{y:.4f}<br>id=%{customdata[0]}<br>q_float=%{customdata[1]:.2f}<extra></extra>",
         "legendgroup": "010_000",
         "marker": {
          "color": "#FECB52",
          "symbol": "circle"
         },
         "mode": "markers",
         "name": "010_000",
         "orientation": "v",
         "showlegend": true,
         "type": "scatter",
         "x": {
          "_inputArray": {
           "0": 0,
           "1": 0,
           "10": 0,
           "11": 0,
           "12": 0,
           "13": 0,
           "14": 0,
           "15": 0,
           "16": 0,
           "17": 0,
           "2": 0,
           "3": 0,
           "4": 0,
           "5": 0,
           "6": 0,
           "7": 0,
           "8": 0,
           "9": 0,
           "bdata": "AAAAAAAAAAAAAAAAAAAAAAAAAAAAAAAAAAAAAAAAAAAAAAAAAAAAAAAAAAAAAAAAAAAAAAAAAAAAAAAAAAAAAAAAAAAAAAAAAAAAAAAAAAAAAAAAAAAAAAAAAAAAAAAAAAAAAAAAAAAAAAAAAAAAAAAAAAAAAAAAAAAAAAAAAAAAAAAAAAAAAAAAAAAAAAAA",
           "dtype": "f8",
           "shape": "18"
          },
          "bdata": "AAAAAAAAAAAAAAAAAAAAAAAAAAAAAAAAAAAAAAAAAAAAAAAAAAAAAAAAAAAAAAAAAAAAAAAAAAAAAAAAAAAAAAAAAAAAAAAAAAAAAAAAAAAAAAAAAAAAAAAAAAAAAAAAAAAAAAAAAAAAAAAAAAAAAAAAAAAAAAAAAAAAAAAAAAAAAAAAAAAAAAAAAAAAAAAA",
          "dtype": "f8"
         },
         "xaxis": "x",
         "y": {
          "_inputArray": {
           "0": 0.2737218645204647,
           "1": 0.0986113481510697,
           "10": 0.18206591267641342,
           "11": 0.12009596453039989,
           "12": 0.20981387988051564,
           "13": 0.14972918847875755,
           "14": 0.20216143558164595,
           "15": 0.29109153071295096,
           "16": 0.28664205840406537,
           "17": 0.3931455657371817,
           "2": 0.13472633474751444,
           "3": 0.14503642621516372,
           "4": 0.05263329153751739,
           "5": 0.17720221388749596,
           "6": 0.28220512794097957,
           "7": 0.1372568291231177,
           "8": 0.15966606002190703,
           "9": 0.1968554166383401,
           "bdata": "yTEUtqiE0T+8xFLjlz65P1ZE02i2PsE//lKpuY2Qwj/AP6szwPKqP855tuiPrsY/u0fRGKYP0j8GRB68oZHBPz6iCf3vb8Q/okVA7I4yyT/mrlSS703HPxQmCvCbvr4/QrYqZC7byj/a7eJ3UyrDP0r0Kglt4Mk/RYAjXz6h0j+zOqDuV1jSP7km2gRMKdk/",
           "dtype": "f8",
           "shape": "18"
          },
          "bdata": "yTEUtqiE0T+8xFLjlz65P1ZE02i2PsE//lKpuY2Qwj/AP6szwPKqP855tuiPrsY/u0fRGKYP0j8GRB68oZHBPz6iCf3vb8Q/okVA7I4yyT/mrlSS703HPxQmCvCbvr4/QrYqZC7byj/a7eJ3UyrDP0r0Kglt4Mk/RYAjXz6h0j+zOqDuV1jSP7km2gRMKdk/",
          "dtype": "f8"
         },
         "yaxis": "y"
        },
        {
         "customdata": [
          [
           "100_070_15",
           1,
           "100_070"
          ],
          [
           "100_070_18",
           1,
           "100_070"
          ],
          [
           "100_070_12",
           1,
           "100_070"
          ],
          [
           "100_070_10",
           1,
           "100_070"
          ],
          [
           "100_070_17",
           1,
           "100_070"
          ],
          [
           "100_070_09",
           1,
           "100_070"
          ],
          [
           "100_070_06",
           1,
           "100_070"
          ],
          [
           "100_070_07",
           1,
           "100_070"
          ],
          [
           "100_070_11",
           1,
           "100_070"
          ],
          [
           "100_070_16",
           1,
           "100_070"
          ],
          [
           "100_070_20",
           1,
           "100_070"
          ],
          [
           "100_070_14",
           1,
           "100_070"
          ],
          [
           "100_070_13",
           1,
           "100_070"
          ],
          [
           "100_070_08",
           1,
           "100_070"
          ],
          [
           "100_070_19",
           1,
           "100_070"
          ],
          [
           "100_070_04",
           1,
           "100_070"
          ],
          [
           "100_070_05",
           1,
           "100_070"
          ],
          [
           "100_070_03",
           1,
           "100_070"
          ]
         ],
         "hovertemplate": "e (excentricidad)=%{x:.2f}<br>Distancia mahalanobis=%{y:.4f}<br>id=%{customdata[0]}<br>q_float=%{customdata[1]:.2f}<extra></extra>",
         "legendgroup": "100_070",
         "marker": {
          "color": "#636EFA",
          "symbol": "circle"
         },
         "mode": "markers",
         "name": "100_070",
         "orientation": "v",
         "showlegend": true,
         "type": "scatter",
         "x": {
          "_inputArray": {
           "0": 0.7,
           "1": 0.7,
           "10": 0.7,
           "11": 0.7,
           "12": 0.7,
           "13": 0.7,
           "14": 0.7,
           "15": 0.7,
           "16": 0.7,
           "17": 0.7,
           "2": 0.7,
           "3": 0.7,
           "4": 0.7,
           "5": 0.7,
           "6": 0.7,
           "7": 0.7,
           "8": 0.7,
           "9": 0.7,
           "bdata": "ZmZmZmZm5j9mZmZmZmbmP2ZmZmZmZuY/ZmZmZmZm5j9mZmZmZmbmP2ZmZmZmZuY/ZmZmZmZm5j9mZmZmZmbmP2ZmZmZmZuY/ZmZmZmZm5j9mZmZmZmbmP2ZmZmZmZuY/ZmZmZmZm5j9mZmZmZmbmP2ZmZmZmZuY/ZmZmZmZm5j9mZmZmZmbmP2ZmZmZmZuY/",
           "dtype": "f8",
           "shape": "18"
          },
          "bdata": "ZmZmZmZm5j9mZmZmZmbmP2ZmZmZmZuY/ZmZmZmZm5j9mZmZmZmbmP2ZmZmZmZuY/ZmZmZmZm5j9mZmZmZmbmP2ZmZmZmZuY/ZmZmZmZm5j9mZmZmZmbmP2ZmZmZmZuY/ZmZmZmZm5j9mZmZmZmbmP2ZmZmZmZuY/ZmZmZmZm5j9mZmZmZmbmP2ZmZmZmZuY/",
          "dtype": "f8"
         },
         "xaxis": "x",
         "y": {
          "_inputArray": {
           "0": 0.34215077713011405,
           "1": 0.1420159019564629,
           "10": 0.5733312304315132,
           "11": 0.2557870978087558,
           "12": 0.42080110927993736,
           "13": 0.43157513184190505,
           "14": 0.24847443396244268,
           "15": 0.38607646814284363,
           "16": 0.7598897901753665,
           "17": 0.6501379077365785,
           "2": 0.12675787599511118,
           "3": 0.2214758939579386,
           "4": 0.32208547058852105,
           "5": 0.40034141825641395,
           "6": 0.3917128309752019,
           "7": 0.1544220601346034,
           "8": 0.12731258413577645,
           "9": 0.25431322342115253,
           "bdata": "7cmEX8zl1T8aHTW7ky3CPxJo9CGaOcA/PmuzdFJZzD8pcqxgDJ3UP8dQqZwxn9k/hZKdsdIR2T+CjwchGsTDP46/nVzHS8A/MTBi+KpG0D8+Uo+8uljiP3Xz9NjQXtA/JZWexmfu2j+hyEFN7Z7bP/5h4Z8Czs8/z28bE3q12D+SwqtkBFHoP4LKcwPuzeQ/",
           "dtype": "f8",
           "shape": "18"
          },
          "bdata": "7cmEX8zl1T8aHTW7ky3CPxJo9CGaOcA/PmuzdFJZzD8pcqxgDJ3UP8dQqZwxn9k/hZKdsdIR2T+CjwchGsTDP46/nVzHS8A/MTBi+KpG0D8+Uo+8uljiP3Xz9NjQXtA/JZWexmfu2j+hyEFN7Z7bP/5h4Z8Czs8/z28bE3q12D+SwqtkBFHoP4LKcwPuzeQ/",
          "dtype": "f8"
         },
         "yaxis": "y"
        },
        {
         "hovertemplate": "<b>Objetivo</b><br>id: 100_050_20<br>q: 1.00<br>e: 0.50<br>mahalanobis: 0",
         "marker": {
          "color": "black",
          "line": {
           "color": "white",
           "width": 1
          },
          "size": 14,
          "symbol": "star"
         },
         "mode": "markers",
         "name": "Objetivo 100_050_20",
         "showlegend": true,
         "type": "scatter",
         "x": [
          0.5
         ],
         "y": [
          0
         ]
        }
       ],
       "layout": {
        "autosize": true,
        "legend": {
         "title": {
          "text": "q_e"
         },
         "tracegroupgap": 0
        },
        "template": {
         "data": {
          "bar": [
           {
            "error_x": {
             "color": "#2a3f5f"
            },
            "error_y": {
             "color": "#2a3f5f"
            },
            "marker": {
             "line": {
              "color": "white",
              "width": 0.5
             },
             "pattern": {
              "fillmode": "overlay",
              "size": 10,
              "solidity": 0.2
             }
            },
            "type": "bar"
           }
          ],
          "barpolar": [
           {
            "marker": {
             "line": {
              "color": "white",
              "width": 0.5
             },
             "pattern": {
              "fillmode": "overlay",
              "size": 10,
              "solidity": 0.2
             }
            },
            "type": "barpolar"
           }
          ],
          "carpet": [
           {
            "aaxis": {
             "endlinecolor": "#2a3f5f",
             "gridcolor": "#C8D4E3",
             "linecolor": "#C8D4E3",
             "minorgridcolor": "#C8D4E3",
             "startlinecolor": "#2a3f5f"
            },
            "baxis": {
             "endlinecolor": "#2a3f5f",
             "gridcolor": "#C8D4E3",
             "linecolor": "#C8D4E3",
             "minorgridcolor": "#C8D4E3",
             "startlinecolor": "#2a3f5f"
            },
            "type": "carpet"
           }
          ],
          "choropleth": [
           {
            "colorbar": {
             "outlinewidth": 0,
             "ticks": ""
            },
            "type": "choropleth"
           }
          ],
          "contour": [
           {
            "colorbar": {
             "outlinewidth": 0,
             "ticks": ""
            },
            "colorscale": [
             [
              0,
              "#0d0887"
             ],
             [
              0.1111111111111111,
              "#46039f"
             ],
             [
              0.2222222222222222,
              "#7201a8"
             ],
             [
              0.3333333333333333,
              "#9c179e"
             ],
             [
              0.4444444444444444,
              "#bd3786"
             ],
             [
              0.5555555555555556,
              "#d8576b"
             ],
             [
              0.6666666666666666,
              "#ed7953"
             ],
             [
              0.7777777777777778,
              "#fb9f3a"
             ],
             [
              0.8888888888888888,
              "#fdca26"
             ],
             [
              1,
              "#f0f921"
             ]
            ],
            "type": "contour"
           }
          ],
          "contourcarpet": [
           {
            "colorbar": {
             "outlinewidth": 0,
             "ticks": ""
            },
            "type": "contourcarpet"
           }
          ],
          "heatmap": [
           {
            "colorbar": {
             "outlinewidth": 0,
             "ticks": ""
            },
            "colorscale": [
             [
              0,
              "#0d0887"
             ],
             [
              0.1111111111111111,
              "#46039f"
             ],
             [
              0.2222222222222222,
              "#7201a8"
             ],
             [
              0.3333333333333333,
              "#9c179e"
             ],
             [
              0.4444444444444444,
              "#bd3786"
             ],
             [
              0.5555555555555556,
              "#d8576b"
             ],
             [
              0.6666666666666666,
              "#ed7953"
             ],
             [
              0.7777777777777778,
              "#fb9f3a"
             ],
             [
              0.8888888888888888,
              "#fdca26"
             ],
             [
              1,
              "#f0f921"
             ]
            ],
            "type": "heatmap"
           }
          ],
          "histogram": [
           {
            "marker": {
             "pattern": {
              "fillmode": "overlay",
              "size": 10,
              "solidity": 0.2
             }
            },
            "type": "histogram"
           }
          ],
          "histogram2d": [
           {
            "colorbar": {
             "outlinewidth": 0,
             "ticks": ""
            },
            "colorscale": [
             [
              0,
              "#0d0887"
             ],
             [
              0.1111111111111111,
              "#46039f"
             ],
             [
              0.2222222222222222,
              "#7201a8"
             ],
             [
              0.3333333333333333,
              "#9c179e"
             ],
             [
              0.4444444444444444,
              "#bd3786"
             ],
             [
              0.5555555555555556,
              "#d8576b"
             ],
             [
              0.6666666666666666,
              "#ed7953"
             ],
             [
              0.7777777777777778,
              "#fb9f3a"
             ],
             [
              0.8888888888888888,
              "#fdca26"
             ],
             [
              1,
              "#f0f921"
             ]
            ],
            "type": "histogram2d"
           }
          ],
          "histogram2dcontour": [
           {
            "colorbar": {
             "outlinewidth": 0,
             "ticks": ""
            },
            "colorscale": [
             [
              0,
              "#0d0887"
             ],
             [
              0.1111111111111111,
              "#46039f"
             ],
             [
              0.2222222222222222,
              "#7201a8"
             ],
             [
              0.3333333333333333,
              "#9c179e"
             ],
             [
              0.4444444444444444,
              "#bd3786"
             ],
             [
              0.5555555555555556,
              "#d8576b"
             ],
             [
              0.6666666666666666,
              "#ed7953"
             ],
             [
              0.7777777777777778,
              "#fb9f3a"
             ],
             [
              0.8888888888888888,
              "#fdca26"
             ],
             [
              1,
              "#f0f921"
             ]
            ],
            "type": "histogram2dcontour"
           }
          ],
          "mesh3d": [
           {
            "colorbar": {
             "outlinewidth": 0,
             "ticks": ""
            },
            "type": "mesh3d"
           }
          ],
          "parcoords": [
           {
            "line": {
             "colorbar": {
              "outlinewidth": 0,
              "ticks": ""
             }
            },
            "type": "parcoords"
           }
          ],
          "pie": [
           {
            "automargin": true,
            "type": "pie"
           }
          ],
          "scatter": [
           {
            "fillpattern": {
             "fillmode": "overlay",
             "size": 10,
             "solidity": 0.2
            },
            "type": "scatter"
           }
          ],
          "scatter3d": [
           {
            "line": {
             "colorbar": {
              "outlinewidth": 0,
              "ticks": ""
             }
            },
            "marker": {
             "colorbar": {
              "outlinewidth": 0,
              "ticks": ""
             }
            },
            "type": "scatter3d"
           }
          ],
          "scattercarpet": [
           {
            "marker": {
             "colorbar": {
              "outlinewidth": 0,
              "ticks": ""
             }
            },
            "type": "scattercarpet"
           }
          ],
          "scattergeo": [
           {
            "marker": {
             "colorbar": {
              "outlinewidth": 0,
              "ticks": ""
             }
            },
            "type": "scattergeo"
           }
          ],
          "scattergl": [
           {
            "marker": {
             "colorbar": {
              "outlinewidth": 0,
              "ticks": ""
             }
            },
            "type": "scattergl"
           }
          ],
          "scattermap": [
           {
            "marker": {
             "colorbar": {
              "outlinewidth": 0,
              "ticks": ""
             }
            },
            "type": "scattermap"
           }
          ],
          "scattermapbox": [
           {
            "marker": {
             "colorbar": {
              "outlinewidth": 0,
              "ticks": ""
             }
            },
            "type": "scattermapbox"
           }
          ],
          "scatterpolar": [
           {
            "marker": {
             "colorbar": {
              "outlinewidth": 0,
              "ticks": ""
             }
            },
            "type": "scatterpolar"
           }
          ],
          "scatterpolargl": [
           {
            "marker": {
             "colorbar": {
              "outlinewidth": 0,
              "ticks": ""
             }
            },
            "type": "scatterpolargl"
           }
          ],
          "scatterternary": [
           {
            "marker": {
             "colorbar": {
              "outlinewidth": 0,
              "ticks": ""
             }
            },
            "type": "scatterternary"
           }
          ],
          "surface": [
           {
            "colorbar": {
             "outlinewidth": 0,
             "ticks": ""
            },
            "colorscale": [
             [
              0,
              "#0d0887"
             ],
             [
              0.1111111111111111,
              "#46039f"
             ],
             [
              0.2222222222222222,
              "#7201a8"
             ],
             [
              0.3333333333333333,
              "#9c179e"
             ],
             [
              0.4444444444444444,
              "#bd3786"
             ],
             [
              0.5555555555555556,
              "#d8576b"
             ],
             [
              0.6666666666666666,
              "#ed7953"
             ],
             [
              0.7777777777777778,
              "#fb9f3a"
             ],
             [
              0.8888888888888888,
              "#fdca26"
             ],
             [
              1,
              "#f0f921"
             ]
            ],
            "type": "surface"
           }
          ],
          "table": [
           {
            "cells": {
             "fill": {
              "color": "#EBF0F8"
             },
             "line": {
              "color": "white"
             }
            },
            "header": {
             "fill": {
              "color": "#C8D4E3"
             },
             "line": {
              "color": "white"
             }
            },
            "type": "table"
           }
          ]
         },
         "layout": {
          "annotationdefaults": {
           "arrowcolor": "#2a3f5f",
           "arrowhead": 0,
           "arrowwidth": 1
          },
          "autotypenumbers": "strict",
          "coloraxis": {
           "colorbar": {
            "outlinewidth": 0,
            "ticks": ""
           }
          },
          "colorscale": {
           "diverging": [
            [
             0,
             "#8e0152"
            ],
            [
             0.1,
             "#c51b7d"
            ],
            [
             0.2,
             "#de77ae"
            ],
            [
             0.3,
             "#f1b6da"
            ],
            [
             0.4,
             "#fde0ef"
            ],
            [
             0.5,
             "#f7f7f7"
            ],
            [
             0.6,
             "#e6f5d0"
            ],
            [
             0.7,
             "#b8e186"
            ],
            [
             0.8,
             "#7fbc41"
            ],
            [
             0.9,
             "#4d9221"
            ],
            [
             1,
             "#276419"
            ]
           ],
           "sequential": [
            [
             0,
             "#0d0887"
            ],
            [
             0.1111111111111111,
             "#46039f"
            ],
            [
             0.2222222222222222,
             "#7201a8"
            ],
            [
             0.3333333333333333,
             "#9c179e"
            ],
            [
             0.4444444444444444,
             "#bd3786"
            ],
            [
             0.5555555555555556,
             "#d8576b"
            ],
            [
             0.6666666666666666,
             "#ed7953"
            ],
            [
             0.7777777777777778,
             "#fb9f3a"
            ],
            [
             0.8888888888888888,
             "#fdca26"
            ],
            [
             1,
             "#f0f921"
            ]
           ],
           "sequentialminus": [
            [
             0,
             "#0d0887"
            ],
            [
             0.1111111111111111,
             "#46039f"
            ],
            [
             0.2222222222222222,
             "#7201a8"
            ],
            [
             0.3333333333333333,
             "#9c179e"
            ],
            [
             0.4444444444444444,
             "#bd3786"
            ],
            [
             0.5555555555555556,
             "#d8576b"
            ],
            [
             0.6666666666666666,
             "#ed7953"
            ],
            [
             0.7777777777777778,
             "#fb9f3a"
            ],
            [
             0.8888888888888888,
             "#fdca26"
            ],
            [
             1,
             "#f0f921"
            ]
           ]
          },
          "colorway": [
           "#636efa",
           "#EF553B",
           "#00cc96",
           "#ab63fa",
           "#FFA15A",
           "#19d3f3",
           "#FF6692",
           "#B6E880",
           "#FF97FF",
           "#FECB52"
          ],
          "font": {
           "color": "#2a3f5f"
          },
          "geo": {
           "bgcolor": "white",
           "lakecolor": "white",
           "landcolor": "white",
           "showlakes": true,
           "showland": true,
           "subunitcolor": "#C8D4E3"
          },
          "hoverlabel": {
           "align": "left"
          },
          "hovermode": "closest",
          "mapbox": {
           "style": "light"
          },
          "paper_bgcolor": "white",
          "plot_bgcolor": "white",
          "polar": {
           "angularaxis": {
            "gridcolor": "#EBF0F8",
            "linecolor": "#EBF0F8",
            "ticks": ""
           },
           "bgcolor": "white",
           "radialaxis": {
            "gridcolor": "#EBF0F8",
            "linecolor": "#EBF0F8",
            "ticks": ""
           }
          },
          "scene": {
           "xaxis": {
            "backgroundcolor": "white",
            "gridcolor": "#DFE8F3",
            "gridwidth": 2,
            "linecolor": "#EBF0F8",
            "showbackground": true,
            "ticks": "",
            "zerolinecolor": "#EBF0F8"
           },
           "yaxis": {
            "backgroundcolor": "white",
            "gridcolor": "#DFE8F3",
            "gridwidth": 2,
            "linecolor": "#EBF0F8",
            "showbackground": true,
            "ticks": "",
            "zerolinecolor": "#EBF0F8"
           },
           "zaxis": {
            "backgroundcolor": "white",
            "gridcolor": "#DFE8F3",
            "gridwidth": 2,
            "linecolor": "#EBF0F8",
            "showbackground": true,
            "ticks": "",
            "zerolinecolor": "#EBF0F8"
           }
          },
          "shapedefaults": {
           "line": {
            "color": "#2a3f5f"
           }
          },
          "ternary": {
           "aaxis": {
            "gridcolor": "#DFE8F3",
            "linecolor": "#A2B1C6",
            "ticks": ""
           },
           "baxis": {
            "gridcolor": "#DFE8F3",
            "linecolor": "#A2B1C6",
            "ticks": ""
           },
           "bgcolor": "white",
           "caxis": {
            "gridcolor": "#DFE8F3",
            "linecolor": "#A2B1C6",
            "ticks": ""
           }
          },
          "title": {
           "x": 0.05
          },
          "xaxis": {
           "automargin": true,
           "gridcolor": "#EBF0F8",
           "linecolor": "#EBF0F8",
           "ticks": "",
           "title": {
            "standoff": 15
           },
           "zerolinecolor": "#EBF0F8",
           "zerolinewidth": 2
          },
          "yaxis": {
           "automargin": true,
           "gridcolor": "#EBF0F8",
           "linecolor": "#EBF0F8",
           "ticks": "",
           "title": {
            "standoff": 15
           },
           "zerolinecolor": "#EBF0F8",
           "zerolinewidth": 2
          }
         }
        },
        "title": {
         "text": "mahalanobis vs e"
        },
        "xaxis": {
         "anchor": "y",
         "autorange": true,
         "domain": [
          0,
          1
         ],
         "range": [
          -0.04296700223713646,
          0.7429670022371364
         ],
         "title": {
          "text": "e (excentricidad)"
         },
         "type": "linear"
        },
        "yaxis": {
         "anchor": "x",
         "autorange": true,
         "domain": [
          0,
          1
         ],
         "range": [
          -0.11872909698996656,
          1.085284280936455
         ],
         "title": {
          "text": "Distancia mahalanobis"
         },
         "type": "linear"
        }
       }
      },
      "image/png": "[encoded data removed]"
     },
     "metadata": {},
     "output_type": "display_data"
    }
   ],
   "source": [
    "plot_distance_vs_e_interactive(\n",
    "    distances,\n",
    "    distance=\"mahalanobis\",\n",
    "    manual_colors=manual,\n",
    "    title=\"mahalanobis vs e\"\n",
    ")"
   ]
  },
  {
   "cell_type": "code",
   "execution_count": 26,
   "id": "11ce018d-2f77-48d4-a47f-fc8d6c6b7ba1",
   "metadata": {},
   "outputs": [],
   "source": [
    "#jugar con ruido\n",
    "# jugar con periodos"
   ]
  },
  {
   "cell_type": "code",
   "execution_count": null,
   "id": "db2e0a96-b5fa-42e0-8d96-2c72651915f3",
   "metadata": {},
   "outputs": [],
   "source": []
  }
 ],
 "metadata": {
  "kernelspec": {
   "display_name": "Python 3 (ipykernel)",
   "language": "python",
   "name": "python3"
  },
  "language_info": {
   "codemirror_mode": {
    "name": "ipython",
    "version": 3
   },
   "file_extension": ".py",
   "mimetype": "text/x-python",
   "name": "python",
   "nbconvert_exporter": "python",
   "pygments_lexer": "ipython3",
   "version": "3.12.0"
  }
 },
 "nbformat": 4,
 "nbformat_minor": 5
}
